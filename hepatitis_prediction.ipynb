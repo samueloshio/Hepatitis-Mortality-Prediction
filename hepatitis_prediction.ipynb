{
 "cells": [
  {
   "cell_type": "markdown",
   "id": "113032bb-3fef-4520-8a77-08f6461018b8",
   "metadata": {},
   "source": [
    "# Data Prep\n",
    "### Data wrangling\n",
    "+ The basic stage where we prepare the data for analysis"
   ]
  },
  {
   "cell_type": "code",
   "execution_count": 1,
   "id": "ddc0a6c5-839e-4df4-916e-ca4ba38925cb",
   "metadata": {},
   "outputs": [],
   "source": [
    "# import modules\n",
    "import numpy as np\n",
    "import pandas as pd\n",
    "import matplotlib.pyplot as plt # for visualization \n",
    "import seaborn as sns # for visualization \n"
   ]
  },
  {
   "cell_type": "code",
   "execution_count": 22,
   "id": "a72a2b9f-b836-4546-85ff-94d309068302",
   "metadata": {},
   "outputs": [],
   "source": [
    "# The header name extracted from `hepatits.name` included in the `data directory`\n",
    "headers = [\"Class\", \"AGE\", \"SEX\", \"STEROID\", \"ANTIVIRALS\", \"FATIGUE\", \"MALAISE\", \"ANOREXIA\", \"LIVER BIG\", \"LIVER FIRM\", \"SPLEEN PALPABLE\", \"SPIDERS\", \"ASCITES\", \"VARICES\", \"BILIRUBIN\", \"ALK PHOSPHATE\", \"SGOT\", \"ALBUMIN\", \"PROTIME\", \"HISTOLOGY\"]\n",
    "\n",
    "# Loading dataset \n",
    "df = pd.read_csv('data/hepatitis.data', names=headers)"
   ]
  },
  {
   "cell_type": "code",
   "execution_count": 23,
   "id": "c0428734-7387-4aba-8681-7b160e6f39fc",
   "metadata": {},
   "outputs": [
    {
     "data": {
      "text/html": [
       "<div>\n",
       "<style scoped>\n",
       "    .dataframe tbody tr th:only-of-type {\n",
       "        vertical-align: middle;\n",
       "    }\n",
       "\n",
       "    .dataframe tbody tr th {\n",
       "        vertical-align: top;\n",
       "    }\n",
       "\n",
       "    .dataframe thead th {\n",
       "        text-align: right;\n",
       "    }\n",
       "</style>\n",
       "<table border=\"1\" class=\"dataframe\">\n",
       "  <thead>\n",
       "    <tr style=\"text-align: right;\">\n",
       "      <th></th>\n",
       "      <th>Class</th>\n",
       "      <th>AGE</th>\n",
       "      <th>SEX</th>\n",
       "      <th>STEROID</th>\n",
       "      <th>ANTIVIRALS</th>\n",
       "      <th>FATIGUE</th>\n",
       "      <th>MALAISE</th>\n",
       "      <th>ANOREXIA</th>\n",
       "      <th>LIVER BIG</th>\n",
       "      <th>LIVER FIRM</th>\n",
       "      <th>SPLEEN PALPABLE</th>\n",
       "      <th>SPIDERS</th>\n",
       "      <th>ASCITES</th>\n",
       "      <th>VARICES</th>\n",
       "      <th>BILIRUBIN</th>\n",
       "      <th>ALK PHOSPHATE</th>\n",
       "      <th>SGOT</th>\n",
       "      <th>ALBUMIN</th>\n",
       "      <th>PROTIME</th>\n",
       "      <th>HISTOLOGY</th>\n",
       "    </tr>\n",
       "  </thead>\n",
       "  <tbody>\n",
       "    <tr>\n",
       "      <th>0</th>\n",
       "      <td>2</td>\n",
       "      <td>30</td>\n",
       "      <td>2</td>\n",
       "      <td>1</td>\n",
       "      <td>2</td>\n",
       "      <td>2</td>\n",
       "      <td>2</td>\n",
       "      <td>2</td>\n",
       "      <td>1</td>\n",
       "      <td>2</td>\n",
       "      <td>2</td>\n",
       "      <td>2</td>\n",
       "      <td>2</td>\n",
       "      <td>2</td>\n",
       "      <td>1.00</td>\n",
       "      <td>85</td>\n",
       "      <td>18</td>\n",
       "      <td>4.0</td>\n",
       "      <td>?</td>\n",
       "      <td>1</td>\n",
       "    </tr>\n",
       "    <tr>\n",
       "      <th>1</th>\n",
       "      <td>2</td>\n",
       "      <td>50</td>\n",
       "      <td>1</td>\n",
       "      <td>1</td>\n",
       "      <td>2</td>\n",
       "      <td>1</td>\n",
       "      <td>2</td>\n",
       "      <td>2</td>\n",
       "      <td>1</td>\n",
       "      <td>2</td>\n",
       "      <td>2</td>\n",
       "      <td>2</td>\n",
       "      <td>2</td>\n",
       "      <td>2</td>\n",
       "      <td>0.90</td>\n",
       "      <td>135</td>\n",
       "      <td>42</td>\n",
       "      <td>3.5</td>\n",
       "      <td>?</td>\n",
       "      <td>1</td>\n",
       "    </tr>\n",
       "    <tr>\n",
       "      <th>2</th>\n",
       "      <td>2</td>\n",
       "      <td>78</td>\n",
       "      <td>1</td>\n",
       "      <td>2</td>\n",
       "      <td>2</td>\n",
       "      <td>1</td>\n",
       "      <td>2</td>\n",
       "      <td>2</td>\n",
       "      <td>2</td>\n",
       "      <td>2</td>\n",
       "      <td>2</td>\n",
       "      <td>2</td>\n",
       "      <td>2</td>\n",
       "      <td>2</td>\n",
       "      <td>0.70</td>\n",
       "      <td>96</td>\n",
       "      <td>32</td>\n",
       "      <td>4.0</td>\n",
       "      <td>?</td>\n",
       "      <td>1</td>\n",
       "    </tr>\n",
       "    <tr>\n",
       "      <th>3</th>\n",
       "      <td>2</td>\n",
       "      <td>31</td>\n",
       "      <td>1</td>\n",
       "      <td>?</td>\n",
       "      <td>1</td>\n",
       "      <td>2</td>\n",
       "      <td>2</td>\n",
       "      <td>2</td>\n",
       "      <td>2</td>\n",
       "      <td>2</td>\n",
       "      <td>2</td>\n",
       "      <td>2</td>\n",
       "      <td>2</td>\n",
       "      <td>2</td>\n",
       "      <td>0.70</td>\n",
       "      <td>46</td>\n",
       "      <td>52</td>\n",
       "      <td>4.0</td>\n",
       "      <td>80</td>\n",
       "      <td>1</td>\n",
       "    </tr>\n",
       "    <tr>\n",
       "      <th>4</th>\n",
       "      <td>2</td>\n",
       "      <td>34</td>\n",
       "      <td>1</td>\n",
       "      <td>2</td>\n",
       "      <td>2</td>\n",
       "      <td>2</td>\n",
       "      <td>2</td>\n",
       "      <td>2</td>\n",
       "      <td>2</td>\n",
       "      <td>2</td>\n",
       "      <td>2</td>\n",
       "      <td>2</td>\n",
       "      <td>2</td>\n",
       "      <td>2</td>\n",
       "      <td>1.00</td>\n",
       "      <td>?</td>\n",
       "      <td>200</td>\n",
       "      <td>4.0</td>\n",
       "      <td>?</td>\n",
       "      <td>1</td>\n",
       "    </tr>\n",
       "  </tbody>\n",
       "</table>\n",
       "</div>"
      ],
      "text/plain": [
       "   Class  AGE  SEX STEROID  ANTIVIRALS FATIGUE MALAISE ANOREXIA LIVER BIG  \\\n",
       "0      2   30    2       1           2       2       2        2         1   \n",
       "1      2   50    1       1           2       1       2        2         1   \n",
       "2      2   78    1       2           2       1       2        2         2   \n",
       "3      2   31    1       ?           1       2       2        2         2   \n",
       "4      2   34    1       2           2       2       2        2         2   \n",
       "\n",
       "  LIVER FIRM SPLEEN PALPABLE SPIDERS ASCITES VARICES BILIRUBIN ALK PHOSPHATE  \\\n",
       "0          2               2       2       2       2      1.00            85   \n",
       "1          2               2       2       2       2      0.90           135   \n",
       "2          2               2       2       2       2      0.70            96   \n",
       "3          2               2       2       2       2      0.70            46   \n",
       "4          2               2       2       2       2      1.00             ?   \n",
       "\n",
       "  SGOT ALBUMIN PROTIME  HISTOLOGY  \n",
       "0   18     4.0       ?          1  \n",
       "1   42     3.5       ?          1  \n",
       "2   32     4.0       ?          1  \n",
       "3   52     4.0      80          1  \n",
       "4  200     4.0       ?          1  "
      ]
     },
     "execution_count": 23,
     "metadata": {},
     "output_type": "execute_result"
    }
   ],
   "source": [
    "# showing top 5 samples\n",
    "df.head()"
   ]
  },
  {
   "cell_type": "code",
   "execution_count": 4,
   "id": "bf99a0b0-d78e-4501-81c9-7d21e68700c5",
   "metadata": {},
   "outputs": [
    {
     "data": {
      "text/plain": [
       "Index(['Class', 'AGE', 'SEX', 'STEROID', 'ANTIVIRALS', 'FATIGUE', 'MALAISE',\n",
       "       'ANOREXIA', 'LIVER BIG', 'LIVER FIRM', 'SPLEEN PALPABLE', 'SPIDERS',\n",
       "       'ASCITES', 'VARICES', 'BILIRUBIN', 'ALK PHOSPHATE', 'SGOT', 'ALBUMIN',\n",
       "       'PROTIME', 'HISTOLOGY'],\n",
       "      dtype='object')"
      ]
     },
     "execution_count": 4,
     "metadata": {},
     "output_type": "execute_result"
    }
   ],
   "source": [
    "df.columns"
   ]
  },
  {
   "cell_type": "markdown",
   "id": "77bae01a-9c40-4ba5-a325-57805c15b99a",
   "metadata": {},
   "source": [
    "#### OBSERVATIONS\n",
    "+ The column headers have irregular formatting and linespaces\n",
    "+ Column header required further clearning"
   ]
  },
  {
   "cell_type": "code",
   "execution_count": 24,
   "id": "0596fc6d-2bdb-4e01-9a3a-4ae66be7da03",
   "metadata": {},
   "outputs": [],
   "source": [
    "# reformatting and removing line space in the column names\n",
    "df.columns = df.columns.str.lower().str.replace(\" \", \"_\")"
   ]
  },
  {
   "cell_type": "code",
   "execution_count": 25,
   "id": "971c9f22-03c6-444e-923c-5348ccb26d1b",
   "metadata": {},
   "outputs": [
    {
     "data": {
      "text/plain": [
       "Index(['class', 'age', 'sex', 'steroid', 'antivirals', 'fatigue', 'malaise',\n",
       "       'anorexia', 'liver_big', 'liver_firm', 'spleen_palpable', 'spiders',\n",
       "       'ascites', 'varices', 'bilirubin', 'alk_phosphate', 'sgot', 'albumin',\n",
       "       'protime', 'histology'],\n",
       "      dtype='object')"
      ]
     },
     "execution_count": 25,
     "metadata": {},
     "output_type": "execute_result"
    }
   ],
   "source": [
    "df.columns"
   ]
  },
  {
   "cell_type": "code",
   "execution_count": 26,
   "id": "71d2de00-987c-4abe-a7c6-030bc361c1fe",
   "metadata": {},
   "outputs": [
    {
     "data": {
      "text/html": [
       "<div>\n",
       "<style scoped>\n",
       "    .dataframe tbody tr th:only-of-type {\n",
       "        vertical-align: middle;\n",
       "    }\n",
       "\n",
       "    .dataframe tbody tr th {\n",
       "        vertical-align: top;\n",
       "    }\n",
       "\n",
       "    .dataframe thead th {\n",
       "        text-align: right;\n",
       "    }\n",
       "</style>\n",
       "<table border=\"1\" class=\"dataframe\">\n",
       "  <thead>\n",
       "    <tr style=\"text-align: right;\">\n",
       "      <th></th>\n",
       "      <th>class</th>\n",
       "      <th>age</th>\n",
       "      <th>sex</th>\n",
       "      <th>steroid</th>\n",
       "      <th>antivirals</th>\n",
       "      <th>fatigue</th>\n",
       "      <th>malaise</th>\n",
       "      <th>anorexia</th>\n",
       "      <th>liver_big</th>\n",
       "      <th>liver_firm</th>\n",
       "      <th>spleen_palpable</th>\n",
       "      <th>spiders</th>\n",
       "      <th>ascites</th>\n",
       "      <th>varices</th>\n",
       "      <th>bilirubin</th>\n",
       "      <th>alk_phosphate</th>\n",
       "      <th>sgot</th>\n",
       "      <th>albumin</th>\n",
       "      <th>protime</th>\n",
       "      <th>histology</th>\n",
       "    </tr>\n",
       "  </thead>\n",
       "  <tbody>\n",
       "    <tr>\n",
       "      <th>0</th>\n",
       "      <td>2</td>\n",
       "      <td>30</td>\n",
       "      <td>2</td>\n",
       "      <td>1</td>\n",
       "      <td>2</td>\n",
       "      <td>2</td>\n",
       "      <td>2</td>\n",
       "      <td>2</td>\n",
       "      <td>1</td>\n",
       "      <td>2</td>\n",
       "      <td>2</td>\n",
       "      <td>2</td>\n",
       "      <td>2</td>\n",
       "      <td>2</td>\n",
       "      <td>1.00</td>\n",
       "      <td>85</td>\n",
       "      <td>18</td>\n",
       "      <td>4.0</td>\n",
       "      <td>?</td>\n",
       "      <td>1</td>\n",
       "    </tr>\n",
       "    <tr>\n",
       "      <th>1</th>\n",
       "      <td>2</td>\n",
       "      <td>50</td>\n",
       "      <td>1</td>\n",
       "      <td>1</td>\n",
       "      <td>2</td>\n",
       "      <td>1</td>\n",
       "      <td>2</td>\n",
       "      <td>2</td>\n",
       "      <td>1</td>\n",
       "      <td>2</td>\n",
       "      <td>2</td>\n",
       "      <td>2</td>\n",
       "      <td>2</td>\n",
       "      <td>2</td>\n",
       "      <td>0.90</td>\n",
       "      <td>135</td>\n",
       "      <td>42</td>\n",
       "      <td>3.5</td>\n",
       "      <td>?</td>\n",
       "      <td>1</td>\n",
       "    </tr>\n",
       "    <tr>\n",
       "      <th>2</th>\n",
       "      <td>2</td>\n",
       "      <td>78</td>\n",
       "      <td>1</td>\n",
       "      <td>2</td>\n",
       "      <td>2</td>\n",
       "      <td>1</td>\n",
       "      <td>2</td>\n",
       "      <td>2</td>\n",
       "      <td>2</td>\n",
       "      <td>2</td>\n",
       "      <td>2</td>\n",
       "      <td>2</td>\n",
       "      <td>2</td>\n",
       "      <td>2</td>\n",
       "      <td>0.70</td>\n",
       "      <td>96</td>\n",
       "      <td>32</td>\n",
       "      <td>4.0</td>\n",
       "      <td>?</td>\n",
       "      <td>1</td>\n",
       "    </tr>\n",
       "    <tr>\n",
       "      <th>3</th>\n",
       "      <td>2</td>\n",
       "      <td>31</td>\n",
       "      <td>1</td>\n",
       "      <td>?</td>\n",
       "      <td>1</td>\n",
       "      <td>2</td>\n",
       "      <td>2</td>\n",
       "      <td>2</td>\n",
       "      <td>2</td>\n",
       "      <td>2</td>\n",
       "      <td>2</td>\n",
       "      <td>2</td>\n",
       "      <td>2</td>\n",
       "      <td>2</td>\n",
       "      <td>0.70</td>\n",
       "      <td>46</td>\n",
       "      <td>52</td>\n",
       "      <td>4.0</td>\n",
       "      <td>80</td>\n",
       "      <td>1</td>\n",
       "    </tr>\n",
       "    <tr>\n",
       "      <th>4</th>\n",
       "      <td>2</td>\n",
       "      <td>34</td>\n",
       "      <td>1</td>\n",
       "      <td>2</td>\n",
       "      <td>2</td>\n",
       "      <td>2</td>\n",
       "      <td>2</td>\n",
       "      <td>2</td>\n",
       "      <td>2</td>\n",
       "      <td>2</td>\n",
       "      <td>2</td>\n",
       "      <td>2</td>\n",
       "      <td>2</td>\n",
       "      <td>2</td>\n",
       "      <td>1.00</td>\n",
       "      <td>?</td>\n",
       "      <td>200</td>\n",
       "      <td>4.0</td>\n",
       "      <td>?</td>\n",
       "      <td>1</td>\n",
       "    </tr>\n",
       "  </tbody>\n",
       "</table>\n",
       "</div>"
      ],
      "text/plain": [
       "   class  age  sex steroid  antivirals fatigue malaise anorexia liver_big  \\\n",
       "0      2   30    2       1           2       2       2        2         1   \n",
       "1      2   50    1       1           2       1       2        2         1   \n",
       "2      2   78    1       2           2       1       2        2         2   \n",
       "3      2   31    1       ?           1       2       2        2         2   \n",
       "4      2   34    1       2           2       2       2        2         2   \n",
       "\n",
       "  liver_firm spleen_palpable spiders ascites varices bilirubin alk_phosphate  \\\n",
       "0          2               2       2       2       2      1.00            85   \n",
       "1          2               2       2       2       2      0.90           135   \n",
       "2          2               2       2       2       2      0.70            96   \n",
       "3          2               2       2       2       2      0.70            46   \n",
       "4          2               2       2       2       2      1.00             ?   \n",
       "\n",
       "  sgot albumin protime  histology  \n",
       "0   18     4.0       ?          1  \n",
       "1   42     3.5       ?          1  \n",
       "2   32     4.0       ?          1  \n",
       "3   52     4.0      80          1  \n",
       "4  200     4.0       ?          1  "
      ]
     },
     "execution_count": 26,
     "metadata": {},
     "output_type": "execute_result"
    }
   ],
   "source": [
    "df.head()"
   ]
  },
  {
   "cell_type": "code",
   "execution_count": 27,
   "id": "6d682e54-c024-41bb-952f-86072707dd87",
   "metadata": {},
   "outputs": [
    {
     "data": {
      "text/plain": [
       "(155, 20)"
      ]
     },
     "execution_count": 27,
     "metadata": {},
     "output_type": "execute_result"
    }
   ],
   "source": [
    "df.shape"
   ]
  },
  {
   "cell_type": "markdown",
   "id": "baa98ca1-0f2f-4ab1-a29c-5bf291cbb97c",
   "metadata": {},
   "source": [
    "#### OBSERVATIONS\n",
    "+ Data contain 155 rows and 20 columns"
   ]
  },
  {
   "cell_type": "code",
   "execution_count": 36,
   "id": "cf872e0b-b103-4681-b768-b1475b1a6945",
   "metadata": {},
   "outputs": [
    {
     "data": {
      "text/plain": [
       "class               0\n",
       "age                 0\n",
       "sex                 0\n",
       "steroid             1\n",
       "antivirals          0\n",
       "fatigue             1\n",
       "malaise             1\n",
       "anorexia            1\n",
       "liver_big          10\n",
       "liver_firm         11\n",
       "spleen_palpable     5\n",
       "spiders             5\n",
       "ascites             5\n",
       "varices             5\n",
       "bilirubin           6\n",
       "alk_phosphate      29\n",
       "sgot                4\n",
       "albumin            16\n",
       "protime            67\n",
       "histology           0\n",
       "dtype: int64"
      ]
     },
     "execution_count": 36,
     "metadata": {},
     "output_type": "execute_result"
    }
   ],
   "source": [
    "# Casting (?) to np.nan\n",
    "df = df.replace('?', np.nan)\n",
    "\n",
    "# Checking total missing values\n",
    "missing_val = df.isnull().sum()\n",
    "missing_val"
   ]
  },
  {
   "cell_type": "code",
   "execution_count": 37,
   "id": "73147433-ecc0-4c29-8775-28166d84c681",
   "metadata": {},
   "outputs": [
    {
     "data": {
      "text/plain": [
       "array([835.])"
      ]
     },
     "execution_count": 37,
     "metadata": {},
     "output_type": "execute_result"
    }
   ],
   "source": [
    "total_count = np.product(missing_val.sum())\n",
    "total_missing = total_count/missing_val.shape*100\n",
    "total_missing"
   ]
  },
  {
   "cell_type": "code",
   "execution_count": 16,
   "id": "ae91c226-8363-4e72-bc01-0858a4e17427",
   "metadata": {},
   "outputs": [
    {
     "data": {
      "text/plain": [
       "class               int64\n",
       "age                 int64\n",
       "sex                 int64\n",
       "steroid            object\n",
       "antivirals          int64\n",
       "fatigue            object\n",
       "malaise            object\n",
       "anorexia           object\n",
       "liver_big          object\n",
       "liver_firm         object\n",
       "spleen_palpable    object\n",
       "spiders            object\n",
       "ascites            object\n",
       "varices            object\n",
       "bilirubin          object\n",
       "alk_phosphate      object\n",
       "sgot               object\n",
       "albumin            object\n",
       "protime            object\n",
       "histology           int64\n",
       "dtype: object"
      ]
     },
     "execution_count": 16,
     "metadata": {},
     "output_type": "execute_result"
    }
   ],
   "source": [
    "# Data types\n",
    "df.dtypes"
   ]
  },
  {
   "cell_type": "code",
   "execution_count": 43,
   "id": "8f44235f-e84b-422e-a17f-1e9114cdb239",
   "metadata": {},
   "outputs": [],
   "source": [
    "# Replace missing values (np.nan) with 0\n",
    "df = df.replace(np.nan, 0)"
   ]
  },
  {
   "cell_type": "code",
   "execution_count": 44,
   "id": "5808a836-2620-41c4-8aeb-05bbdd8fabed",
   "metadata": {},
   "outputs": [
    {
     "data": {
      "text/html": [
       "<div>\n",
       "<style scoped>\n",
       "    .dataframe tbody tr th:only-of-type {\n",
       "        vertical-align: middle;\n",
       "    }\n",
       "\n",
       "    .dataframe tbody tr th {\n",
       "        vertical-align: top;\n",
       "    }\n",
       "\n",
       "    .dataframe thead th {\n",
       "        text-align: right;\n",
       "    }\n",
       "</style>\n",
       "<table border=\"1\" class=\"dataframe\">\n",
       "  <thead>\n",
       "    <tr style=\"text-align: right;\">\n",
       "      <th></th>\n",
       "      <th>class</th>\n",
       "      <th>age</th>\n",
       "      <th>sex</th>\n",
       "      <th>steroid</th>\n",
       "      <th>antivirals</th>\n",
       "      <th>fatigue</th>\n",
       "      <th>malaise</th>\n",
       "      <th>anorexia</th>\n",
       "      <th>liver_big</th>\n",
       "      <th>liver_firm</th>\n",
       "      <th>spleen_palpable</th>\n",
       "      <th>spiders</th>\n",
       "      <th>ascites</th>\n",
       "      <th>varices</th>\n",
       "      <th>bilirubin</th>\n",
       "      <th>alk_phosphate</th>\n",
       "      <th>sgot</th>\n",
       "      <th>albumin</th>\n",
       "      <th>protime</th>\n",
       "      <th>histology</th>\n",
       "    </tr>\n",
       "  </thead>\n",
       "  <tbody>\n",
       "    <tr>\n",
       "      <th>0</th>\n",
       "      <td>2</td>\n",
       "      <td>30</td>\n",
       "      <td>2</td>\n",
       "      <td>1</td>\n",
       "      <td>2</td>\n",
       "      <td>2</td>\n",
       "      <td>2</td>\n",
       "      <td>2</td>\n",
       "      <td>1</td>\n",
       "      <td>2</td>\n",
       "      <td>2</td>\n",
       "      <td>2</td>\n",
       "      <td>2</td>\n",
       "      <td>2</td>\n",
       "      <td>1.00</td>\n",
       "      <td>85</td>\n",
       "      <td>18</td>\n",
       "      <td>4.0</td>\n",
       "      <td>0</td>\n",
       "      <td>1</td>\n",
       "    </tr>\n",
       "    <tr>\n",
       "      <th>1</th>\n",
       "      <td>2</td>\n",
       "      <td>50</td>\n",
       "      <td>1</td>\n",
       "      <td>1</td>\n",
       "      <td>2</td>\n",
       "      <td>1</td>\n",
       "      <td>2</td>\n",
       "      <td>2</td>\n",
       "      <td>1</td>\n",
       "      <td>2</td>\n",
       "      <td>2</td>\n",
       "      <td>2</td>\n",
       "      <td>2</td>\n",
       "      <td>2</td>\n",
       "      <td>0.90</td>\n",
       "      <td>135</td>\n",
       "      <td>42</td>\n",
       "      <td>3.5</td>\n",
       "      <td>0</td>\n",
       "      <td>1</td>\n",
       "    </tr>\n",
       "    <tr>\n",
       "      <th>2</th>\n",
       "      <td>2</td>\n",
       "      <td>78</td>\n",
       "      <td>1</td>\n",
       "      <td>2</td>\n",
       "      <td>2</td>\n",
       "      <td>1</td>\n",
       "      <td>2</td>\n",
       "      <td>2</td>\n",
       "      <td>2</td>\n",
       "      <td>2</td>\n",
       "      <td>2</td>\n",
       "      <td>2</td>\n",
       "      <td>2</td>\n",
       "      <td>2</td>\n",
       "      <td>0.70</td>\n",
       "      <td>96</td>\n",
       "      <td>32</td>\n",
       "      <td>4.0</td>\n",
       "      <td>0</td>\n",
       "      <td>1</td>\n",
       "    </tr>\n",
       "    <tr>\n",
       "      <th>3</th>\n",
       "      <td>2</td>\n",
       "      <td>31</td>\n",
       "      <td>1</td>\n",
       "      <td>0</td>\n",
       "      <td>1</td>\n",
       "      <td>2</td>\n",
       "      <td>2</td>\n",
       "      <td>2</td>\n",
       "      <td>2</td>\n",
       "      <td>2</td>\n",
       "      <td>2</td>\n",
       "      <td>2</td>\n",
       "      <td>2</td>\n",
       "      <td>2</td>\n",
       "      <td>0.70</td>\n",
       "      <td>46</td>\n",
       "      <td>52</td>\n",
       "      <td>4.0</td>\n",
       "      <td>80</td>\n",
       "      <td>1</td>\n",
       "    </tr>\n",
       "    <tr>\n",
       "      <th>4</th>\n",
       "      <td>2</td>\n",
       "      <td>34</td>\n",
       "      <td>1</td>\n",
       "      <td>2</td>\n",
       "      <td>2</td>\n",
       "      <td>2</td>\n",
       "      <td>2</td>\n",
       "      <td>2</td>\n",
       "      <td>2</td>\n",
       "      <td>2</td>\n",
       "      <td>2</td>\n",
       "      <td>2</td>\n",
       "      <td>2</td>\n",
       "      <td>2</td>\n",
       "      <td>1.00</td>\n",
       "      <td>0</td>\n",
       "      <td>200</td>\n",
       "      <td>4.0</td>\n",
       "      <td>0</td>\n",
       "      <td>1</td>\n",
       "    </tr>\n",
       "  </tbody>\n",
       "</table>\n",
       "</div>"
      ],
      "text/plain": [
       "   class  age  sex steroid  antivirals fatigue malaise anorexia liver_big  \\\n",
       "0      2   30    2       1           2       2       2        2         1   \n",
       "1      2   50    1       1           2       1       2        2         1   \n",
       "2      2   78    1       2           2       1       2        2         2   \n",
       "3      2   31    1       0           1       2       2        2         2   \n",
       "4      2   34    1       2           2       2       2        2         2   \n",
       "\n",
       "  liver_firm spleen_palpable spiders ascites varices bilirubin alk_phosphate  \\\n",
       "0          2               2       2       2       2      1.00            85   \n",
       "1          2               2       2       2       2      0.90           135   \n",
       "2          2               2       2       2       2      0.70            96   \n",
       "3          2               2       2       2       2      0.70            46   \n",
       "4          2               2       2       2       2      1.00             0   \n",
       "\n",
       "  sgot albumin protime  histology  \n",
       "0   18     4.0       0          1  \n",
       "1   42     3.5       0          1  \n",
       "2   32     4.0       0          1  \n",
       "3   52     4.0      80          1  \n",
       "4  200     4.0       0          1  "
      ]
     },
     "execution_count": 44,
     "metadata": {},
     "output_type": "execute_result"
    }
   ],
   "source": [
    "df.head()"
   ]
  },
  {
   "cell_type": "code",
   "execution_count": 45,
   "id": "6d31e88e-1d5a-4d7a-ac17-3145db35b5fb",
   "metadata": {},
   "outputs": [
    {
     "data": {
      "text/plain": [
       "class               int64\n",
       "age                 int64\n",
       "sex                 int64\n",
       "steroid            object\n",
       "antivirals          int64\n",
       "fatigue            object\n",
       "malaise            object\n",
       "anorexia           object\n",
       "liver_big          object\n",
       "liver_firm         object\n",
       "spleen_palpable    object\n",
       "spiders            object\n",
       "ascites            object\n",
       "varices            object\n",
       "bilirubin          object\n",
       "alk_phosphate      object\n",
       "sgot               object\n",
       "albumin            object\n",
       "protime            object\n",
       "histology           int64\n",
       "dtype: object"
      ]
     },
     "execution_count": 45,
     "metadata": {},
     "output_type": "execute_result"
    }
   ],
   "source": [
    "# Data types\n",
    "df.dtypes"
   ]
  },
  {
   "cell_type": "code",
   "execution_count": 46,
   "id": "e66df99b-bd28-477d-9f34-b276d5a02e20",
   "metadata": {},
   "outputs": [
    {
     "data": {
      "text/plain": [
       "15"
      ]
     },
     "execution_count": 46,
     "metadata": {},
     "output_type": "execute_result"
    }
   ],
   "source": [
    "# Total columns with object\n",
    "sum(df.dtypes == 'object')\n"
   ]
  },
  {
   "cell_type": "code",
   "execution_count": 47,
   "id": "490130ba-455f-4c9d-b572-1d201abd495f",
   "metadata": {},
   "outputs": [
    {
     "data": {
      "text/plain": [
       "Index(['steroid', 'fatigue', 'malaise', 'anorexia', 'liver_big', 'liver_firm',\n",
       "       'spleen_palpable', 'spiders', 'ascites', 'varices', 'bilirubin',\n",
       "       'alk_phosphate', 'sgot', 'albumin', 'protime'],\n",
       "      dtype='object')"
      ]
     },
     "execution_count": 47,
     "metadata": {},
     "output_type": "execute_result"
    }
   ],
   "source": [
    "# List of columns with object \n",
    "df.columns[df.dtypes == 'object']"
   ]
  },
  {
   "cell_type": "markdown",
   "id": "56d7a141-e1c1-4761-a68b-1b7bb56ae0a3",
   "metadata": {},
   "source": [
    "#### OBSERVATIONS \n",
    "\n",
    "\n",
    "+ The dataset has 15 object and 5 int as the columns data format"
   ]
  },
  {
   "cell_type": "code",
   "execution_count": 49,
   "id": "c5b75dc3-994c-4b59-ac41-e74002b6c684",
   "metadata": {},
   "outputs": [],
   "source": [
    "# Casting\n",
    "# Converting the datatypes from one to another\n",
    "df[['steroid', 'fatigue', 'malaise', 'anorexia', 'liver_big', 'liver_firm',\n",
    "       'spleen_palpable', 'spiders', 'ascites', 'varices',\n",
    "       'alk_phosphate', 'sgot', 'protime']] = df[['steroid', 'fatigue', 'malaise', 'anorexia', 'liver_big', 'liver_firm',\n",
    "       'spleen_palpable', 'spiders', 'ascites', 'varices',\n",
    "       'alk_phosphate', 'sgot', 'protime']].astype(int)"
   ]
  },
  {
   "cell_type": "code",
   "execution_count": 50,
   "id": "ec624317-16a2-4222-8c2c-514a4c83b2ec",
   "metadata": {},
   "outputs": [],
   "source": [
    "df[['bilirubin', 'albumin']] = df[['bilirubin', 'albumin']].astype(float)"
   ]
  },
  {
   "cell_type": "code",
   "execution_count": 51,
   "id": "73c788d1-3da0-4063-9592-3a37c920425d",
   "metadata": {},
   "outputs": [
    {
     "data": {
      "text/plain": [
       "class                int64\n",
       "age                  int64\n",
       "sex                  int64\n",
       "steroid              int32\n",
       "antivirals           int64\n",
       "fatigue              int32\n",
       "malaise              int32\n",
       "anorexia             int32\n",
       "liver_big            int32\n",
       "liver_firm           int32\n",
       "spleen_palpable      int32\n",
       "spiders              int32\n",
       "ascites              int32\n",
       "varices              int32\n",
       "bilirubin          float64\n",
       "alk_phosphate        int32\n",
       "sgot                 int32\n",
       "albumin            float64\n",
       "protime              int32\n",
       "histology            int64\n",
       "dtype: object"
      ]
     },
     "execution_count": 51,
     "metadata": {},
     "output_type": "execute_result"
    }
   ],
   "source": [
    "df.dtypes"
   ]
  },
  {
   "cell_type": "markdown",
   "id": "9bbe4e7c-ac91-485c-912a-a037934ae9cd",
   "metadata": {},
   "source": [
    "+ Datatype converted from object to int and float\n",
    "+ Dataset has 18 int and 2 float"
   ]
  },
  {
   "cell_type": "markdown",
   "id": "bb929eb7-398c-4b67-bd27-12fc75154271",
   "metadata": {},
   "source": [
    "# Exploratory Data Analysis (EDA)\n",
    "+ Performing simple analysis on the data\n",
    "> ##### Descriptive analytics"
   ]
  },
  {
   "cell_type": "code",
   "execution_count": 52,
   "id": "ece87a4d-1c26-446f-9699-2980a290cf72",
   "metadata": {},
   "outputs": [
    {
     "data": {
      "text/html": [
       "<div>\n",
       "<style scoped>\n",
       "    .dataframe tbody tr th:only-of-type {\n",
       "        vertical-align: middle;\n",
       "    }\n",
       "\n",
       "    .dataframe tbody tr th {\n",
       "        vertical-align: top;\n",
       "    }\n",
       "\n",
       "    .dataframe thead th {\n",
       "        text-align: right;\n",
       "    }\n",
       "</style>\n",
       "<table border=\"1\" class=\"dataframe\">\n",
       "  <thead>\n",
       "    <tr style=\"text-align: right;\">\n",
       "      <th></th>\n",
       "      <th>class</th>\n",
       "      <th>age</th>\n",
       "      <th>sex</th>\n",
       "      <th>steroid</th>\n",
       "      <th>antivirals</th>\n",
       "      <th>fatigue</th>\n",
       "      <th>malaise</th>\n",
       "      <th>anorexia</th>\n",
       "      <th>liver_big</th>\n",
       "      <th>liver_firm</th>\n",
       "      <th>spleen_palpable</th>\n",
       "      <th>spiders</th>\n",
       "      <th>ascites</th>\n",
       "      <th>varices</th>\n",
       "      <th>bilirubin</th>\n",
       "      <th>alk_phosphate</th>\n",
       "      <th>sgot</th>\n",
       "      <th>albumin</th>\n",
       "      <th>protime</th>\n",
       "      <th>histology</th>\n",
       "    </tr>\n",
       "  </thead>\n",
       "  <tbody>\n",
       "    <tr>\n",
       "      <th>count</th>\n",
       "      <td>155.000000</td>\n",
       "      <td>155.000000</td>\n",
       "      <td>155.000000</td>\n",
       "      <td>155.000000</td>\n",
       "      <td>155.000000</td>\n",
       "      <td>155.000000</td>\n",
       "      <td>155.000000</td>\n",
       "      <td>155.000000</td>\n",
       "      <td>155.000000</td>\n",
       "      <td>155.000000</td>\n",
       "      <td>155.000000</td>\n",
       "      <td>155.000000</td>\n",
       "      <td>155.000000</td>\n",
       "      <td>155.000000</td>\n",
       "      <td>155.000000</td>\n",
       "      <td>155.000000</td>\n",
       "      <td>155.000000</td>\n",
       "      <td>155.000000</td>\n",
       "      <td>155.000000</td>\n",
       "      <td>155.000000</td>\n",
       "    </tr>\n",
       "    <tr>\n",
       "      <th>mean</th>\n",
       "      <td>1.793548</td>\n",
       "      <td>41.200000</td>\n",
       "      <td>1.103226</td>\n",
       "      <td>1.496774</td>\n",
       "      <td>1.845161</td>\n",
       "      <td>1.341935</td>\n",
       "      <td>1.593548</td>\n",
       "      <td>1.780645</td>\n",
       "      <td>1.709677</td>\n",
       "      <td>1.470968</td>\n",
       "      <td>1.741935</td>\n",
       "      <td>1.606452</td>\n",
       "      <td>1.806452</td>\n",
       "      <td>1.819355</td>\n",
       "      <td>1.372258</td>\n",
       "      <td>85.619355</td>\n",
       "      <td>83.677419</td>\n",
       "      <td>3.423226</td>\n",
       "      <td>35.116129</td>\n",
       "      <td>1.451613</td>\n",
       "    </tr>\n",
       "    <tr>\n",
       "      <th>std</th>\n",
       "      <td>0.406070</td>\n",
       "      <td>12.565878</td>\n",
       "      <td>0.305240</td>\n",
       "      <td>0.514393</td>\n",
       "      <td>0.362923</td>\n",
       "      <td>0.489350</td>\n",
       "      <td>0.505769</td>\n",
       "      <td>0.430508</td>\n",
       "      <td>0.580727</td>\n",
       "      <td>0.627401</td>\n",
       "      <td>0.507588</td>\n",
       "      <td>0.552406</td>\n",
       "      <td>0.471207</td>\n",
       "      <td>0.462503</td>\n",
       "      <td>1.219992</td>\n",
       "      <td>62.061686</td>\n",
       "      <td>89.527688</td>\n",
       "      <td>1.318343</td>\n",
       "      <td>35.221923</td>\n",
       "      <td>0.499266</td>\n",
       "    </tr>\n",
       "    <tr>\n",
       "      <th>min</th>\n",
       "      <td>1.000000</td>\n",
       "      <td>7.000000</td>\n",
       "      <td>1.000000</td>\n",
       "      <td>0.000000</td>\n",
       "      <td>1.000000</td>\n",
       "      <td>0.000000</td>\n",
       "      <td>0.000000</td>\n",
       "      <td>0.000000</td>\n",
       "      <td>0.000000</td>\n",
       "      <td>0.000000</td>\n",
       "      <td>0.000000</td>\n",
       "      <td>0.000000</td>\n",
       "      <td>0.000000</td>\n",
       "      <td>0.000000</td>\n",
       "      <td>0.000000</td>\n",
       "      <td>0.000000</td>\n",
       "      <td>0.000000</td>\n",
       "      <td>0.000000</td>\n",
       "      <td>0.000000</td>\n",
       "      <td>1.000000</td>\n",
       "    </tr>\n",
       "    <tr>\n",
       "      <th>25%</th>\n",
       "      <td>2.000000</td>\n",
       "      <td>32.000000</td>\n",
       "      <td>1.000000</td>\n",
       "      <td>1.000000</td>\n",
       "      <td>2.000000</td>\n",
       "      <td>1.000000</td>\n",
       "      <td>1.000000</td>\n",
       "      <td>2.000000</td>\n",
       "      <td>2.000000</td>\n",
       "      <td>1.000000</td>\n",
       "      <td>2.000000</td>\n",
       "      <td>1.000000</td>\n",
       "      <td>2.000000</td>\n",
       "      <td>2.000000</td>\n",
       "      <td>0.700000</td>\n",
       "      <td>51.000000</td>\n",
       "      <td>30.500000</td>\n",
       "      <td>3.050000</td>\n",
       "      <td>0.000000</td>\n",
       "      <td>1.000000</td>\n",
       "    </tr>\n",
       "    <tr>\n",
       "      <th>50%</th>\n",
       "      <td>2.000000</td>\n",
       "      <td>39.000000</td>\n",
       "      <td>1.000000</td>\n",
       "      <td>2.000000</td>\n",
       "      <td>2.000000</td>\n",
       "      <td>1.000000</td>\n",
       "      <td>2.000000</td>\n",
       "      <td>2.000000</td>\n",
       "      <td>2.000000</td>\n",
       "      <td>2.000000</td>\n",
       "      <td>2.000000</td>\n",
       "      <td>2.000000</td>\n",
       "      <td>2.000000</td>\n",
       "      <td>2.000000</td>\n",
       "      <td>1.000000</td>\n",
       "      <td>84.000000</td>\n",
       "      <td>55.000000</td>\n",
       "      <td>3.900000</td>\n",
       "      <td>35.000000</td>\n",
       "      <td>1.000000</td>\n",
       "    </tr>\n",
       "    <tr>\n",
       "      <th>75%</th>\n",
       "      <td>2.000000</td>\n",
       "      <td>50.000000</td>\n",
       "      <td>1.000000</td>\n",
       "      <td>2.000000</td>\n",
       "      <td>2.000000</td>\n",
       "      <td>2.000000</td>\n",
       "      <td>2.000000</td>\n",
       "      <td>2.000000</td>\n",
       "      <td>2.000000</td>\n",
       "      <td>2.000000</td>\n",
       "      <td>2.000000</td>\n",
       "      <td>2.000000</td>\n",
       "      <td>2.000000</td>\n",
       "      <td>2.000000</td>\n",
       "      <td>1.500000</td>\n",
       "      <td>119.500000</td>\n",
       "      <td>99.000000</td>\n",
       "      <td>4.200000</td>\n",
       "      <td>65.000000</td>\n",
       "      <td>2.000000</td>\n",
       "    </tr>\n",
       "    <tr>\n",
       "      <th>max</th>\n",
       "      <td>2.000000</td>\n",
       "      <td>78.000000</td>\n",
       "      <td>2.000000</td>\n",
       "      <td>2.000000</td>\n",
       "      <td>2.000000</td>\n",
       "      <td>2.000000</td>\n",
       "      <td>2.000000</td>\n",
       "      <td>2.000000</td>\n",
       "      <td>2.000000</td>\n",
       "      <td>2.000000</td>\n",
       "      <td>2.000000</td>\n",
       "      <td>2.000000</td>\n",
       "      <td>2.000000</td>\n",
       "      <td>2.000000</td>\n",
       "      <td>8.000000</td>\n",
       "      <td>295.000000</td>\n",
       "      <td>648.000000</td>\n",
       "      <td>6.400000</td>\n",
       "      <td>100.000000</td>\n",
       "      <td>2.000000</td>\n",
       "    </tr>\n",
       "  </tbody>\n",
       "</table>\n",
       "</div>"
      ],
      "text/plain": [
       "            class         age         sex     steroid  antivirals     fatigue  \\\n",
       "count  155.000000  155.000000  155.000000  155.000000  155.000000  155.000000   \n",
       "mean     1.793548   41.200000    1.103226    1.496774    1.845161    1.341935   \n",
       "std      0.406070   12.565878    0.305240    0.514393    0.362923    0.489350   \n",
       "min      1.000000    7.000000    1.000000    0.000000    1.000000    0.000000   \n",
       "25%      2.000000   32.000000    1.000000    1.000000    2.000000    1.000000   \n",
       "50%      2.000000   39.000000    1.000000    2.000000    2.000000    1.000000   \n",
       "75%      2.000000   50.000000    1.000000    2.000000    2.000000    2.000000   \n",
       "max      2.000000   78.000000    2.000000    2.000000    2.000000    2.000000   \n",
       "\n",
       "          malaise    anorexia   liver_big  liver_firm  spleen_palpable  \\\n",
       "count  155.000000  155.000000  155.000000  155.000000       155.000000   \n",
       "mean     1.593548    1.780645    1.709677    1.470968         1.741935   \n",
       "std      0.505769    0.430508    0.580727    0.627401         0.507588   \n",
       "min      0.000000    0.000000    0.000000    0.000000         0.000000   \n",
       "25%      1.000000    2.000000    2.000000    1.000000         2.000000   \n",
       "50%      2.000000    2.000000    2.000000    2.000000         2.000000   \n",
       "75%      2.000000    2.000000    2.000000    2.000000         2.000000   \n",
       "max      2.000000    2.000000    2.000000    2.000000         2.000000   \n",
       "\n",
       "          spiders     ascites     varices   bilirubin  alk_phosphate  \\\n",
       "count  155.000000  155.000000  155.000000  155.000000     155.000000   \n",
       "mean     1.606452    1.806452    1.819355    1.372258      85.619355   \n",
       "std      0.552406    0.471207    0.462503    1.219992      62.061686   \n",
       "min      0.000000    0.000000    0.000000    0.000000       0.000000   \n",
       "25%      1.000000    2.000000    2.000000    0.700000      51.000000   \n",
       "50%      2.000000    2.000000    2.000000    1.000000      84.000000   \n",
       "75%      2.000000    2.000000    2.000000    1.500000     119.500000   \n",
       "max      2.000000    2.000000    2.000000    8.000000     295.000000   \n",
       "\n",
       "             sgot     albumin     protime   histology  \n",
       "count  155.000000  155.000000  155.000000  155.000000  \n",
       "mean    83.677419    3.423226   35.116129    1.451613  \n",
       "std     89.527688    1.318343   35.221923    0.499266  \n",
       "min      0.000000    0.000000    0.000000    1.000000  \n",
       "25%     30.500000    3.050000    0.000000    1.000000  \n",
       "50%     55.000000    3.900000   35.000000    1.000000  \n",
       "75%     99.000000    4.200000   65.000000    2.000000  \n",
       "max    648.000000    6.400000  100.000000    2.000000  "
      ]
     },
     "execution_count": 52,
     "metadata": {},
     "output_type": "execute_result"
    }
   ],
   "source": [
    "df.describe()"
   ]
  },
  {
   "cell_type": "markdown",
   "id": "8f791a7d-314b-4812-9634-a77b0a55faf1",
   "metadata": {},
   "source": [
    "#### OBSERVATIONS\n",
    "+ **class**: class column is the target which contains 1 and 2\n",
    "+ **age**: the average patient is 41 years, the youngest is 7 years while the oldest patient is 78 years\n",
    "+ **sex**: majority of the patient appears to the male with about 75%"
   ]
  },
  {
   "cell_type": "code",
   "execution_count": 54,
   "id": "56c7b349-2811-41a1-8b06-f90d8a9c7f51",
   "metadata": {},
   "outputs": [
    {
     "data": {
      "text/plain": [
       "class\n",
       "2    123\n",
       "1     32\n",
       "Name: count, dtype: int64"
      ]
     },
     "execution_count": 54,
     "metadata": {},
     "output_type": "execute_result"
    }
   ],
   "source": [
    "df['class'].value_counts()"
   ]
  },
  {
   "cell_type": "markdown",
   "id": "a0cd25ac-3605-4e58-a56d-f07453d57c94",
   "metadata": {},
   "source": [
    "#### NARATIVES\n",
    "+ Die is 1 and Live is 2"
   ]
  },
  {
   "cell_type": "code",
   "execution_count": 55,
   "id": "73f777db-45a3-4e0e-a925-331837c66072",
   "metadata": {
    "tags": []
   },
   "outputs": [
    {
     "data": {
      "text/plain": [
       "<Axes: xlabel='class'>"
      ]
     },
     "execution_count": 55,
     "metadata": {},
     "output_type": "execute_result"
    },
    {
     "data": {
      "image/png": "[encoded data removed]",
      "text/plain": [
       "<Figure size 640x480 with 1 Axes>"
      ]
     },
     "metadata": {},
     "output_type": "display_data"
    }
   ],
   "source": [
    "df['class'].value_counts().plot(kind='bar')"
   ]
  },
  {
   "cell_type": "code",
   "execution_count": 59,
   "id": "8b02f072-ba79-4e21-8d95-ddd2f5d49fd7",
   "metadata": {},
   "outputs": [
    {
     "data": {
      "text/plain": [
       "age  sex\n",
       "7    1      1\n",
       "20   1      2\n",
       "     2      1\n",
       "22   1      1\n",
       "     2      1\n",
       "23   1      4\n",
       "24   1      2\n",
       "25   1      2\n",
       "     2      1\n",
       "26   2      1\n",
       "27   1      4\n",
       "28   1      4\n",
       "     2      1\n",
       "30   1      7\n",
       "     2      1\n",
       "31   1      4\n",
       "32   1      4\n",
       "33   1      3\n",
       "34   1      6\n",
       "     2      2\n",
       "35   1      2\n",
       "36   1      7\n",
       "37   1      5\n",
       "38   1      8\n",
       "39   1      6\n",
       "40   1      3\n",
       "41   1      2\n",
       "     2      1\n",
       "42   1      5\n",
       "43   1      1\n",
       "44   1      5\n",
       "45   1      4\n",
       "     2      1\n",
       "46   1      1\n",
       "47   1      4\n",
       "48   1      2\n",
       "49   1      3\n",
       "50   1      5\n",
       "     2      1\n",
       "51   1      6\n",
       "52   1      3\n",
       "53   2      1\n",
       "54   1      5\n",
       "56   1      3\n",
       "57   1      2\n",
       "58   1      1\n",
       "     2      1\n",
       "59   1      1\n",
       "60   1      1\n",
       "61   1      3\n",
       "62   1      1\n",
       "     2      1\n",
       "64   1      1\n",
       "65   1      1\n",
       "66   1      1\n",
       "67   2      1\n",
       "69   2      1\n",
       "70   1      1\n",
       "72   1      1\n",
       "78   1      1\n",
       "dtype: int64"
      ]
     },
     "execution_count": 59,
     "metadata": {},
     "output_type": "execute_result"
    }
   ],
   "source": [
    "# Age Range\n",
    "df.groupby(['age','sex']).size()"
   ]
  },
  {
   "cell_type": "markdown",
   "id": "7fbbda0a-36b5-4958-8e12-ac5b568457fa",
   "metadata": {},
   "source": [
    "##### Re-group Age Range using Frequency Distribution Table"
   ]
  },
  {
   "cell_type": "code",
   "execution_count": 63,
   "id": "adf78ff3-cecd-4d1d-9fc6-a34c6966b159",
   "metadata": {},
   "outputs": [
    {
     "data": {
      "text/plain": [
       "7"
      ]
     },
     "execution_count": 63,
     "metadata": {},
     "output_type": "execute_result"
    }
   ],
   "source": [
    "df['age'].min() # Minimum age"
   ]
  },
  {
   "cell_type": "code",
   "execution_count": 64,
   "id": "640c4fd5-2395-4784-b248-b9336d8122ff",
   "metadata": {},
   "outputs": [
    {
     "data": {
      "text/plain": [
       "78"
      ]
     },
     "execution_count": 64,
     "metadata": {},
     "output_type": "execute_result"
    }
   ],
   "source": [
    "df['age'].max() # Maximum/Oldest age "
   ]
  },
  {
   "cell_type": "code",
   "execution_count": null,
   "id": "9e2437f0-a4ae-4ca8-8432-73b9b7353afb",
   "metadata": {},
   "outputs": [
    {
     "data": {
      "text/plain": [
       "array([ 7.   , 15.875, 24.75 , 33.625, 42.5  , 51.375, 60.25 , 69.125,\n",
       "       78.   ])"
      ]
     },
     "execution_count": 69,
     "metadata": {},
     "output_type": "execute_result"
    }
   ],
   "source": [
    "bins = np.linspace(min(df['age']), max(df['age']), 9)\n",
    "bins"
   ]
  },
  {
   "cell_type": "code",
   "execution_count": 80,
   "id": "ea2ab192-4309-4bd3-aa6f-8d738587dd6f",
   "metadata": {},
   "outputs": [],
   "source": [
    "# re-group using Frequency Distribution for more information \n",
    "labels = ['less than 10', '10-20', '20-30', '30-40', '40-50', '50-60', '60-70', '70 and above']\n",
    "bins = [0, 10, 20, 30, 40, 50, 60, 70, 80]\n",
    "#bins = np.linspace(min(df['age']), max(df['age']), 9)\n",
    "freq_dis = df.groupby(pd.cut(df['age'], bins=bins, labels=labels, include_lowest=True)).size()"
   ]
  },
  {
   "cell_type": "code",
   "execution_count": 81,
   "id": "cee7a075-8ee3-4142-ab23-3420e032b4a5",
   "metadata": {},
   "outputs": [
    {
     "data": {
      "text/plain": [
       "age\n",
       "less than 10     1\n",
       "10-20            3\n",
       "20-30           29\n",
       "30-40           50\n",
       "40-50           35\n",
       "50-60           24\n",
       "60-70           11\n",
       "70 and above     2\n",
       "dtype: int64"
      ]
     },
     "execution_count": 81,
     "metadata": {},
     "output_type": "execute_result"
    }
   ],
   "source": [
    "freq_dis"
   ]
  },
  {
   "cell_type": "code",
   "execution_count": 82,
   "id": "ca36bcdd-357a-4fab-a1cb-8e322cded5b7",
   "metadata": {},
   "outputs": [
    {
     "data": {
      "text/html": [
       "<div>\n",
       "<style scoped>\n",
       "    .dataframe tbody tr th:only-of-type {\n",
       "        vertical-align: middle;\n",
       "    }\n",
       "\n",
       "    .dataframe tbody tr th {\n",
       "        vertical-align: top;\n",
       "    }\n",
       "\n",
       "    .dataframe thead th {\n",
       "        text-align: right;\n",
       "    }\n",
       "</style>\n",
       "<table border=\"1\" class=\"dataframe\">\n",
       "  <thead>\n",
       "    <tr style=\"text-align: right;\">\n",
       "      <th></th>\n",
       "      <th>age</th>\n",
       "      <th>count</th>\n",
       "    </tr>\n",
       "  </thead>\n",
       "  <tbody>\n",
       "    <tr>\n",
       "      <th>0</th>\n",
       "      <td>less than 10</td>\n",
       "      <td>1</td>\n",
       "    </tr>\n",
       "    <tr>\n",
       "      <th>1</th>\n",
       "      <td>10-20</td>\n",
       "      <td>3</td>\n",
       "    </tr>\n",
       "    <tr>\n",
       "      <th>2</th>\n",
       "      <td>20-30</td>\n",
       "      <td>29</td>\n",
       "    </tr>\n",
       "    <tr>\n",
       "      <th>3</th>\n",
       "      <td>30-40</td>\n",
       "      <td>50</td>\n",
       "    </tr>\n",
       "    <tr>\n",
       "      <th>4</th>\n",
       "      <td>40-50</td>\n",
       "      <td>35</td>\n",
       "    </tr>\n",
       "    <tr>\n",
       "      <th>5</th>\n",
       "      <td>50-60</td>\n",
       "      <td>24</td>\n",
       "    </tr>\n",
       "    <tr>\n",
       "      <th>6</th>\n",
       "      <td>60-70</td>\n",
       "      <td>11</td>\n",
       "    </tr>\n",
       "    <tr>\n",
       "      <th>7</th>\n",
       "      <td>70 and above</td>\n",
       "      <td>2</td>\n",
       "    </tr>\n",
       "  </tbody>\n",
       "</table>\n",
       "</div>"
      ],
      "text/plain": [
       "            age  count\n",
       "0  less than 10      1\n",
       "1         10-20      3\n",
       "2         20-30     29\n",
       "3         30-40     50\n",
       "4         40-50     35\n",
       "5         50-60     24\n",
       "6         60-70     11\n",
       "7  70 and above      2"
      ]
     },
     "execution_count": 82,
     "metadata": {},
     "output_type": "execute_result"
    }
   ],
   "source": [
    "freq_dis.reset_index(name='count')"
   ]
  },
  {
   "cell_type": "code",
   "execution_count": null,
   "id": "68f31f05-fdac-44f9-98e5-1170e5ba90cc",
   "metadata": {},
   "outputs": [
    {
     "data": {
      "text/html": [
       "<div>\n",
       "<style scoped>\n",
       "    .dataframe tbody tr th:only-of-type {\n",
       "        vertical-align: middle;\n",
       "    }\n",
       "\n",
       "    .dataframe tbody tr th {\n",
       "        vertical-align: top;\n",
       "    }\n",
       "\n",
       "    .dataframe thead th {\n",
       "        text-align: right;\n",
       "    }\n",
       "</style>\n",
       "<table border=\"1\" class=\"dataframe\">\n",
       "  <thead>\n",
       "    <tr style=\"text-align: right;\">\n",
       "      <th></th>\n",
       "      <th>age</th>\n",
       "      <th>sex</th>\n",
       "      <th>class</th>\n",
       "      <th>count</th>\n",
       "    </tr>\n",
       "  </thead>\n",
       "  <tbody>\n",
       "    <tr>\n",
       "      <th>0</th>\n",
       "      <td>7</td>\n",
       "      <td>1</td>\n",
       "      <td>2</td>\n",
       "      <td>1</td>\n",
       "    </tr>\n",
       "    <tr>\n",
       "      <th>1</th>\n",
       "      <td>20</td>\n",
       "      <td>1</td>\n",
       "      <td>2</td>\n",
       "      <td>2</td>\n",
       "    </tr>\n",
       "    <tr>\n",
       "      <th>2</th>\n",
       "      <td>20</td>\n",
       "      <td>2</td>\n",
       "      <td>2</td>\n",
       "      <td>1</td>\n",
       "    </tr>\n",
       "    <tr>\n",
       "      <th>3</th>\n",
       "      <td>22</td>\n",
       "      <td>1</td>\n",
       "      <td>2</td>\n",
       "      <td>1</td>\n",
       "    </tr>\n",
       "    <tr>\n",
       "      <th>4</th>\n",
       "      <td>22</td>\n",
       "      <td>2</td>\n",
       "      <td>2</td>\n",
       "      <td>1</td>\n",
       "    </tr>\n",
       "    <tr>\n",
       "      <th>...</th>\n",
       "      <td>...</td>\n",
       "      <td>...</td>\n",
       "      <td>...</td>\n",
       "      <td>...</td>\n",
       "    </tr>\n",
       "    <tr>\n",
       "      <th>75</th>\n",
       "      <td>67</td>\n",
       "      <td>2</td>\n",
       "      <td>2</td>\n",
       "      <td>1</td>\n",
       "    </tr>\n",
       "    <tr>\n",
       "      <th>76</th>\n",
       "      <td>69</td>\n",
       "      <td>2</td>\n",
       "      <td>2</td>\n",
       "      <td>1</td>\n",
       "    </tr>\n",
       "    <tr>\n",
       "      <th>77</th>\n",
       "      <td>70</td>\n",
       "      <td>1</td>\n",
       "      <td>1</td>\n",
       "      <td>1</td>\n",
       "    </tr>\n",
       "    <tr>\n",
       "      <th>78</th>\n",
       "      <td>72</td>\n",
       "      <td>1</td>\n",
       "      <td>2</td>\n",
       "      <td>1</td>\n",
       "    </tr>\n",
       "    <tr>\n",
       "      <th>79</th>\n",
       "      <td>78</td>\n",
       "      <td>1</td>\n",
       "      <td>2</td>\n",
       "      <td>1</td>\n",
       "    </tr>\n",
       "  </tbody>\n",
       "</table>\n",
       "<p>80 rows × 4 columns</p>\n",
       "</div>"
      ],
      "text/plain": [
       "    age  sex  class  count\n",
       "0     7    1      2      1\n",
       "1    20    1      2      2\n",
       "2    20    2      2      1\n",
       "3    22    1      2      1\n",
       "4    22    2      2      1\n",
       "..  ...  ...    ...    ...\n",
       "75   67    2      2      1\n",
       "76   69    2      2      1\n",
       "77   70    1      1      1\n",
       "78   72    1      2      1\n",
       "79   78    1      2      1\n",
       "\n",
       "[80 rows x 4 columns]"
      ]
     },
     "execution_count": 85,
     "metadata": {},
     "output_type": "execute_result"
    }
   ],
   "source": [
    "age_test = df[['age', 'sex', 'class']]\n",
    "age_grp = age_test.groupby(['age', 'sex'], as_index=False).value_counts()\n",
    "age_grp"
   ]
  },
  {
   "cell_type": "code",
   "execution_count": 94,
   "id": "d9c71140-d62f-47eb-b156-6797c2a4fff6",
   "metadata": {},
   "outputs": [
    {
     "data": {
      "image/png": "[encoded data removed]",
      "text/plain": [
       "<Figure size 640x480 with 1 Axes>"
      ]
     },
     "metadata": {},
     "output_type": "display_data"
    }
   ],
   "source": [
    "plt.bar(freq_dis['age'], freq_dis['count'])\n",
    "plt.ylabel('Count')\n",
    "plt.title('Age distribution')\n",
    "plt.show()"
   ]
  },
  {
   "cell_type": "markdown",
   "id": "aa45acaa-6a8c-41eb-a135-b91ec4561e7a",
   "metadata": {},
   "source": [
    "#### OBSERVATION\n",
    "+ The most infected with hepatitis is between the age 20 to 60 years\n",
    "+ The highest prevalence of Hepatitis occurs between the age of 30 to 40 years"
   ]
  },
  {
   "cell_type": "code",
   "execution_count": 95,
   "id": "e4558aa7-ae26-4661-bd93-d56e0b60c2df",
   "metadata": {},
   "outputs": [
    {
     "data": {
      "image/png": "[encoded data removed]",
      "text/plain": [
       "<Figure size 640x480 with 1 Axes>"
      ]
     },
     "metadata": {},
     "output_type": "display_data"
    }
   ],
   "source": [
    "# Pie Chart Viz\n",
    "labels = ['< 10', '10-20', '20-30', '30-40', '40-50', '50-60', '60-70', '> 70']\n",
    "fig, ax1 = plt.subplots()\n",
    "ax1.pie(freq_dis['count'], labels=labels, autopct='1%.1f%%')\n",
    "ax1.axis('equal')\n",
    "plt.show()"
   ]
  },
  {
   "cell_type": "markdown",
   "id": "38ce72aa-834b-4fbc-8efa-efd63ac7566e",
   "metadata": {},
   "source": [
    "#### Detecting Outliers\n",
    "+ Univariate Analysis\n",
    "+ Multivariate Analyis\n",
    "\n",
    "#### Methods\n",
    "+ Boxplot \n",
    "+ Scatter \n",
    "+ Z-score \n",
    "+ Interquartile Range (IQR)"
   ]
  },
  {
   "cell_type": "code",
   "execution_count": 96,
   "id": "3210e080-b4d9-4ae1-9c47-ad51efc21af5",
   "metadata": {},
   "outputs": [
    {
     "data": {
      "text/plain": [
       "<Axes: >"
      ]
     },
     "execution_count": 96,
     "metadata": {},
     "output_type": "execute_result"
    },
    {
     "data": {
      "image/png": "[encoded data removed]",
      "text/plain": [
       "<Figure size 640x480 with 1 Axes>"
      ]
     },
     "metadata": {},
     "output_type": "display_data"
    }
   ],
   "source": [
    "# Univariate outlier detection\n",
    "sns.boxplot(df['age'])"
   ]
  },
  {
   "cell_type": "markdown",
   "id": "7a7ceafb-af81-4c99-b868-0a09c33f2fb6",
   "metadata": {},
   "source": [
    "+ 75 years above appears to be outlier"
   ]
  },
  {
   "cell_type": "code",
   "execution_count": 115,
   "id": "d4596177-5554-4831-9eaf-9d1a2fb2337b",
   "metadata": {},
   "outputs": [
    {
     "data": {
      "text/plain": [
       "<Axes: >"
      ]
     },
     "execution_count": 115,
     "metadata": {},
     "output_type": "execute_result"
    },
    {
     "data": {
      "image/png": "[encoded data removed]",
      "text/plain": [
       "<Figure size 640x480 with 1 Axes>"
      ]
     },
     "metadata": {},
     "output_type": "display_data"
    }
   ],
   "source": [
    "#Using sctterplot to detect outlier\n",
    "sns.boxplot(df[['steroid', 'fatigue', 'malaise', 'liver_firm']])"
   ]
  },
  {
   "cell_type": "code",
   "execution_count": 117,
   "id": "670cde03-59eb-496d-a788-fc580283f404",
   "metadata": {},
   "outputs": [
    {
     "data": {
      "text/plain": [
       "<Axes: xlabel='albumin', ylabel='age'>"
      ]
     },
     "execution_count": 117,
     "metadata": {},
     "output_type": "execute_result"
    },
    {
     "data": {
      "image/png": "[encoded data removed]",
      "text/plain": [
       "<Figure size 640x480 with 1 Axes>"
      ]
     },
     "metadata": {},
     "output_type": "display_data"
    }
   ],
   "source": [
    "# Multivariate Outlier Detection\n",
    "sns.scatterplot(x=df['albumin'], y=df['age'], hue=df['sex'], palette=['g', 'r'], data=df)"
   ]
  },
  {
   "cell_type": "markdown",
   "id": "6f28d30a-dffd-4eac-a577-00d81cd85732",
   "metadata": {},
   "source": [
    "#### Let's find the outliers, in each column of the data, using IQR."
   ]
  },
  {
   "cell_type": "code",
   "execution_count": 125,
   "id": "af915940-5ed2-4922-a21f-c3d27b042239",
   "metadata": {},
   "outputs": [
    {
     "data": {
      "text/plain": [
       "class               0.00\n",
       "age                18.00\n",
       "sex                 0.00\n",
       "steroid             1.00\n",
       "antivirals          0.00\n",
       "fatigue             1.00\n",
       "malaise             1.00\n",
       "anorexia            0.00\n",
       "liver_big           0.00\n",
       "liver_firm          1.00\n",
       "spleen_palpable     0.00\n",
       "spiders             1.00\n",
       "ascites             0.00\n",
       "varices             0.00\n",
       "bilirubin           0.80\n",
       "alk_phosphate      68.50\n",
       "sgot               68.50\n",
       "albumin             1.15\n",
       "protime            65.00\n",
       "histology           1.00\n",
       "dtype: float64"
      ]
     },
     "execution_count": 125,
     "metadata": {},
     "output_type": "execute_result"
    }
   ],
   "source": [
    "# To find the 25th percentile and 75th percentile.\n",
    "Q1 = df.quantile(0.25) \n",
    "Q3 = df.quantile(0.75)\n",
    "\n",
    "IQR = Q3 - Q1  # Inter Quantile Range (75th perentile - 25th percentile)\n",
    "IQR"
   ]
  },
  {
   "cell_type": "code",
   "execution_count": 141,
   "id": "8484c6bf-63b7-4682-8cd5-5770b5bc6d9c",
   "metadata": {},
   "outputs": [],
   "source": [
    "# Finding lower and upper bounds for all actual values. All values outside these bounds are outliers\n",
    "lower = Q1 - 1.5 * IQR\n",
    "upper = Q3 - 1.5 * IQR\n",
    "luo = (df < lower) | (df > upper)\n",
    "#luo"
   ]
  },
  {
   "cell_type": "markdown",
   "id": "904141cc-d215-4dba-b051-eeb79e6fd83d",
   "metadata": {},
   "source": [
    "+ After identifying outliers, we can decide whether to remove/treat them or not. It depends on one's approach, here we are not going to treat them as there will be outliers in real case scenario (in age, alk_phosphate, sgot, protime etc) and we would want our model to learn the underlying pattern for such customers.\n",
    "\n",
    "**_To remove the outlier we can use the code below_**\n",
    "\n",
    "`df_no_otl = df[~((df < lower) | (df > upper))]`"
   ]
  },
  {
   "cell_type": "code",
   "execution_count": 156,
   "id": "3a8bae27-7502-48be-8690-14c2db9cf7a0",
   "metadata": {},
   "outputs": [
    {
     "data": {
      "text/html": [
       "<div>\n",
       "<style scoped>\n",
       "    .dataframe tbody tr th:only-of-type {\n",
       "        vertical-align: middle;\n",
       "    }\n",
       "\n",
       "    .dataframe tbody tr th {\n",
       "        vertical-align: top;\n",
       "    }\n",
       "\n",
       "    .dataframe thead th {\n",
       "        text-align: right;\n",
       "    }\n",
       "</style>\n",
       "<table border=\"1\" class=\"dataframe\">\n",
       "  <thead>\n",
       "    <tr style=\"text-align: right;\">\n",
       "      <th></th>\n",
       "      <th>class</th>\n",
       "      <th>age</th>\n",
       "      <th>sex</th>\n",
       "      <th>steroid</th>\n",
       "      <th>antivirals</th>\n",
       "      <th>fatigue</th>\n",
       "      <th>malaise</th>\n",
       "      <th>anorexia</th>\n",
       "      <th>liver_big</th>\n",
       "      <th>liver_firm</th>\n",
       "      <th>spleen_palpable</th>\n",
       "      <th>spiders</th>\n",
       "      <th>ascites</th>\n",
       "      <th>varices</th>\n",
       "      <th>bilirubin</th>\n",
       "      <th>alk_phosphate</th>\n",
       "      <th>sgot</th>\n",
       "      <th>albumin</th>\n",
       "      <th>protime</th>\n",
       "      <th>histology</th>\n",
       "    </tr>\n",
       "  </thead>\n",
       "  <tbody>\n",
       "  </tbody>\n",
       "</table>\n",
       "</div>"
      ],
      "text/plain": [
       "Empty DataFrame\n",
       "Columns: [class, age, sex, steroid, antivirals, fatigue, malaise, anorexia, liver_big, liver_firm, spleen_palpable, spiders, ascites, varices, bilirubin, alk_phosphate, sgot, albumin, protime, histology]\n",
       "Index: []"
      ]
     },
     "execution_count": 156,
     "metadata": {},
     "output_type": "execute_result"
    }
   ],
   "source": [
    "#df_no_otl = df[(df < (Q1 - 1.5 * IQR)) | (df > (Q3 + 1.5 * IQR)) ]\n",
    "df_no_otl = df[~((df < lower) | (df > upper)).any(axis=1)]\n",
    "df_no_otl"
   ]
  },
  {
   "cell_type": "code",
   "execution_count": 157,
   "id": "f7777bcb-856d-4737-af58-ca71662dd2e1",
   "metadata": {},
   "outputs": [
    {
     "name": "stdout",
     "output_type": "stream",
     "text": [
      "(155, 20)\n",
      "(0, 20)\n"
     ]
    }
   ],
   "source": [
    "print(df.shape)\n",
    "print(df_no_otl.shape)"
   ]
  },
  {
   "cell_type": "code",
   "execution_count": 158,
   "id": "b7495397-9ffb-430e-a060-1194e9d1ee47",
   "metadata": {},
   "outputs": [
    {
     "data": {
      "image/png": "[encoded data removed]",
      "text/plain": [
       "<Figure size 2000x1500 with 20 Axes>"
      ]
     },
     "metadata": {},
     "output_type": "display_data"
    }
   ],
   "source": [
    "# Plot the distribution of data\n",
    "df.hist(bins=50,figsize=(20,15))\n",
    "plt.show()"
   ]
  },
  {
   "cell_type": "markdown",
   "id": "3653dd47-b566-420a-9b36-9301ad2606bc",
   "metadata": {},
   "source": [
    "# Feature Selection"
   ]
  },
  {
   "cell_type": "markdown",
   "id": "72a2981c-b2e5-471f-9724-6aa468bf4dc1",
   "metadata": {},
   "source": [
    "#### Tools for selecting important features that corolate with the target/output\n",
    "\n",
    "+ **SelectKbest**\n",
    "> _SelectKbest:_ Help select features with strong relationships with the target\n",
    "+ **Recursive Feature Elimination**\n",
    "> _Recursive Feature Elimination:_ Help select features with strong relationships with the target and eliminate others"
   ]
  },
  {
   "cell_type": "markdown",
   "id": "9f3b60e1-9419-4836-a507-6ddcd14255a9",
   "metadata": {},
   "source": [
    "#### SelectKBest Method of Feature Selection"
   ]
  },
  {
   "cell_type": "code",
   "execution_count": 161,
   "id": "fd0650e9-47d3-4bca-9f0f-55fa0d5d01ab",
   "metadata": {},
   "outputs": [],
   "source": [
    "# import modules\n",
    "from sklearn.feature_selection import SelectKBest, chi2"
   ]
  },
  {
   "cell_type": "code",
   "execution_count": 162,
   "id": "fd727624-a8b5-4049-a5b4-8d56903c4e40",
   "metadata": {},
   "outputs": [
    {
     "data": {
      "text/html": [
       "<div>\n",
       "<style scoped>\n",
       "    .dataframe tbody tr th:only-of-type {\n",
       "        vertical-align: middle;\n",
       "    }\n",
       "\n",
       "    .dataframe tbody tr th {\n",
       "        vertical-align: top;\n",
       "    }\n",
       "\n",
       "    .dataframe thead th {\n",
       "        text-align: right;\n",
       "    }\n",
       "</style>\n",
       "<table border=\"1\" class=\"dataframe\">\n",
       "  <thead>\n",
       "    <tr style=\"text-align: right;\">\n",
       "      <th></th>\n",
       "      <th>class</th>\n",
       "      <th>age</th>\n",
       "      <th>sex</th>\n",
       "      <th>steroid</th>\n",
       "      <th>antivirals</th>\n",
       "      <th>fatigue</th>\n",
       "      <th>malaise</th>\n",
       "      <th>anorexia</th>\n",
       "      <th>liver_big</th>\n",
       "      <th>liver_firm</th>\n",
       "      <th>spleen_palpable</th>\n",
       "      <th>spiders</th>\n",
       "      <th>ascites</th>\n",
       "      <th>varices</th>\n",
       "      <th>bilirubin</th>\n",
       "      <th>alk_phosphate</th>\n",
       "      <th>sgot</th>\n",
       "      <th>albumin</th>\n",
       "      <th>protime</th>\n",
       "      <th>histology</th>\n",
       "    </tr>\n",
       "  </thead>\n",
       "  <tbody>\n",
       "    <tr>\n",
       "      <th>0</th>\n",
       "      <td>2</td>\n",
       "      <td>30</td>\n",
       "      <td>2</td>\n",
       "      <td>1</td>\n",
       "      <td>2</td>\n",
       "      <td>2</td>\n",
       "      <td>2</td>\n",
       "      <td>2</td>\n",
       "      <td>1</td>\n",
       "      <td>2</td>\n",
       "      <td>2</td>\n",
       "      <td>2</td>\n",
       "      <td>2</td>\n",
       "      <td>2</td>\n",
       "      <td>1.0</td>\n",
       "      <td>85</td>\n",
       "      <td>18</td>\n",
       "      <td>4.0</td>\n",
       "      <td>0</td>\n",
       "      <td>1</td>\n",
       "    </tr>\n",
       "    <tr>\n",
       "      <th>1</th>\n",
       "      <td>2</td>\n",
       "      <td>50</td>\n",
       "      <td>1</td>\n",
       "      <td>1</td>\n",
       "      <td>2</td>\n",
       "      <td>1</td>\n",
       "      <td>2</td>\n",
       "      <td>2</td>\n",
       "      <td>1</td>\n",
       "      <td>2</td>\n",
       "      <td>2</td>\n",
       "      <td>2</td>\n",
       "      <td>2</td>\n",
       "      <td>2</td>\n",
       "      <td>0.9</td>\n",
       "      <td>135</td>\n",
       "      <td>42</td>\n",
       "      <td>3.5</td>\n",
       "      <td>0</td>\n",
       "      <td>1</td>\n",
       "    </tr>\n",
       "    <tr>\n",
       "      <th>2</th>\n",
       "      <td>2</td>\n",
       "      <td>78</td>\n",
       "      <td>1</td>\n",
       "      <td>2</td>\n",
       "      <td>2</td>\n",
       "      <td>1</td>\n",
       "      <td>2</td>\n",
       "      <td>2</td>\n",
       "      <td>2</td>\n",
       "      <td>2</td>\n",
       "      <td>2</td>\n",
       "      <td>2</td>\n",
       "      <td>2</td>\n",
       "      <td>2</td>\n",
       "      <td>0.7</td>\n",
       "      <td>96</td>\n",
       "      <td>32</td>\n",
       "      <td>4.0</td>\n",
       "      <td>0</td>\n",
       "      <td>1</td>\n",
       "    </tr>\n",
       "    <tr>\n",
       "      <th>3</th>\n",
       "      <td>2</td>\n",
       "      <td>31</td>\n",
       "      <td>1</td>\n",
       "      <td>0</td>\n",
       "      <td>1</td>\n",
       "      <td>2</td>\n",
       "      <td>2</td>\n",
       "      <td>2</td>\n",
       "      <td>2</td>\n",
       "      <td>2</td>\n",
       "      <td>2</td>\n",
       "      <td>2</td>\n",
       "      <td>2</td>\n",
       "      <td>2</td>\n",
       "      <td>0.7</td>\n",
       "      <td>46</td>\n",
       "      <td>52</td>\n",
       "      <td>4.0</td>\n",
       "      <td>80</td>\n",
       "      <td>1</td>\n",
       "    </tr>\n",
       "    <tr>\n",
       "      <th>4</th>\n",
       "      <td>2</td>\n",
       "      <td>34</td>\n",
       "      <td>1</td>\n",
       "      <td>2</td>\n",
       "      <td>2</td>\n",
       "      <td>2</td>\n",
       "      <td>2</td>\n",
       "      <td>2</td>\n",
       "      <td>2</td>\n",
       "      <td>2</td>\n",
       "      <td>2</td>\n",
       "      <td>2</td>\n",
       "      <td>2</td>\n",
       "      <td>2</td>\n",
       "      <td>1.0</td>\n",
       "      <td>0</td>\n",
       "      <td>200</td>\n",
       "      <td>4.0</td>\n",
       "      <td>0</td>\n",
       "      <td>1</td>\n",
       "    </tr>\n",
       "  </tbody>\n",
       "</table>\n",
       "</div>"
      ],
      "text/plain": [
       "   class  age  sex  steroid  antivirals  fatigue  malaise  anorexia  \\\n",
       "0      2   30    2        1           2        2        2         2   \n",
       "1      2   50    1        1           2        1        2         2   \n",
       "2      2   78    1        2           2        1        2         2   \n",
       "3      2   31    1        0           1        2        2         2   \n",
       "4      2   34    1        2           2        2        2         2   \n",
       "\n",
       "   liver_big  liver_firm  spleen_palpable  spiders  ascites  varices  \\\n",
       "0          1           2                2        2        2        2   \n",
       "1          1           2                2        2        2        2   \n",
       "2          2           2                2        2        2        2   \n",
       "3          2           2                2        2        2        2   \n",
       "4          2           2                2        2        2        2   \n",
       "\n",
       "   bilirubin  alk_phosphate  sgot  albumin  protime  histology  \n",
       "0        1.0             85    18      4.0        0          1  \n",
       "1        0.9            135    42      3.5        0          1  \n",
       "2        0.7             96    32      4.0        0          1  \n",
       "3        0.7             46    52      4.0       80          1  \n",
       "4        1.0              0   200      4.0        0          1  "
      ]
     },
     "execution_count": 162,
     "metadata": {},
     "output_type": "execute_result"
    }
   ],
   "source": [
    "df.head()"
   ]
  },
  {
   "cell_type": "code",
   "execution_count": 163,
   "id": "aa4c0b85-12c8-43ec-80dd-8c0ff4c30408",
   "metadata": {},
   "outputs": [
    {
     "data": {
      "text/plain": [
       "Index(['class', 'age', 'sex', 'steroid', 'antivirals', 'fatigue', 'malaise',\n",
       "       'anorexia', 'liver_big', 'liver_firm', 'spleen_palpable', 'spiders',\n",
       "       'ascites', 'varices', 'bilirubin', 'alk_phosphate', 'sgot', 'albumin',\n",
       "       'protime', 'histology'],\n",
       "      dtype='object')"
      ]
     },
     "execution_count": 163,
     "metadata": {},
     "output_type": "execute_result"
    }
   ],
   "source": [
    "df.columns"
   ]
  },
  {
   "cell_type": "code",
   "execution_count": 169,
   "id": "3662d3a1-76b7-49de-b304-5aca8dc6c0aa",
   "metadata": {},
   "outputs": [],
   "source": [
    "# Features and Target\n",
    "# Splitting our dataset into feature and target\n",
    "xFeatures = df[['age', 'sex', 'steroid', 'antivirals', 'fatigue', 'malaise',\n",
    "       'anorexia', 'liver_big', 'liver_firm', 'spleen_palpable', 'spiders',\n",
    "       'ascites', 'varices', 'bilirubin', 'alk_phosphate', 'sgot', 'albumin',\n",
    "       'protime', 'histology']]\n",
    "yTarget = df['class']"
   ]
  },
  {
   "cell_type": "code",
   "execution_count": 197,
   "id": "a4549b61-3da1-45d4-94aa-5b828deb5828",
   "metadata": {},
   "outputs": [],
   "source": [
    "# Selecting best features using SKb\n",
    "skb = SelectKBest(score_func=chi2, k=15)\n",
    "best_features = skb.fit(xFeature, yTarget)"
   ]
  },
  {
   "cell_type": "code",
   "execution_count": 198,
   "id": "f11a5f1b-f3da-4a18-b3db-b1e19718d34a",
   "metadata": {},
   "outputs": [
    {
     "name": "stdout",
     "output_type": "stream",
     "text": [
      "Score: [ 28.47481919   0.38948319   0.3995129    0.18634161   2.34643234\n",
      "   2.46803203   0.19648065   0.31698209   0.9867095    0.74535155\n",
      "   3.18940804   2.09639954   1.12812176  30.10247172  17.88270548\n",
      "  47.38820795   6.87318606 130.18332457   3.01854675]\n"
     ]
    }
   ],
   "source": [
    "# Highest score shows the best fureturs\n",
    "print(f\"Score: {best_features.scores_}\")"
   ]
  },
  {
   "cell_type": "code",
   "execution_count": 199,
   "id": "647ec744-6be7-49e7-bbf3-9bbbf823c0c0",
   "metadata": {},
   "outputs": [],
   "source": [
    "# Transforing selected features(optional)\n",
    "best_f_trans = best_features.transform(xFeatures)"
   ]
  },
  {
   "cell_type": "code",
   "execution_count": 200,
   "id": "69990da2-83da-4969-832f-c6bef0b978ab",
   "metadata": {},
   "outputs": [
    {
     "data": {
      "text/plain": [
       "array([[30. ,  1. ,  2. , ...,  4. ,  0. ,  1. ],\n",
       "       [50. ,  1. ,  1. , ...,  3.5,  0. ,  1. ],\n",
       "       [78. ,  2. ,  1. , ...,  4. ,  0. ,  1. ],\n",
       "       ...,\n",
       "       [61. ,  1. ,  1. , ...,  4.1,  0. ,  2. ],\n",
       "       [53. ,  1. ,  1. , ...,  4.1, 48. ,  2. ],\n",
       "       [43. ,  2. ,  1. , ...,  3.1, 42. ,  2. ]])"
      ]
     },
     "execution_count": 200,
     "metadata": {},
     "output_type": "execute_result"
    }
   ],
   "source": [
    "best_f_trans"
   ]
  },
  {
   "cell_type": "markdown",
   "id": "27fd0b29-20a3-4cbf-83f4-84378210feb0",
   "metadata": {},
   "source": [
    "#### Mapping Feature Scores to its respective name"
   ]
  },
  {
   "cell_type": "code",
   "execution_count": 201,
   "id": "5c1deff0-b381-4fc1-b1e9-0a383208527e",
   "metadata": {},
   "outputs": [],
   "source": [
    "# showing f_score in DataFrame\n",
    "\n",
    "feature_score = pd.DataFrame(best_features.scores_, columns=['feature_score'])"
   ]
  },
  {
   "cell_type": "code",
   "execution_count": 202,
   "id": "39115721-0ef2-4c66-8268-6184871c0a55",
   "metadata": {},
   "outputs": [
    {
     "data": {
      "text/html": [
       "<div>\n",
       "<style scoped>\n",
       "    .dataframe tbody tr th:only-of-type {\n",
       "        vertical-align: middle;\n",
       "    }\n",
       "\n",
       "    .dataframe tbody tr th {\n",
       "        vertical-align: top;\n",
       "    }\n",
       "\n",
       "    .dataframe thead th {\n",
       "        text-align: right;\n",
       "    }\n",
       "</style>\n",
       "<table border=\"1\" class=\"dataframe\">\n",
       "  <thead>\n",
       "    <tr style=\"text-align: right;\">\n",
       "      <th></th>\n",
       "      <th>feature_score</th>\n",
       "    </tr>\n",
       "  </thead>\n",
       "  <tbody>\n",
       "    <tr>\n",
       "      <th>0</th>\n",
       "      <td>28.474819</td>\n",
       "    </tr>\n",
       "    <tr>\n",
       "      <th>1</th>\n",
       "      <td>0.389483</td>\n",
       "    </tr>\n",
       "    <tr>\n",
       "      <th>2</th>\n",
       "      <td>0.399513</td>\n",
       "    </tr>\n",
       "    <tr>\n",
       "      <th>3</th>\n",
       "      <td>0.186342</td>\n",
       "    </tr>\n",
       "    <tr>\n",
       "      <th>4</th>\n",
       "      <td>2.346432</td>\n",
       "    </tr>\n",
       "    <tr>\n",
       "      <th>5</th>\n",
       "      <td>2.468032</td>\n",
       "    </tr>\n",
       "    <tr>\n",
       "      <th>6</th>\n",
       "      <td>0.196481</td>\n",
       "    </tr>\n",
       "    <tr>\n",
       "      <th>7</th>\n",
       "      <td>0.316982</td>\n",
       "    </tr>\n",
       "    <tr>\n",
       "      <th>8</th>\n",
       "      <td>0.986710</td>\n",
       "    </tr>\n",
       "    <tr>\n",
       "      <th>9</th>\n",
       "      <td>0.745352</td>\n",
       "    </tr>\n",
       "    <tr>\n",
       "      <th>10</th>\n",
       "      <td>3.189408</td>\n",
       "    </tr>\n",
       "    <tr>\n",
       "      <th>11</th>\n",
       "      <td>2.096400</td>\n",
       "    </tr>\n",
       "    <tr>\n",
       "      <th>12</th>\n",
       "      <td>1.128122</td>\n",
       "    </tr>\n",
       "    <tr>\n",
       "      <th>13</th>\n",
       "      <td>30.102472</td>\n",
       "    </tr>\n",
       "    <tr>\n",
       "      <th>14</th>\n",
       "      <td>17.882705</td>\n",
       "    </tr>\n",
       "    <tr>\n",
       "      <th>15</th>\n",
       "      <td>47.388208</td>\n",
       "    </tr>\n",
       "    <tr>\n",
       "      <th>16</th>\n",
       "      <td>6.873186</td>\n",
       "    </tr>\n",
       "    <tr>\n",
       "      <th>17</th>\n",
       "      <td>130.183325</td>\n",
       "    </tr>\n",
       "    <tr>\n",
       "      <th>18</th>\n",
       "      <td>3.018547</td>\n",
       "    </tr>\n",
       "  </tbody>\n",
       "</table>\n",
       "</div>"
      ],
      "text/plain": [
       "    feature_score\n",
       "0       28.474819\n",
       "1        0.389483\n",
       "2        0.399513\n",
       "3        0.186342\n",
       "4        2.346432\n",
       "5        2.468032\n",
       "6        0.196481\n",
       "7        0.316982\n",
       "8        0.986710\n",
       "9        0.745352\n",
       "10       3.189408\n",
       "11       2.096400\n",
       "12       1.128122\n",
       "13      30.102472\n",
       "14      17.882705\n",
       "15      47.388208\n",
       "16       6.873186\n",
       "17     130.183325\n",
       "18       3.018547"
      ]
     },
     "execution_count": 202,
     "metadata": {},
     "output_type": "execute_result"
    }
   ],
   "source": [
    "feature_score"
   ]
  },
  {
   "cell_type": "code",
   "execution_count": 203,
   "id": "cb475d3e-bcfd-41ff-9410-175352aa2772",
   "metadata": {},
   "outputs": [],
   "source": [
    "# Feature column name \n",
    "feature_column_name = pd.DataFrame(xFeatures.columns, columns=['feature_name'])\n",
    "\n",
    "# Map Feature score to Feature name\n",
    "best_feature_df = pd.concat([feature_column_name, feature_score], axis=1)"
   ]
  },
  {
   "cell_type": "code",
   "execution_count": 204,
   "id": "c2a8d916-6d19-42d6-b71f-15a9d4010570",
   "metadata": {},
   "outputs": [
    {
     "data": {
      "text/html": [
       "<div>\n",
       "<style scoped>\n",
       "    .dataframe tbody tr th:only-of-type {\n",
       "        vertical-align: middle;\n",
       "    }\n",
       "\n",
       "    .dataframe tbody tr th {\n",
       "        vertical-align: top;\n",
       "    }\n",
       "\n",
       "    .dataframe thead th {\n",
       "        text-align: right;\n",
       "    }\n",
       "</style>\n",
       "<table border=\"1\" class=\"dataframe\">\n",
       "  <thead>\n",
       "    <tr style=\"text-align: right;\">\n",
       "      <th></th>\n",
       "      <th>feature_name</th>\n",
       "      <th>feature_score</th>\n",
       "    </tr>\n",
       "  </thead>\n",
       "  <tbody>\n",
       "    <tr>\n",
       "      <th>0</th>\n",
       "      <td>age</td>\n",
       "      <td>28.474819</td>\n",
       "    </tr>\n",
       "    <tr>\n",
       "      <th>1</th>\n",
       "      <td>sex</td>\n",
       "      <td>0.389483</td>\n",
       "    </tr>\n",
       "    <tr>\n",
       "      <th>2</th>\n",
       "      <td>steroid</td>\n",
       "      <td>0.399513</td>\n",
       "    </tr>\n",
       "    <tr>\n",
       "      <th>3</th>\n",
       "      <td>antivirals</td>\n",
       "      <td>0.186342</td>\n",
       "    </tr>\n",
       "    <tr>\n",
       "      <th>4</th>\n",
       "      <td>fatigue</td>\n",
       "      <td>2.346432</td>\n",
       "    </tr>\n",
       "    <tr>\n",
       "      <th>5</th>\n",
       "      <td>malaise</td>\n",
       "      <td>2.468032</td>\n",
       "    </tr>\n",
       "    <tr>\n",
       "      <th>6</th>\n",
       "      <td>anorexia</td>\n",
       "      <td>0.196481</td>\n",
       "    </tr>\n",
       "    <tr>\n",
       "      <th>7</th>\n",
       "      <td>liver_big</td>\n",
       "      <td>0.316982</td>\n",
       "    </tr>\n",
       "    <tr>\n",
       "      <th>8</th>\n",
       "      <td>liver_firm</td>\n",
       "      <td>0.986710</td>\n",
       "    </tr>\n",
       "    <tr>\n",
       "      <th>9</th>\n",
       "      <td>spleen_palpable</td>\n",
       "      <td>0.745352</td>\n",
       "    </tr>\n",
       "    <tr>\n",
       "      <th>10</th>\n",
       "      <td>spiders</td>\n",
       "      <td>3.189408</td>\n",
       "    </tr>\n",
       "    <tr>\n",
       "      <th>11</th>\n",
       "      <td>ascites</td>\n",
       "      <td>2.096400</td>\n",
       "    </tr>\n",
       "    <tr>\n",
       "      <th>12</th>\n",
       "      <td>varices</td>\n",
       "      <td>1.128122</td>\n",
       "    </tr>\n",
       "    <tr>\n",
       "      <th>13</th>\n",
       "      <td>bilirubin</td>\n",
       "      <td>30.102472</td>\n",
       "    </tr>\n",
       "    <tr>\n",
       "      <th>14</th>\n",
       "      <td>alk_phosphate</td>\n",
       "      <td>17.882705</td>\n",
       "    </tr>\n",
       "    <tr>\n",
       "      <th>15</th>\n",
       "      <td>sgot</td>\n",
       "      <td>47.388208</td>\n",
       "    </tr>\n",
       "    <tr>\n",
       "      <th>16</th>\n",
       "      <td>albumin</td>\n",
       "      <td>6.873186</td>\n",
       "    </tr>\n",
       "    <tr>\n",
       "      <th>17</th>\n",
       "      <td>protime</td>\n",
       "      <td>130.183325</td>\n",
       "    </tr>\n",
       "    <tr>\n",
       "      <th>18</th>\n",
       "      <td>histology</td>\n",
       "      <td>3.018547</td>\n",
       "    </tr>\n",
       "  </tbody>\n",
       "</table>\n",
       "</div>"
      ],
      "text/plain": [
       "       feature_name  feature_score\n",
       "0               age      28.474819\n",
       "1               sex       0.389483\n",
       "2           steroid       0.399513\n",
       "3        antivirals       0.186342\n",
       "4           fatigue       2.346432\n",
       "5           malaise       2.468032\n",
       "6          anorexia       0.196481\n",
       "7         liver_big       0.316982\n",
       "8        liver_firm       0.986710\n",
       "9   spleen_palpable       0.745352\n",
       "10          spiders       3.189408\n",
       "11          ascites       2.096400\n",
       "12          varices       1.128122\n",
       "13        bilirubin      30.102472\n",
       "14    alk_phosphate      17.882705\n",
       "15             sgot      47.388208\n",
       "16          albumin       6.873186\n",
       "17          protime     130.183325\n",
       "18        histology       3.018547"
      ]
     },
     "execution_count": 204,
     "metadata": {},
     "output_type": "execute_result"
    }
   ],
   "source": [
    "best_feature_df # The higher the score the better the feature for prediction"
   ]
  },
  {
   "cell_type": "code",
   "execution_count": 249,
   "id": "c03e8253-9877-49f6-9aca-2051dc951021",
   "metadata": {},
   "outputs": [
    {
     "data": {
      "text/html": [
       "<div>\n",
       "<style scoped>\n",
       "    .dataframe tbody tr th:only-of-type {\n",
       "        vertical-align: middle;\n",
       "    }\n",
       "\n",
       "    .dataframe tbody tr th {\n",
       "        vertical-align: top;\n",
       "    }\n",
       "\n",
       "    .dataframe thead th {\n",
       "        text-align: right;\n",
       "    }\n",
       "</style>\n",
       "<table border=\"1\" class=\"dataframe\">\n",
       "  <thead>\n",
       "    <tr style=\"text-align: right;\">\n",
       "      <th></th>\n",
       "      <th>feature_name</th>\n",
       "      <th>feature_score</th>\n",
       "    </tr>\n",
       "  </thead>\n",
       "  <tbody>\n",
       "    <tr>\n",
       "      <th>17</th>\n",
       "      <td>protime</td>\n",
       "      <td>130.183325</td>\n",
       "    </tr>\n",
       "    <tr>\n",
       "      <th>15</th>\n",
       "      <td>sgot</td>\n",
       "      <td>47.388208</td>\n",
       "    </tr>\n",
       "    <tr>\n",
       "      <th>13</th>\n",
       "      <td>bilirubin</td>\n",
       "      <td>30.102472</td>\n",
       "    </tr>\n",
       "    <tr>\n",
       "      <th>0</th>\n",
       "      <td>age</td>\n",
       "      <td>28.474819</td>\n",
       "    </tr>\n",
       "    <tr>\n",
       "      <th>14</th>\n",
       "      <td>alk_phosphate</td>\n",
       "      <td>17.882705</td>\n",
       "    </tr>\n",
       "    <tr>\n",
       "      <th>16</th>\n",
       "      <td>albumin</td>\n",
       "      <td>6.873186</td>\n",
       "    </tr>\n",
       "    <tr>\n",
       "      <th>10</th>\n",
       "      <td>spiders</td>\n",
       "      <td>3.189408</td>\n",
       "    </tr>\n",
       "    <tr>\n",
       "      <th>18</th>\n",
       "      <td>histology</td>\n",
       "      <td>3.018547</td>\n",
       "    </tr>\n",
       "    <tr>\n",
       "      <th>5</th>\n",
       "      <td>malaise</td>\n",
       "      <td>2.468032</td>\n",
       "    </tr>\n",
       "    <tr>\n",
       "      <th>4</th>\n",
       "      <td>fatigue</td>\n",
       "      <td>2.346432</td>\n",
       "    </tr>\n",
       "    <tr>\n",
       "      <th>11</th>\n",
       "      <td>ascites</td>\n",
       "      <td>2.096400</td>\n",
       "    </tr>\n",
       "    <tr>\n",
       "      <th>12</th>\n",
       "      <td>varices</td>\n",
       "      <td>1.128122</td>\n",
       "    </tr>\n",
       "    <tr>\n",
       "      <th>8</th>\n",
       "      <td>liver_firm</td>\n",
       "      <td>0.986710</td>\n",
       "    </tr>\n",
       "    <tr>\n",
       "      <th>9</th>\n",
       "      <td>spleen_palpable</td>\n",
       "      <td>0.745352</td>\n",
       "    </tr>\n",
       "    <tr>\n",
       "      <th>2</th>\n",
       "      <td>steroid</td>\n",
       "      <td>0.399513</td>\n",
       "    </tr>\n",
       "    <tr>\n",
       "      <th>1</th>\n",
       "      <td>sex</td>\n",
       "      <td>0.389483</td>\n",
       "    </tr>\n",
       "    <tr>\n",
       "      <th>7</th>\n",
       "      <td>liver_big</td>\n",
       "      <td>0.316982</td>\n",
       "    </tr>\n",
       "    <tr>\n",
       "      <th>6</th>\n",
       "      <td>anorexia</td>\n",
       "      <td>0.196481</td>\n",
       "    </tr>\n",
       "    <tr>\n",
       "      <th>3</th>\n",
       "      <td>antivirals</td>\n",
       "      <td>0.186342</td>\n",
       "    </tr>\n",
       "  </tbody>\n",
       "</table>\n",
       "</div>"
      ],
      "text/plain": [
       "       feature_name  feature_score\n",
       "17          protime     130.183325\n",
       "15             sgot      47.388208\n",
       "13        bilirubin      30.102472\n",
       "0               age      28.474819\n",
       "14    alk_phosphate      17.882705\n",
       "16          albumin       6.873186\n",
       "10          spiders       3.189408\n",
       "18        histology       3.018547\n",
       "5           malaise       2.468032\n",
       "4           fatigue       2.346432\n",
       "11          ascites       2.096400\n",
       "12          varices       1.128122\n",
       "8        liver_firm       0.986710\n",
       "9   spleen_palpable       0.745352\n",
       "2           steroid       0.399513\n",
       "1               sex       0.389483\n",
       "7         liver_big       0.316982\n",
       "6          anorexia       0.196481\n",
       "3        antivirals       0.186342"
      ]
     },
     "execution_count": 249,
     "metadata": {},
     "output_type": "execute_result"
    }
   ],
   "source": [
    "# Get the top best 12 features\n",
    "best_feature_df.nlargest(19, 'feature_score')"
   ]
  },
  {
   "cell_type": "markdown",
   "id": "ebfa8a54-0683-4acc-8fed-d22a40572bbe",
   "metadata": {},
   "source": [
    "#### Recursive Feature Elimination Method of Feature Selection"
   ]
  },
  {
   "cell_type": "code",
   "execution_count": 234,
   "id": "da6aa808-7648-4c90-9273-75127532dadc",
   "metadata": {},
   "outputs": [],
   "source": [
    "from sklearn.feature_selection import RFE, RFECV\n",
    "from sklearn.linear_model import LogisticRegression # A Classifier Algorithm \n",
    "from sklearn.tree import DecisionTreeClassifier"
   ]
  },
  {
   "cell_type": "code",
   "execution_count": 235,
   "id": "8dcd4a30-32c1-4c14-b593-c8cd62ba2ee7",
   "metadata": {},
   "outputs": [],
   "source": [
    "classifier = LogisticRegression(random_state=0)\n",
    "estimator = DecisionTreeClassifier()"
   ]
  },
  {
   "cell_type": "code",
   "execution_count": 236,
   "id": "4e876e2c-8ef6-4ff3-a8c3-a11d4e69856c",
   "metadata": {},
   "outputs": [],
   "source": [
    "#rfe = RFE(classifier, n_features_to_select=8)\n",
    "#rfcv = RFECV(classifier, cv=8)\n",
    "selector = RFECV(estimator, cv=8)"
   ]
  },
  {
   "cell_type": "code",
   "execution_count": 239,
   "id": "9bdede63-55be-4410-b34f-71cbf3141aae",
   "metadata": {},
   "outputs": [],
   "source": [
    "#rfe.fit(xFeatures, yTarget)\n",
    "select = selector.fit(xFeatures, yTarget)"
   ]
  },
  {
   "cell_type": "code",
   "execution_count": 241,
   "id": "574db4b2-d78e-4a3c-9193-40931ad03c0b",
   "metadata": {},
   "outputs": [],
   "source": [
    "# Selection\n",
    "seelcted_features = pd.DataFrame(select.support_, columns=['Selected Features'])"
   ]
  },
  {
   "cell_type": "code",
   "execution_count": 243,
   "id": "63a490d4-8694-4724-9c80-e2d01c1efa5d",
   "metadata": {},
   "outputs": [],
   "source": [
    "feature_ranking = pd.DataFrame(select.ranking_, columns=['Features Ranking'])"
   ]
  },
  {
   "cell_type": "code",
   "execution_count": 247,
   "id": "8fdc25ef-38c2-429f-a9c6-630ea0f728fd",
   "metadata": {},
   "outputs": [],
   "source": [
    "show_selected = pd.concat([feature_column_name, seelcted_features, feature_ranking], axis=1)"
   ]
  },
  {
   "cell_type": "code",
   "execution_count": 248,
   "id": "07bf5976-ab9b-43fa-a2c3-371d5b0829c6",
   "metadata": {},
   "outputs": [
    {
     "data": {
      "text/html": [
       "<div>\n",
       "<style scoped>\n",
       "    .dataframe tbody tr th:only-of-type {\n",
       "        vertical-align: middle;\n",
       "    }\n",
       "\n",
       "    .dataframe tbody tr th {\n",
       "        vertical-align: top;\n",
       "    }\n",
       "\n",
       "    .dataframe thead th {\n",
       "        text-align: right;\n",
       "    }\n",
       "</style>\n",
       "<table border=\"1\" class=\"dataframe\">\n",
       "  <thead>\n",
       "    <tr style=\"text-align: right;\">\n",
       "      <th></th>\n",
       "      <th>feature_name</th>\n",
       "      <th>Selected Features</th>\n",
       "      <th>Features Ranking</th>\n",
       "    </tr>\n",
       "  </thead>\n",
       "  <tbody>\n",
       "    <tr>\n",
       "      <th>0</th>\n",
       "      <td>age</td>\n",
       "      <td>True</td>\n",
       "      <td>1</td>\n",
       "    </tr>\n",
       "    <tr>\n",
       "      <th>1</th>\n",
       "      <td>sex</td>\n",
       "      <td>False</td>\n",
       "      <td>7</td>\n",
       "    </tr>\n",
       "    <tr>\n",
       "      <th>2</th>\n",
       "      <td>steroid</td>\n",
       "      <td>False</td>\n",
       "      <td>6</td>\n",
       "    </tr>\n",
       "    <tr>\n",
       "      <th>3</th>\n",
       "      <td>antivirals</td>\n",
       "      <td>False</td>\n",
       "      <td>5</td>\n",
       "    </tr>\n",
       "    <tr>\n",
       "      <th>4</th>\n",
       "      <td>fatigue</td>\n",
       "      <td>False</td>\n",
       "      <td>4</td>\n",
       "    </tr>\n",
       "    <tr>\n",
       "      <th>5</th>\n",
       "      <td>malaise</td>\n",
       "      <td>True</td>\n",
       "      <td>1</td>\n",
       "    </tr>\n",
       "    <tr>\n",
       "      <th>6</th>\n",
       "      <td>anorexia</td>\n",
       "      <td>False</td>\n",
       "      <td>3</td>\n",
       "    </tr>\n",
       "    <tr>\n",
       "      <th>7</th>\n",
       "      <td>liver_big</td>\n",
       "      <td>False</td>\n",
       "      <td>2</td>\n",
       "    </tr>\n",
       "    <tr>\n",
       "      <th>8</th>\n",
       "      <td>liver_firm</td>\n",
       "      <td>True</td>\n",
       "      <td>1</td>\n",
       "    </tr>\n",
       "    <tr>\n",
       "      <th>9</th>\n",
       "      <td>spleen_palpable</td>\n",
       "      <td>True</td>\n",
       "      <td>1</td>\n",
       "    </tr>\n",
       "    <tr>\n",
       "      <th>10</th>\n",
       "      <td>spiders</td>\n",
       "      <td>True</td>\n",
       "      <td>1</td>\n",
       "    </tr>\n",
       "    <tr>\n",
       "      <th>11</th>\n",
       "      <td>ascites</td>\n",
       "      <td>True</td>\n",
       "      <td>1</td>\n",
       "    </tr>\n",
       "    <tr>\n",
       "      <th>12</th>\n",
       "      <td>varices</td>\n",
       "      <td>True</td>\n",
       "      <td>1</td>\n",
       "    </tr>\n",
       "    <tr>\n",
       "      <th>13</th>\n",
       "      <td>bilirubin</td>\n",
       "      <td>True</td>\n",
       "      <td>1</td>\n",
       "    </tr>\n",
       "    <tr>\n",
       "      <th>14</th>\n",
       "      <td>alk_phosphate</td>\n",
       "      <td>True</td>\n",
       "      <td>1</td>\n",
       "    </tr>\n",
       "    <tr>\n",
       "      <th>15</th>\n",
       "      <td>sgot</td>\n",
       "      <td>True</td>\n",
       "      <td>1</td>\n",
       "    </tr>\n",
       "    <tr>\n",
       "      <th>16</th>\n",
       "      <td>albumin</td>\n",
       "      <td>True</td>\n",
       "      <td>1</td>\n",
       "    </tr>\n",
       "    <tr>\n",
       "      <th>17</th>\n",
       "      <td>protime</td>\n",
       "      <td>True</td>\n",
       "      <td>1</td>\n",
       "    </tr>\n",
       "    <tr>\n",
       "      <th>18</th>\n",
       "      <td>histology</td>\n",
       "      <td>True</td>\n",
       "      <td>1</td>\n",
       "    </tr>\n",
       "  </tbody>\n",
       "</table>\n",
       "</div>"
      ],
      "text/plain": [
       "       feature_name  Selected Features  Features Ranking\n",
       "0               age               True                 1\n",
       "1               sex              False                 7\n",
       "2           steroid              False                 6\n",
       "3        antivirals              False                 5\n",
       "4           fatigue              False                 4\n",
       "5           malaise               True                 1\n",
       "6          anorexia              False                 3\n",
       "7         liver_big              False                 2\n",
       "8        liver_firm               True                 1\n",
       "9   spleen_palpable               True                 1\n",
       "10          spiders               True                 1\n",
       "11          ascites               True                 1\n",
       "12          varices               True                 1\n",
       "13        bilirubin               True                 1\n",
       "14    alk_phosphate               True                 1\n",
       "15             sgot               True                 1\n",
       "16          albumin               True                 1\n",
       "17          protime               True                 1\n",
       "18        histology               True                 1"
      ]
     },
     "execution_count": 248,
     "metadata": {},
     "output_type": "execute_result"
    }
   ],
   "source": [
    "show_selected "
   ]
  },
  {
   "cell_type": "markdown",
   "id": "639ec7db-439e-41f3-8820-f84f8f3eb0d0",
   "metadata": {},
   "source": [
    "### Narative\n",
    "+ RFECV will eliminate the lowest ranking or true"
   ]
  },
  {
   "cell_type": "markdown",
   "id": "d2e2b96d-6870-42a0-a9a8-bb4ed2286ec9",
   "metadata": {},
   "source": [
    "#### ExtraTreesClassifier Method of Feature Selection"
   ]
  },
  {
   "cell_type": "code",
   "execution_count": 251,
   "id": "9c86e2cb-f17c-4fa9-af5c-72b17da02923",
   "metadata": {},
   "outputs": [],
   "source": [
    "from sklearn.ensemble import ExtraTreesClassifier"
   ]
  },
  {
   "cell_type": "code",
   "execution_count": 252,
   "id": "fe04a546-8586-489d-93d3-cbbcb4ef789b",
   "metadata": {},
   "outputs": [
    {
     "data": {
      "text/html": [
       "<style>#sk-container-id-6 {color: black;background-color: white;}#sk-container-id-6 pre{padding: 0;}#sk-container-id-6 div.sk-toggleable {background-color: white;}#sk-container-id-6 label.sk-toggleable__label {cursor: pointer;display: block;width: 100%;margin-bottom: 0;padding: 0.3em;box-sizing: border-box;text-align: center;}#sk-container-id-6 label.sk-toggleable__label-arrow:before {content: \"▸\";float: left;margin-right: 0.25em;color: #696969;}#sk-container-id-6 label.sk-toggleable__label-arrow:hover:before {color: black;}#sk-container-id-6 div.sk-estimator:hover label.sk-toggleable__label-arrow:before {color: black;}#sk-container-id-6 div.sk-toggleable__content {max-height: 0;max-width: 0;overflow: hidden;text-align: left;background-color: #f0f8ff;}#sk-container-id-6 div.sk-toggleable__content pre {margin: 0.2em;color: black;border-radius: 0.25em;background-color: #f0f8ff;}#sk-container-id-6 input.sk-toggleable__control:checked~div.sk-toggleable__content {max-height: 200px;max-width: 100%;overflow: auto;}#sk-container-id-6 input.sk-toggleable__control:checked~label.sk-toggleable__label-arrow:before {content: \"▾\";}#sk-container-id-6 div.sk-estimator input.sk-toggleable__control:checked~label.sk-toggleable__label {background-color: #d4ebff;}#sk-container-id-6 div.sk-label input.sk-toggleable__control:checked~label.sk-toggleable__label {background-color: #d4ebff;}#sk-container-id-6 input.sk-hidden--visually {border: 0;clip: rect(1px 1px 1px 1px);clip: rect(1px, 1px, 1px, 1px);height: 1px;margin: -1px;overflow: hidden;padding: 0;position: absolute;width: 1px;}#sk-container-id-6 div.sk-estimator {font-family: monospace;background-color: #f0f8ff;border: 1px dotted black;border-radius: 0.25em;box-sizing: border-box;margin-bottom: 0.5em;}#sk-container-id-6 div.sk-estimator:hover {background-color: #d4ebff;}#sk-container-id-6 div.sk-parallel-item::after {content: \"\";width: 100%;border-bottom: 1px solid gray;flex-grow: 1;}#sk-container-id-6 div.sk-label:hover label.sk-toggleable__label {background-color: #d4ebff;}#sk-container-id-6 div.sk-serial::before {content: \"\";position: absolute;border-left: 1px solid gray;box-sizing: border-box;top: 0;bottom: 0;left: 50%;z-index: 0;}#sk-container-id-6 div.sk-serial {display: flex;flex-direction: column;align-items: center;background-color: white;padding-right: 0.2em;padding-left: 0.2em;position: relative;}#sk-container-id-6 div.sk-item {position: relative;z-index: 1;}#sk-container-id-6 div.sk-parallel {display: flex;align-items: stretch;justify-content: center;background-color: white;position: relative;}#sk-container-id-6 div.sk-item::before, #sk-container-id-6 div.sk-parallel-item::before {content: \"\";position: absolute;border-left: 1px solid gray;box-sizing: border-box;top: 0;bottom: 0;left: 50%;z-index: -1;}#sk-container-id-6 div.sk-parallel-item {display: flex;flex-direction: column;z-index: 1;position: relative;background-color: white;}#sk-container-id-6 div.sk-parallel-item:first-child::after {align-self: flex-end;width: 50%;}#sk-container-id-6 div.sk-parallel-item:last-child::after {align-self: flex-start;width: 50%;}#sk-container-id-6 div.sk-parallel-item:only-child::after {width: 0;}#sk-container-id-6 div.sk-dashed-wrapped {border: 1px dashed gray;margin: 0 0.4em 0.5em 0.4em;box-sizing: border-box;padding-bottom: 0.4em;background-color: white;}#sk-container-id-6 div.sk-label label {font-family: monospace;font-weight: bold;display: inline-block;line-height: 1.2em;}#sk-container-id-6 div.sk-label-container {text-align: center;}#sk-container-id-6 div.sk-container {/* jupyter's `normalize.less` sets `[hidden] { display: none; }` but bootstrap.min.css set `[hidden] { display: none !important; }` so we also need the `!important` here to be able to override the default hidden behavior on the sphinx rendered scikit-learn.org. See: https://github.com/scikit-learn/scikit-learn/issues/21755 */display: inline-block !important;position: relative;}#sk-container-id-6 div.sk-text-repr-fallback {display: none;}</style><div id=\"sk-container-id-6\" class=\"sk-top-container\"><div class=\"sk-text-repr-fallback\"><pre>ExtraTreesClassifier()</pre><b>In a Jupyter environment, please rerun this cell to show the HTML representation or trust the notebook. <br />On GitHub, the HTML representation is unable to render, please try loading this page with nbviewer.org.</b></div><div class=\"sk-container\" hidden><div class=\"sk-item\"><div class=\"sk-estimator sk-toggleable\"><input class=\"sk-toggleable__control sk-hidden--visually\" id=\"sk-estimator-id-16\" type=\"checkbox\" checked><label for=\"sk-estimator-id-16\" class=\"sk-toggleable__label sk-toggleable__label-arrow\">ExtraTreesClassifier</label><div class=\"sk-toggleable__content\"><pre>ExtraTreesClassifier()</pre></div></div></div></div></div>"
      ],
      "text/plain": [
       "ExtraTreesClassifier()"
      ]
     },
     "execution_count": 252,
     "metadata": {},
     "output_type": "execute_result"
    }
   ],
   "source": [
    "etcf = ExtraTreesClassifier()\n",
    "etcf.fit(xFeature, yTarget)"
   ]
  },
  {
   "cell_type": "code",
   "execution_count": 254,
   "id": "f4dc4970-567b-4e30-bbd2-bd47c61c1404",
   "metadata": {},
   "outputs": [
    {
     "name": "stdout",
     "output_type": "stream",
     "text": [
      "[0.06106794 0.02547162 0.02322226 0.01153512 0.02390339 0.05700971\n",
      " 0.0266081  0.0399011  0.04899312 0.03970989 0.07875281 0.08722684\n",
      " 0.05786558 0.08860607 0.06810862 0.05914621 0.0776725  0.06649388\n",
      " 0.05870524]\n"
     ]
    }
   ],
   "source": [
    " print(etcf.feature_importances_)"
   ]
  },
  {
   "cell_type": "code",
   "execution_count": 257,
   "id": "f3dbc090-890c-43ef-ae0f-dfc4ecd1137c",
   "metadata": {},
   "outputs": [],
   "source": [
    "feature_importance = pd.DataFrame(etcf.feature_importances_, columns=['Feature Importance'])\n",
    "selected_feature_importance = pd.concat([feature_column_name, feature_importance], axis=1)"
   ]
  },
  {
   "cell_type": "code",
   "execution_count": 258,
   "id": "6a648baa-e457-4d01-b31d-389809c322ae",
   "metadata": {},
   "outputs": [
    {
     "data": {
      "text/html": [
       "<div>\n",
       "<style scoped>\n",
       "    .dataframe tbody tr th:only-of-type {\n",
       "        vertical-align: middle;\n",
       "    }\n",
       "\n",
       "    .dataframe tbody tr th {\n",
       "        vertical-align: top;\n",
       "    }\n",
       "\n",
       "    .dataframe thead th {\n",
       "        text-align: right;\n",
       "    }\n",
       "</style>\n",
       "<table border=\"1\" class=\"dataframe\">\n",
       "  <thead>\n",
       "    <tr style=\"text-align: right;\">\n",
       "      <th></th>\n",
       "      <th>feature_name</th>\n",
       "      <th>Feature Importance</th>\n",
       "    </tr>\n",
       "  </thead>\n",
       "  <tbody>\n",
       "    <tr>\n",
       "      <th>0</th>\n",
       "      <td>age</td>\n",
       "      <td>0.061068</td>\n",
       "    </tr>\n",
       "    <tr>\n",
       "      <th>1</th>\n",
       "      <td>sex</td>\n",
       "      <td>0.025472</td>\n",
       "    </tr>\n",
       "    <tr>\n",
       "      <th>2</th>\n",
       "      <td>steroid</td>\n",
       "      <td>0.023222</td>\n",
       "    </tr>\n",
       "    <tr>\n",
       "      <th>3</th>\n",
       "      <td>antivirals</td>\n",
       "      <td>0.011535</td>\n",
       "    </tr>\n",
       "    <tr>\n",
       "      <th>4</th>\n",
       "      <td>fatigue</td>\n",
       "      <td>0.023903</td>\n",
       "    </tr>\n",
       "    <tr>\n",
       "      <th>5</th>\n",
       "      <td>malaise</td>\n",
       "      <td>0.057010</td>\n",
       "    </tr>\n",
       "    <tr>\n",
       "      <th>6</th>\n",
       "      <td>anorexia</td>\n",
       "      <td>0.026608</td>\n",
       "    </tr>\n",
       "    <tr>\n",
       "      <th>7</th>\n",
       "      <td>liver_big</td>\n",
       "      <td>0.039901</td>\n",
       "    </tr>\n",
       "    <tr>\n",
       "      <th>8</th>\n",
       "      <td>liver_firm</td>\n",
       "      <td>0.048993</td>\n",
       "    </tr>\n",
       "    <tr>\n",
       "      <th>9</th>\n",
       "      <td>spleen_palpable</td>\n",
       "      <td>0.039710</td>\n",
       "    </tr>\n",
       "    <tr>\n",
       "      <th>10</th>\n",
       "      <td>spiders</td>\n",
       "      <td>0.078753</td>\n",
       "    </tr>\n",
       "    <tr>\n",
       "      <th>11</th>\n",
       "      <td>ascites</td>\n",
       "      <td>0.087227</td>\n",
       "    </tr>\n",
       "    <tr>\n",
       "      <th>12</th>\n",
       "      <td>varices</td>\n",
       "      <td>0.057866</td>\n",
       "    </tr>\n",
       "    <tr>\n",
       "      <th>13</th>\n",
       "      <td>bilirubin</td>\n",
       "      <td>0.088606</td>\n",
       "    </tr>\n",
       "    <tr>\n",
       "      <th>14</th>\n",
       "      <td>alk_phosphate</td>\n",
       "      <td>0.068109</td>\n",
       "    </tr>\n",
       "    <tr>\n",
       "      <th>15</th>\n",
       "      <td>sgot</td>\n",
       "      <td>0.059146</td>\n",
       "    </tr>\n",
       "    <tr>\n",
       "      <th>16</th>\n",
       "      <td>albumin</td>\n",
       "      <td>0.077672</td>\n",
       "    </tr>\n",
       "    <tr>\n",
       "      <th>17</th>\n",
       "      <td>protime</td>\n",
       "      <td>0.066494</td>\n",
       "    </tr>\n",
       "    <tr>\n",
       "      <th>18</th>\n",
       "      <td>histology</td>\n",
       "      <td>0.058705</td>\n",
       "    </tr>\n",
       "  </tbody>\n",
       "</table>\n",
       "</div>"
      ],
      "text/plain": [
       "       feature_name  Feature Importance\n",
       "0               age            0.061068\n",
       "1               sex            0.025472\n",
       "2           steroid            0.023222\n",
       "3        antivirals            0.011535\n",
       "4           fatigue            0.023903\n",
       "5           malaise            0.057010\n",
       "6          anorexia            0.026608\n",
       "7         liver_big            0.039901\n",
       "8        liver_firm            0.048993\n",
       "9   spleen_palpable            0.039710\n",
       "10          spiders            0.078753\n",
       "11          ascites            0.087227\n",
       "12          varices            0.057866\n",
       "13        bilirubin            0.088606\n",
       "14    alk_phosphate            0.068109\n",
       "15             sgot            0.059146\n",
       "16          albumin            0.077672\n",
       "17          protime            0.066494\n",
       "18        histology            0.058705"
      ]
     },
     "execution_count": 258,
     "metadata": {},
     "output_type": "execute_result"
    }
   ],
   "source": [
    "selected_feature_importance"
   ]
  },
  {
   "cell_type": "code",
   "execution_count": 261,
   "id": "b6904d66-a3af-4462-9559-d63f568395db",
   "metadata": {},
   "outputs": [
    {
     "data": {
      "text/html": [
       "<div>\n",
       "<style scoped>\n",
       "    .dataframe tbody tr th:only-of-type {\n",
       "        vertical-align: middle;\n",
       "    }\n",
       "\n",
       "    .dataframe tbody tr th {\n",
       "        vertical-align: top;\n",
       "    }\n",
       "\n",
       "    .dataframe thead th {\n",
       "        text-align: right;\n",
       "    }\n",
       "</style>\n",
       "<table border=\"1\" class=\"dataframe\">\n",
       "  <thead>\n",
       "    <tr style=\"text-align: right;\">\n",
       "      <th></th>\n",
       "      <th>feature_name</th>\n",
       "      <th>Feature Importance</th>\n",
       "    </tr>\n",
       "  </thead>\n",
       "  <tbody>\n",
       "    <tr>\n",
       "      <th>13</th>\n",
       "      <td>bilirubin</td>\n",
       "      <td>0.088606</td>\n",
       "    </tr>\n",
       "    <tr>\n",
       "      <th>11</th>\n",
       "      <td>ascites</td>\n",
       "      <td>0.087227</td>\n",
       "    </tr>\n",
       "    <tr>\n",
       "      <th>10</th>\n",
       "      <td>spiders</td>\n",
       "      <td>0.078753</td>\n",
       "    </tr>\n",
       "    <tr>\n",
       "      <th>16</th>\n",
       "      <td>albumin</td>\n",
       "      <td>0.077672</td>\n",
       "    </tr>\n",
       "    <tr>\n",
       "      <th>14</th>\n",
       "      <td>alk_phosphate</td>\n",
       "      <td>0.068109</td>\n",
       "    </tr>\n",
       "    <tr>\n",
       "      <th>17</th>\n",
       "      <td>protime</td>\n",
       "      <td>0.066494</td>\n",
       "    </tr>\n",
       "    <tr>\n",
       "      <th>0</th>\n",
       "      <td>age</td>\n",
       "      <td>0.061068</td>\n",
       "    </tr>\n",
       "    <tr>\n",
       "      <th>15</th>\n",
       "      <td>sgot</td>\n",
       "      <td>0.059146</td>\n",
       "    </tr>\n",
       "    <tr>\n",
       "      <th>18</th>\n",
       "      <td>histology</td>\n",
       "      <td>0.058705</td>\n",
       "    </tr>\n",
       "    <tr>\n",
       "      <th>12</th>\n",
       "      <td>varices</td>\n",
       "      <td>0.057866</td>\n",
       "    </tr>\n",
       "    <tr>\n",
       "      <th>5</th>\n",
       "      <td>malaise</td>\n",
       "      <td>0.057010</td>\n",
       "    </tr>\n",
       "    <tr>\n",
       "      <th>8</th>\n",
       "      <td>liver_firm</td>\n",
       "      <td>0.048993</td>\n",
       "    </tr>\n",
       "  </tbody>\n",
       "</table>\n",
       "</div>"
      ],
      "text/plain": [
       "     feature_name  Feature Importance\n",
       "13      bilirubin            0.088606\n",
       "11        ascites            0.087227\n",
       "10        spiders            0.078753\n",
       "16        albumin            0.077672\n",
       "14  alk_phosphate            0.068109\n",
       "17        protime            0.066494\n",
       "0             age            0.061068\n",
       "15           sgot            0.059146\n",
       "18      histology            0.058705\n",
       "12        varices            0.057866\n",
       "5         malaise            0.057010\n",
       "8      liver_firm            0.048993"
      ]
     },
     "execution_count": 261,
     "metadata": {},
     "output_type": "execute_result"
    }
   ],
   "source": [
    "selected_feature_importance.nlargest(12, 'Feature Importance')"
   ]
  },
  {
   "cell_type": "code",
   "execution_count": 284,
   "id": "d13f1164-8e06-46dd-a4ec-39400059356c",
   "metadata": {},
   "outputs": [
    {
     "data": {
      "text/plain": [
       "<function matplotlib.pyplot.show(close=None, block=None)>"
      ]
     },
     "execution_count": 284,
     "metadata": {},
     "output_type": "execute_result"
    },
    {
     "data": {
      "image/png": "[encoded data removed]",
      "text/plain": [
       "<Figure size 640x480 with 1 Axes>"
      ]
     },
     "metadata": {},
     "output_type": "display_data"
    }
   ],
   "source": [
    "#figsize, ax1 = plt.subplots()\n",
    "plt.barh(selected_feature_importance['feature_name'], selected_feature_importance['Feature Importance'])\n",
    "plt.show"
   ]
  },
  {
   "cell_type": "code",
   "execution_count": 297,
   "id": "88a7bfc0-f8d1-4aee-9f85-29139db86e09",
   "metadata": {},
   "outputs": [
    {
     "data": {
      "text/plain": [
       "<Axes: ylabel='Feature Name'>"
      ]
     },
     "execution_count": 297,
     "metadata": {},
     "output_type": "execute_result"
    },
    {
     "data": {
      "image/png": "[encoded data removed]",
      "text/plain": [
       "<Figure size 640x480 with 1 Axes>"
      ]
     },
     "metadata": {},
     "output_type": "display_data"
    }
   ],
   "source": [
    "selected_feature_importance.nlargest(12, 'Feature Importance').plot(kind='barh', x='feature_name', ylabel='Feature Name')"
   ]
  },
  {
   "cell_type": "code",
   "execution_count": 298,
   "id": "eebd8b19-f6e2-4d2e-ad15-f2b4c5316e45",
   "metadata": {},
   "outputs": [
    {
     "data": {
      "text/plain": [
       "0                 age\n",
       "1                 sex\n",
       "2             steroid\n",
       "3          antivirals\n",
       "4             fatigue\n",
       "5             malaise\n",
       "6            anorexia\n",
       "7           liver_big\n",
       "8          liver_firm\n",
       "9     spleen_palpable\n",
       "10            spiders\n",
       "11            ascites\n",
       "12            varices\n",
       "13          bilirubin\n",
       "14      alk_phosphate\n",
       "15               sgot\n",
       "16            albumin\n",
       "17            protime\n",
       "18          histology\n",
       "Name: feature_name, dtype: object"
      ]
     },
     "execution_count": 298,
     "metadata": {},
     "output_type": "execute_result"
    }
   ],
   "source": [
    "selected_feature_importance.feature_name"
   ]
  },
  {
   "cell_type": "markdown",
   "id": "bd790b70-9dbb-4282-98a0-8922182cf150",
   "metadata": {},
   "source": [
    "#### Observation\n",
    "+ The best selectd features for prediction include; **bilirubin, albumin, spider, age, protime, sgot, ascites, alk_phosphate, histology, malaise, varices, liver_firm and fatigue**."
   ]
  },
  {
   "cell_type": "code",
   "execution_count": 308,
   "id": "9b1ad512-6414-40c7-bed2-26e60b3f24dd",
   "metadata": {},
   "outputs": [
    {
     "data": {
      "image/png": "[encoded data removed]",
      "text/plain": [
       "<Figure size 2000x1500 with 2 Axes>"
      ]
     },
     "metadata": {},
     "output_type": "display_data"
    }
   ],
   "source": [
    "plt.figure(figsize=(20,15))\n",
    "sns.heatmap(xFeatures.corr(), annot=True)\n",
    "plt.show()"
   ]
  },
  {
   "cell_type": "markdown",
   "id": "5e02eba9-1a8c-4add-8a64-425455860e4c",
   "metadata": {},
   "source": [
    "# Build Model"
   ]
  },
  {
   "cell_type": "markdown",
   "id": "8af94add-4a1f-4095-9bcf-c444bcb5201d",
   "metadata": {},
   "source": [
    "+ working with feature and target\n",
    "+ Train, Test & Split data\n",
    "+ Algorithm for model building we can use inlinde:\n",
    "    - LogisticRegression\n",
    "    - RandomForest\n",
    "    - DecisionTreeClassifier\n",
    "+ Serialize"
   ]
  },
  {
   "cell_type": "code",
   "execution_count": 309,
   "id": "ac29d24f-c43f-4247-9d05-b30dca2528c9",
   "metadata": {},
   "outputs": [],
   "source": [
    "# Importing ML modules\n",
    "from sklearn.linear_model import LogisticRegression\n",
    "from sklearn.ensemble import RandomForestClassifier\n",
    "from sklearn.tree import DecisionTreeClassifier\n",
    "\n",
    "# Fearture/Target Splitting module\n",
    "from sklearn.model_selection import train_test_split\n",
    "\n",
    "# Evaluator\n",
    "from sklearn.metrics import accuracy_score"
   ]
  },
  {
   "cell_type": "code",
   "execution_count": 314,
   "id": "9212a6bb-56c0-410c-a47f-e14c046d9a78",
   "metadata": {},
   "outputs": [
    {
     "data": {
      "text/plain": [
       "['age',\n",
       " 'sex',\n",
       " 'steroid',\n",
       " 'antivirals',\n",
       " 'fatigue',\n",
       " 'malaise',\n",
       " 'anorexia',\n",
       " 'liver_big',\n",
       " 'liver_firm',\n",
       " 'spleen_palpable',\n",
       " 'spiders',\n",
       " 'ascites',\n",
       " 'varices',\n",
       " 'bilirubin',\n",
       " 'alk_phosphate',\n",
       " 'sgot',\n",
       " 'albumin',\n",
       " 'protime',\n",
       " 'histology']"
      ]
     },
     "execution_count": 314,
     "metadata": {},
     "output_type": "execute_result"
    }
   ],
   "source": [
    "# Initial Features\n",
    "xFeatures.columns.tolist()"
   ]
  },
  {
   "cell_type": "code",
   "execution_count": 319,
   "id": "b8e14c86-91be-4351-b01f-135a999be9f7",
   "metadata": {},
   "outputs": [
    {
     "data": {
      "text/plain": [
       "['protime',\n",
       " 'sgot',\n",
       " 'bilirubin',\n",
       " 'age',\n",
       " 'alk_phosphate',\n",
       " 'albumin',\n",
       " 'spiders',\n",
       " 'histology',\n",
       " 'malaise',\n",
       " 'fatigue',\n",
       " 'ascites',\n",
       " 'varices']"
      ]
     },
     "execution_count": 319,
     "metadata": {},
     "output_type": "execute_result"
    }
   ],
   "source": [
    "# Selected Featurs\n",
    "best_feature_df.nlargest(12, 'feature_score')['feature_name'].tolist()"
   ]
  },
  {
   "cell_type": "markdown",
   "id": "875dbea6-b134-4ac7-9353-106c18e05704",
   "metadata": {},
   "source": [
    "#### Building model for both xFeatures & Selected Features\n",
    "+ We compare accuracy of prediction on selected features as against all features"
   ]
  },
  {
   "cell_type": "markdown",
   "id": "723c806e-a940-4e19-8fd7-a596ccf5eb68",
   "metadata": {},
   "source": [
    "##### Starting with xFeatures"
   ]
  },
  {
   "cell_type": "code",
   "execution_count": 342,
   "id": "2af317f6-3af3-43f8-83a1-b969eae1df72",
   "metadata": {},
   "outputs": [],
   "source": [
    "# xFeature\n",
    "# Split Train Test Data of all features\n",
    "X_train, X_test, y_train, y_test = train_test_split(xFeatures, yTarget, test_size=0.3, random_state=0 )"
   ]
  },
  {
   "cell_type": "code",
   "execution_count": 344,
   "id": "dc5d2806-c3df-4588-8472-b31019283eef",
   "metadata": {},
   "outputs": [
    {
     "name": "stderr",
     "output_type": "stream",
     "text": [
      "C:\\Users\\USER\\AppData\\Roaming\\Python\\Python311\\site-packages\\sklearn\\linear_model\\_logistic.py:458: ConvergenceWarning: lbfgs failed to converge (status=1):\n",
      "STOP: TOTAL NO. of ITERATIONS REACHED LIMIT.\n",
      "\n",
      "Increase the number of iterations (max_iter) or scale the data as shown in:\n",
      "    https://scikit-learn.org/stable/modules/preprocessing.html\n",
      "Please also refer to the documentation for alternative solver options:\n",
      "    https://scikit-learn.org/stable/modules/linear_model.html#logistic-regression\n",
      "  n_iter_i = _check_optimize_result(\n"
     ]
    },
    {
     "data": {
      "text/html": [
       "<style>#sk-container-id-8 {color: black;background-color: white;}#sk-container-id-8 pre{padding: 0;}#sk-container-id-8 div.sk-toggleable {background-color: white;}#sk-container-id-8 label.sk-toggleable__label {cursor: pointer;display: block;width: 100%;margin-bottom: 0;padding: 0.3em;box-sizing: border-box;text-align: center;}#sk-container-id-8 label.sk-toggleable__label-arrow:before {content: \"▸\";float: left;margin-right: 0.25em;color: #696969;}#sk-container-id-8 label.sk-toggleable__label-arrow:hover:before {color: black;}#sk-container-id-8 div.sk-estimator:hover label.sk-toggleable__label-arrow:before {color: black;}#sk-container-id-8 div.sk-toggleable__content {max-height: 0;max-width: 0;overflow: hidden;text-align: left;background-color: #f0f8ff;}#sk-container-id-8 div.sk-toggleable__content pre {margin: 0.2em;color: black;border-radius: 0.25em;background-color: #f0f8ff;}#sk-container-id-8 input.sk-toggleable__control:checked~div.sk-toggleable__content {max-height: 200px;max-width: 100%;overflow: auto;}#sk-container-id-8 input.sk-toggleable__control:checked~label.sk-toggleable__label-arrow:before {content: \"▾\";}#sk-container-id-8 div.sk-estimator input.sk-toggleable__control:checked~label.sk-toggleable__label {background-color: #d4ebff;}#sk-container-id-8 div.sk-label input.sk-toggleable__control:checked~label.sk-toggleable__label {background-color: #d4ebff;}#sk-container-id-8 input.sk-hidden--visually {border: 0;clip: rect(1px 1px 1px 1px);clip: rect(1px, 1px, 1px, 1px);height: 1px;margin: -1px;overflow: hidden;padding: 0;position: absolute;width: 1px;}#sk-container-id-8 div.sk-estimator {font-family: monospace;background-color: #f0f8ff;border: 1px dotted black;border-radius: 0.25em;box-sizing: border-box;margin-bottom: 0.5em;}#sk-container-id-8 div.sk-estimator:hover {background-color: #d4ebff;}#sk-container-id-8 div.sk-parallel-item::after {content: \"\";width: 100%;border-bottom: 1px solid gray;flex-grow: 1;}#sk-container-id-8 div.sk-label:hover label.sk-toggleable__label {background-color: #d4ebff;}#sk-container-id-8 div.sk-serial::before {content: \"\";position: absolute;border-left: 1px solid gray;box-sizing: border-box;top: 0;bottom: 0;left: 50%;z-index: 0;}#sk-container-id-8 div.sk-serial {display: flex;flex-direction: column;align-items: center;background-color: white;padding-right: 0.2em;padding-left: 0.2em;position: relative;}#sk-container-id-8 div.sk-item {position: relative;z-index: 1;}#sk-container-id-8 div.sk-parallel {display: flex;align-items: stretch;justify-content: center;background-color: white;position: relative;}#sk-container-id-8 div.sk-item::before, #sk-container-id-8 div.sk-parallel-item::before {content: \"\";position: absolute;border-left: 1px solid gray;box-sizing: border-box;top: 0;bottom: 0;left: 50%;z-index: -1;}#sk-container-id-8 div.sk-parallel-item {display: flex;flex-direction: column;z-index: 1;position: relative;background-color: white;}#sk-container-id-8 div.sk-parallel-item:first-child::after {align-self: flex-end;width: 50%;}#sk-container-id-8 div.sk-parallel-item:last-child::after {align-self: flex-start;width: 50%;}#sk-container-id-8 div.sk-parallel-item:only-child::after {width: 0;}#sk-container-id-8 div.sk-dashed-wrapped {border: 1px dashed gray;margin: 0 0.4em 0.5em 0.4em;box-sizing: border-box;padding-bottom: 0.4em;background-color: white;}#sk-container-id-8 div.sk-label label {font-family: monospace;font-weight: bold;display: inline-block;line-height: 1.2em;}#sk-container-id-8 div.sk-label-container {text-align: center;}#sk-container-id-8 div.sk-container {/* jupyter's `normalize.less` sets `[hidden] { display: none; }` but bootstrap.min.css set `[hidden] { display: none !important; }` so we also need the `!important` here to be able to override the default hidden behavior on the sphinx rendered scikit-learn.org. See: https://github.com/scikit-learn/scikit-learn/issues/21755 */display: inline-block !important;position: relative;}#sk-container-id-8 div.sk-text-repr-fallback {display: none;}</style><div id=\"sk-container-id-8\" class=\"sk-top-container\"><div class=\"sk-text-repr-fallback\"><pre>LogisticRegression(random_state=0)</pre><b>In a Jupyter environment, please rerun this cell to show the HTML representation or trust the notebook. <br />On GitHub, the HTML representation is unable to render, please try loading this page with nbviewer.org.</b></div><div class=\"sk-container\" hidden><div class=\"sk-item\"><div class=\"sk-estimator sk-toggleable\"><input class=\"sk-toggleable__control sk-hidden--visually\" id=\"sk-estimator-id-18\" type=\"checkbox\" checked><label for=\"sk-estimator-id-18\" class=\"sk-toggleable__label sk-toggleable__label-arrow\">LogisticRegression</label><div class=\"sk-toggleable__content\"><pre>LogisticRegression(random_state=0)</pre></div></div></div></div></div>"
      ],
      "text/plain": [
       "LogisticRegression(random_state=0)"
      ]
     },
     "execution_count": 344,
     "metadata": {},
     "output_type": "execute_result"
    }
   ],
   "source": [
    "logreg = LogisticRegression(random_state=0)\n",
    "logreg.fit(X_train,y_train)"
   ]
  },
  {
   "cell_type": "code",
   "execution_count": 347,
   "id": "1080a2db-8956-41bc-96d6-6a16622614ec",
   "metadata": {},
   "outputs": [
    {
     "data": {
      "text/plain": [
       "0.7659574468085106"
      ]
     },
     "execution_count": 347,
     "metadata": {},
     "output_type": "execute_result"
    }
   ],
   "source": [
    "# Model Accuracy\n",
    "# Method 1\n",
    "logreg.score(X_test, y_test)"
   ]
  },
  {
   "cell_type": "code",
   "execution_count": 346,
   "id": "12f78afa-93ec-4624-a5aa-ccb98bff8714",
   "metadata": {},
   "outputs": [],
   "source": [
    "# Method 2\n",
    "pred = logreg.predict(X_test)"
   ]
  },
  {
   "cell_type": "code",
   "execution_count": 348,
   "id": "8af94b61-0729-47b5-9564-daaf7519b459",
   "metadata": {},
   "outputs": [
    {
     "data": {
      "text/plain": [
       "0.7659574468085106"
      ]
     },
     "execution_count": 348,
     "metadata": {},
     "output_type": "execute_result"
    }
   ],
   "source": [
    "accuracy_score(y_test, pred)"
   ]
  },
  {
   "cell_type": "markdown",
   "id": "991afc12-854d-4380-b607-d2bcba8ac71c",
   "metadata": {},
   "source": [
    "##### Selected Features"
   ]
  },
  {
   "cell_type": "code",
   "execution_count": 337,
   "id": "88c8ed30-43fa-48c0-8602-3e1047ea8dd4",
   "metadata": {},
   "outputs": [],
   "source": [
    "# Selected Features (steriod and antivirus been med/control were added to the selected feature )\n",
    "selected_features = ['age','sex','steroid','antivirals','fatigue','malaise','liver_firm','spiders','ascites','varices','bilirubin','alk_phosphate','sgot','albumin','protime','histology']"
   ]
  },
  {
   "cell_type": "code",
   "execution_count": 338,
   "id": "23c0c4ba-dc8f-434b-886a-995eb04196f6",
   "metadata": {},
   "outputs": [],
   "source": [
    "X_best_features = xFeatures[selected_features]"
   ]
  },
  {
   "cell_type": "code",
   "execution_count": 341,
   "id": "6093818c-4962-4384-903a-d8c9af653922",
   "metadata": {},
   "outputs": [],
   "source": [
    "# Split Train Test Data\n",
    "X_train_b, X_test_b, y_train_b, y_test_b = train_test_split(X_best_features, yTarget, test_size=0.3, random_state=0 )"
   ]
  },
  {
   "cell_type": "code",
   "execution_count": 349,
   "id": "ea75bcfa-40c4-4b4d-a131-f5ab715160a2",
   "metadata": {},
   "outputs": [
    {
     "name": "stderr",
     "output_type": "stream",
     "text": [
      "C:\\Users\\USER\\AppData\\Roaming\\Python\\Python311\\site-packages\\sklearn\\linear_model\\_logistic.py:458: ConvergenceWarning: lbfgs failed to converge (status=1):\n",
      "STOP: TOTAL NO. of ITERATIONS REACHED LIMIT.\n",
      "\n",
      "Increase the number of iterations (max_iter) or scale the data as shown in:\n",
      "    https://scikit-learn.org/stable/modules/preprocessing.html\n",
      "Please also refer to the documentation for alternative solver options:\n",
      "    https://scikit-learn.org/stable/modules/linear_model.html#logistic-regression\n",
      "  n_iter_i = _check_optimize_result(\n"
     ]
    },
    {
     "data": {
      "text/html": [
       "<style>#sk-container-id-9 {color: black;background-color: white;}#sk-container-id-9 pre{padding: 0;}#sk-container-id-9 div.sk-toggleable {background-color: white;}#sk-container-id-9 label.sk-toggleable__label {cursor: pointer;display: block;width: 100%;margin-bottom: 0;padding: 0.3em;box-sizing: border-box;text-align: center;}#sk-container-id-9 label.sk-toggleable__label-arrow:before {content: \"▸\";float: left;margin-right: 0.25em;color: #696969;}#sk-container-id-9 label.sk-toggleable__label-arrow:hover:before {color: black;}#sk-container-id-9 div.sk-estimator:hover label.sk-toggleable__label-arrow:before {color: black;}#sk-container-id-9 div.sk-toggleable__content {max-height: 0;max-width: 0;overflow: hidden;text-align: left;background-color: #f0f8ff;}#sk-container-id-9 div.sk-toggleable__content pre {margin: 0.2em;color: black;border-radius: 0.25em;background-color: #f0f8ff;}#sk-container-id-9 input.sk-toggleable__control:checked~div.sk-toggleable__content {max-height: 200px;max-width: 100%;overflow: auto;}#sk-container-id-9 input.sk-toggleable__control:checked~label.sk-toggleable__label-arrow:before {content: \"▾\";}#sk-container-id-9 div.sk-estimator input.sk-toggleable__control:checked~label.sk-toggleable__label {background-color: #d4ebff;}#sk-container-id-9 div.sk-label input.sk-toggleable__control:checked~label.sk-toggleable__label {background-color: #d4ebff;}#sk-container-id-9 input.sk-hidden--visually {border: 0;clip: rect(1px 1px 1px 1px);clip: rect(1px, 1px, 1px, 1px);height: 1px;margin: -1px;overflow: hidden;padding: 0;position: absolute;width: 1px;}#sk-container-id-9 div.sk-estimator {font-family: monospace;background-color: #f0f8ff;border: 1px dotted black;border-radius: 0.25em;box-sizing: border-box;margin-bottom: 0.5em;}#sk-container-id-9 div.sk-estimator:hover {background-color: #d4ebff;}#sk-container-id-9 div.sk-parallel-item::after {content: \"\";width: 100%;border-bottom: 1px solid gray;flex-grow: 1;}#sk-container-id-9 div.sk-label:hover label.sk-toggleable__label {background-color: #d4ebff;}#sk-container-id-9 div.sk-serial::before {content: \"\";position: absolute;border-left: 1px solid gray;box-sizing: border-box;top: 0;bottom: 0;left: 50%;z-index: 0;}#sk-container-id-9 div.sk-serial {display: flex;flex-direction: column;align-items: center;background-color: white;padding-right: 0.2em;padding-left: 0.2em;position: relative;}#sk-container-id-9 div.sk-item {position: relative;z-index: 1;}#sk-container-id-9 div.sk-parallel {display: flex;align-items: stretch;justify-content: center;background-color: white;position: relative;}#sk-container-id-9 div.sk-item::before, #sk-container-id-9 div.sk-parallel-item::before {content: \"\";position: absolute;border-left: 1px solid gray;box-sizing: border-box;top: 0;bottom: 0;left: 50%;z-index: -1;}#sk-container-id-9 div.sk-parallel-item {display: flex;flex-direction: column;z-index: 1;position: relative;background-color: white;}#sk-container-id-9 div.sk-parallel-item:first-child::after {align-self: flex-end;width: 50%;}#sk-container-id-9 div.sk-parallel-item:last-child::after {align-self: flex-start;width: 50%;}#sk-container-id-9 div.sk-parallel-item:only-child::after {width: 0;}#sk-container-id-9 div.sk-dashed-wrapped {border: 1px dashed gray;margin: 0 0.4em 0.5em 0.4em;box-sizing: border-box;padding-bottom: 0.4em;background-color: white;}#sk-container-id-9 div.sk-label label {font-family: monospace;font-weight: bold;display: inline-block;line-height: 1.2em;}#sk-container-id-9 div.sk-label-container {text-align: center;}#sk-container-id-9 div.sk-container {/* jupyter's `normalize.less` sets `[hidden] { display: none; }` but bootstrap.min.css set `[hidden] { display: none !important; }` so we also need the `!important` here to be able to override the default hidden behavior on the sphinx rendered scikit-learn.org. See: https://github.com/scikit-learn/scikit-learn/issues/21755 */display: inline-block !important;position: relative;}#sk-container-id-9 div.sk-text-repr-fallback {display: none;}</style><div id=\"sk-container-id-9\" class=\"sk-top-container\"><div class=\"sk-text-repr-fallback\"><pre>LogisticRegression(random_state=0)</pre><b>In a Jupyter environment, please rerun this cell to show the HTML representation or trust the notebook. <br />On GitHub, the HTML representation is unable to render, please try loading this page with nbviewer.org.</b></div><div class=\"sk-container\" hidden><div class=\"sk-item\"><div class=\"sk-estimator sk-toggleable\"><input class=\"sk-toggleable__control sk-hidden--visually\" id=\"sk-estimator-id-19\" type=\"checkbox\" checked><label for=\"sk-estimator-id-19\" class=\"sk-toggleable__label sk-toggleable__label-arrow\">LogisticRegression</label><div class=\"sk-toggleable__content\"><pre>LogisticRegression(random_state=0)</pre></div></div></div></div></div>"
      ],
      "text/plain": [
       "LogisticRegression(random_state=0)"
      ]
     },
     "execution_count": 349,
     "metadata": {},
     "output_type": "execute_result"
    }
   ],
   "source": [
    "lg = LogisticRegression(random_state=0)\n",
    "lg.fit(X_train_b,y_train_b)"
   ]
  },
  {
   "cell_type": "code",
   "execution_count": 350,
   "id": "45e3a682-fe3a-48ba-8779-b28a43ab6618",
   "metadata": {},
   "outputs": [
    {
     "data": {
      "text/plain": [
       "0.7872340425531915"
      ]
     },
     "execution_count": 350,
     "metadata": {},
     "output_type": "execute_result"
    }
   ],
   "source": [
    "# Check Accuracy\n",
    "lg.score(X_test_b,y_test_b)"
   ]
  },
  {
   "cell_type": "code",
   "execution_count": 351,
   "id": "1875044b-0431-45fa-b8c6-5b59d144dc45",
   "metadata": {},
   "outputs": [
    {
     "data": {
      "text/plain": [
       "0.7872340425531915"
      ]
     },
     "execution_count": 351,
     "metadata": {},
     "output_type": "execute_result"
    }
   ],
   "source": [
    "pred_b = lg.predict(X_test_b)\n",
    "accuracy_score(y_test_b, pred_b)"
   ]
  },
  {
   "cell_type": "markdown",
   "id": "4dcb0a5d-4929-44cb-9b39-ba05ffe681bf",
   "metadata": {},
   "source": [
    "#### Observations\n",
    "+ The selected features perform better than all features"
   ]
  },
  {
   "cell_type": "markdown",
   "id": "b324c1bf-1c28-4ba1-a89b-9ec3cb9d8bd0",
   "metadata": {},
   "source": [
    "##### Making single prediction"
   ]
  },
  {
   "cell_type": "code",
   "execution_count": 356,
   "id": "03795d31-d612-46c2-94a3-8f6bfdbfb502",
   "metadata": {},
   "outputs": [
    {
     "data": {
      "text/plain": [
       "age               50.0\n",
       "sex                2.0\n",
       "steroid            1.0\n",
       "antivirals         2.0\n",
       "fatigue            1.0\n",
       "malaise            2.0\n",
       "liver_firm         1.0\n",
       "spiders            1.0\n",
       "ascites            2.0\n",
       "varices            2.0\n",
       "bilirubin          0.9\n",
       "alk_phosphate    230.0\n",
       "sgot             117.0\n",
       "albumin            3.4\n",
       "protime           41.0\n",
       "histology          2.0\n",
       "Name: 90, dtype: float64"
      ]
     },
     "execution_count": 356,
     "metadata": {},
     "output_type": "execute_result"
    }
   ],
   "source": [
    "X_test_b.iloc[1]"
   ]
  },
  {
   "cell_type": "code",
   "execution_count": 357,
   "id": "df3cb54c-4ab5-4fc1-ac63-411626bbaf8f",
   "metadata": {},
   "outputs": [
    {
     "name": "stderr",
     "output_type": "stream",
     "text": [
      "C:\\Users\\USER\\AppData\\Roaming\\Python\\Python311\\site-packages\\sklearn\\base.py:439: UserWarning: X does not have valid feature names, but LogisticRegression was fitted with feature names\n",
      "  warnings.warn(\n"
     ]
    },
    {
     "data": {
      "text/plain": [
       "array([2], dtype=int64)"
      ]
     },
     "execution_count": 357,
     "metadata": {},
     "output_type": "execute_result"
    }
   ],
   "source": [
    "# res_dic = {'Die':1,'Live':2}\n",
    "x1 = X_test_b.iloc[1]\n",
    "lg.predict(np.array(x1).reshape(1,-1)) # Reshape single feature to 2D"
   ]
  },
  {
   "cell_type": "markdown",
   "id": "0f1e8290-4b5a-4d16-a15e-c27a398258d4",
   "metadata": {},
   "source": [
    "#### Observations\n",
    "+ GIven the single feature, the model predicted that the patient **Live**"
   ]
  },
  {
   "cell_type": "markdown",
   "id": "65dc7216-5d3a-4ea0-82e9-e79e6783497a",
   "metadata": {},
   "source": [
    "## Building Model Using Decision Tree"
   ]
  },
  {
   "cell_type": "code",
   "execution_count": 359,
   "id": "8726034f-c63b-40b2-ae8e-4d96fbf15e96",
   "metadata": {},
   "outputs": [
    {
     "data": {
      "text/html": [
       "<style>#sk-container-id-10 {color: black;background-color: white;}#sk-container-id-10 pre{padding: 0;}#sk-container-id-10 div.sk-toggleable {background-color: white;}#sk-container-id-10 label.sk-toggleable__label {cursor: pointer;display: block;width: 100%;margin-bottom: 0;padding: 0.3em;box-sizing: border-box;text-align: center;}#sk-container-id-10 label.sk-toggleable__label-arrow:before {content: \"▸\";float: left;margin-right: 0.25em;color: #696969;}#sk-container-id-10 label.sk-toggleable__label-arrow:hover:before {color: black;}#sk-container-id-10 div.sk-estimator:hover label.sk-toggleable__label-arrow:before {color: black;}#sk-container-id-10 div.sk-toggleable__content {max-height: 0;max-width: 0;overflow: hidden;text-align: left;background-color: #f0f8ff;}#sk-container-id-10 div.sk-toggleable__content pre {margin: 0.2em;color: black;border-radius: 0.25em;background-color: #f0f8ff;}#sk-container-id-10 input.sk-toggleable__control:checked~div.sk-toggleable__content {max-height: 200px;max-width: 100%;overflow: auto;}#sk-container-id-10 input.sk-toggleable__control:checked~label.sk-toggleable__label-arrow:before {content: \"▾\";}#sk-container-id-10 div.sk-estimator input.sk-toggleable__control:checked~label.sk-toggleable__label {background-color: #d4ebff;}#sk-container-id-10 div.sk-label input.sk-toggleable__control:checked~label.sk-toggleable__label {background-color: #d4ebff;}#sk-container-id-10 input.sk-hidden--visually {border: 0;clip: rect(1px 1px 1px 1px);clip: rect(1px, 1px, 1px, 1px);height: 1px;margin: -1px;overflow: hidden;padding: 0;position: absolute;width: 1px;}#sk-container-id-10 div.sk-estimator {font-family: monospace;background-color: #f0f8ff;border: 1px dotted black;border-radius: 0.25em;box-sizing: border-box;margin-bottom: 0.5em;}#sk-container-id-10 div.sk-estimator:hover {background-color: #d4ebff;}#sk-container-id-10 div.sk-parallel-item::after {content: \"\";width: 100%;border-bottom: 1px solid gray;flex-grow: 1;}#sk-container-id-10 div.sk-label:hover label.sk-toggleable__label {background-color: #d4ebff;}#sk-container-id-10 div.sk-serial::before {content: \"\";position: absolute;border-left: 1px solid gray;box-sizing: border-box;top: 0;bottom: 0;left: 50%;z-index: 0;}#sk-container-id-10 div.sk-serial {display: flex;flex-direction: column;align-items: center;background-color: white;padding-right: 0.2em;padding-left: 0.2em;position: relative;}#sk-container-id-10 div.sk-item {position: relative;z-index: 1;}#sk-container-id-10 div.sk-parallel {display: flex;align-items: stretch;justify-content: center;background-color: white;position: relative;}#sk-container-id-10 div.sk-item::before, #sk-container-id-10 div.sk-parallel-item::before {content: \"\";position: absolute;border-left: 1px solid gray;box-sizing: border-box;top: 0;bottom: 0;left: 50%;z-index: -1;}#sk-container-id-10 div.sk-parallel-item {display: flex;flex-direction: column;z-index: 1;position: relative;background-color: white;}#sk-container-id-10 div.sk-parallel-item:first-child::after {align-self: flex-end;width: 50%;}#sk-container-id-10 div.sk-parallel-item:last-child::after {align-self: flex-start;width: 50%;}#sk-container-id-10 div.sk-parallel-item:only-child::after {width: 0;}#sk-container-id-10 div.sk-dashed-wrapped {border: 1px dashed gray;margin: 0 0.4em 0.5em 0.4em;box-sizing: border-box;padding-bottom: 0.4em;background-color: white;}#sk-container-id-10 div.sk-label label {font-family: monospace;font-weight: bold;display: inline-block;line-height: 1.2em;}#sk-container-id-10 div.sk-label-container {text-align: center;}#sk-container-id-10 div.sk-container {/* jupyter's `normalize.less` sets `[hidden] { display: none; }` but bootstrap.min.css set `[hidden] { display: none !important; }` so we also need the `!important` here to be able to override the default hidden behavior on the sphinx rendered scikit-learn.org. See: https://github.com/scikit-learn/scikit-learn/issues/21755 */display: inline-block !important;position: relative;}#sk-container-id-10 div.sk-text-repr-fallback {display: none;}</style><div id=\"sk-container-id-10\" class=\"sk-top-container\"><div class=\"sk-text-repr-fallback\"><pre>DecisionTreeClassifier(random_state=0)</pre><b>In a Jupyter environment, please rerun this cell to show the HTML representation or trust the notebook. <br />On GitHub, the HTML representation is unable to render, please try loading this page with nbviewer.org.</b></div><div class=\"sk-container\" hidden><div class=\"sk-item\"><div class=\"sk-estimator sk-toggleable\"><input class=\"sk-toggleable__control sk-hidden--visually\" id=\"sk-estimator-id-20\" type=\"checkbox\" checked><label for=\"sk-estimator-id-20\" class=\"sk-toggleable__label sk-toggleable__label-arrow\">DecisionTreeClassifier</label><div class=\"sk-toggleable__content\"><pre>DecisionTreeClassifier(random_state=0)</pre></div></div></div></div></div>"
      ],
      "text/plain": [
       "DecisionTreeClassifier(random_state=0)"
      ]
     },
     "execution_count": 359,
     "metadata": {},
     "output_type": "execute_result"
    }
   ],
   "source": [
    "dcf = DecisionTreeClassifier(random_state=0)\n",
    "dcf.fit(X_train_b,y_train_b)"
   ]
  },
  {
   "cell_type": "code",
   "execution_count": 365,
   "id": "4542b254-8ae9-49fb-9d92-cf0028d075a6",
   "metadata": {},
   "outputs": [
    {
     "data": {
      "text/plain": [
       "0.7021276595744681"
      ]
     },
     "execution_count": 365,
     "metadata": {},
     "output_type": "execute_result"
    }
   ],
   "source": [
    "# Model Accuracy Score\n",
    "dcf.score(X_test_b,y_test_b)"
   ]
  },
  {
   "cell_type": "markdown",
   "id": "bdb4ecc7-fc6e-49ac-81c8-e96ea4cf4e71",
   "metadata": {},
   "source": [
    "#### Observations\n",
    "+ It appears DecisionTree model perform less when compare with LR\n"
   ]
  },
  {
   "cell_type": "markdown",
   "id": "5fa61ac0-7335-4edb-81a2-ef6a0d7eba48",
   "metadata": {},
   "source": [
    "### Alternative Model with KNN"
   ]
  },
  {
   "cell_type": "code",
   "execution_count": 366,
   "id": "dce807ad-6df5-41bd-a6c6-32c2db1fea9b",
   "metadata": {},
   "outputs": [],
   "source": [
    "# KNN Model\n",
    "from sklearn.neighbors import KNeighborsClassifier"
   ]
  },
  {
   "cell_type": "code",
   "execution_count": 382,
   "id": "bf5d140e-cf4d-4c11-8133-214749ab3ab1",
   "metadata": {},
   "outputs": [],
   "source": [
    "knn = KNeighborsClassifier(n_neighbors=6)"
   ]
  },
  {
   "cell_type": "code",
   "execution_count": 383,
   "id": "9a1a9d42-b30d-4835-8251-0e2cefc438ea",
   "metadata": {},
   "outputs": [
    {
     "data": {
      "text/html": [
       "<style>#sk-container-id-15 {color: black;background-color: white;}#sk-container-id-15 pre{padding: 0;}#sk-container-id-15 div.sk-toggleable {background-color: white;}#sk-container-id-15 label.sk-toggleable__label {cursor: pointer;display: block;width: 100%;margin-bottom: 0;padding: 0.3em;box-sizing: border-box;text-align: center;}#sk-container-id-15 label.sk-toggleable__label-arrow:before {content: \"▸\";float: left;margin-right: 0.25em;color: #696969;}#sk-container-id-15 label.sk-toggleable__label-arrow:hover:before {color: black;}#sk-container-id-15 div.sk-estimator:hover label.sk-toggleable__label-arrow:before {color: black;}#sk-container-id-15 div.sk-toggleable__content {max-height: 0;max-width: 0;overflow: hidden;text-align: left;background-color: #f0f8ff;}#sk-container-id-15 div.sk-toggleable__content pre {margin: 0.2em;color: black;border-radius: 0.25em;background-color: #f0f8ff;}#sk-container-id-15 input.sk-toggleable__control:checked~div.sk-toggleable__content {max-height: 200px;max-width: 100%;overflow: auto;}#sk-container-id-15 input.sk-toggleable__control:checked~label.sk-toggleable__label-arrow:before {content: \"▾\";}#sk-container-id-15 div.sk-estimator input.sk-toggleable__control:checked~label.sk-toggleable__label {background-color: #d4ebff;}#sk-container-id-15 div.sk-label input.sk-toggleable__control:checked~label.sk-toggleable__label {background-color: #d4ebff;}#sk-container-id-15 input.sk-hidden--visually {border: 0;clip: rect(1px 1px 1px 1px);clip: rect(1px, 1px, 1px, 1px);height: 1px;margin: -1px;overflow: hidden;padding: 0;position: absolute;width: 1px;}#sk-container-id-15 div.sk-estimator {font-family: monospace;background-color: #f0f8ff;border: 1px dotted black;border-radius: 0.25em;box-sizing: border-box;margin-bottom: 0.5em;}#sk-container-id-15 div.sk-estimator:hover {background-color: #d4ebff;}#sk-container-id-15 div.sk-parallel-item::after {content: \"\";width: 100%;border-bottom: 1px solid gray;flex-grow: 1;}#sk-container-id-15 div.sk-label:hover label.sk-toggleable__label {background-color: #d4ebff;}#sk-container-id-15 div.sk-serial::before {content: \"\";position: absolute;border-left: 1px solid gray;box-sizing: border-box;top: 0;bottom: 0;left: 50%;z-index: 0;}#sk-container-id-15 div.sk-serial {display: flex;flex-direction: column;align-items: center;background-color: white;padding-right: 0.2em;padding-left: 0.2em;position: relative;}#sk-container-id-15 div.sk-item {position: relative;z-index: 1;}#sk-container-id-15 div.sk-parallel {display: flex;align-items: stretch;justify-content: center;background-color: white;position: relative;}#sk-container-id-15 div.sk-item::before, #sk-container-id-15 div.sk-parallel-item::before {content: \"\";position: absolute;border-left: 1px solid gray;box-sizing: border-box;top: 0;bottom: 0;left: 50%;z-index: -1;}#sk-container-id-15 div.sk-parallel-item {display: flex;flex-direction: column;z-index: 1;position: relative;background-color: white;}#sk-container-id-15 div.sk-parallel-item:first-child::after {align-self: flex-end;width: 50%;}#sk-container-id-15 div.sk-parallel-item:last-child::after {align-self: flex-start;width: 50%;}#sk-container-id-15 div.sk-parallel-item:only-child::after {width: 0;}#sk-container-id-15 div.sk-dashed-wrapped {border: 1px dashed gray;margin: 0 0.4em 0.5em 0.4em;box-sizing: border-box;padding-bottom: 0.4em;background-color: white;}#sk-container-id-15 div.sk-label label {font-family: monospace;font-weight: bold;display: inline-block;line-height: 1.2em;}#sk-container-id-15 div.sk-label-container {text-align: center;}#sk-container-id-15 div.sk-container {/* jupyter's `normalize.less` sets `[hidden] { display: none; }` but bootstrap.min.css set `[hidden] { display: none !important; }` so we also need the `!important` here to be able to override the default hidden behavior on the sphinx rendered scikit-learn.org. See: https://github.com/scikit-learn/scikit-learn/issues/21755 */display: inline-block !important;position: relative;}#sk-container-id-15 div.sk-text-repr-fallback {display: none;}</style><div id=\"sk-container-id-15\" class=\"sk-top-container\"><div class=\"sk-text-repr-fallback\"><pre>KNeighborsClassifier(n_neighbors=6)</pre><b>In a Jupyter environment, please rerun this cell to show the HTML representation or trust the notebook. <br />On GitHub, the HTML representation is unable to render, please try loading this page with nbviewer.org.</b></div><div class=\"sk-container\" hidden><div class=\"sk-item\"><div class=\"sk-estimator sk-toggleable\"><input class=\"sk-toggleable__control sk-hidden--visually\" id=\"sk-estimator-id-25\" type=\"checkbox\" checked><label for=\"sk-estimator-id-25\" class=\"sk-toggleable__label sk-toggleable__label-arrow\">KNeighborsClassifier</label><div class=\"sk-toggleable__content\"><pre>KNeighborsClassifier(n_neighbors=6)</pre></div></div></div></div></div>"
      ],
      "text/plain": [
       "KNeighborsClassifier(n_neighbors=6)"
      ]
     },
     "execution_count": 383,
     "metadata": {},
     "output_type": "execute_result"
    }
   ],
   "source": [
    "knn.fit(X_train_b,y_train_b)"
   ]
  },
  {
   "cell_type": "code",
   "execution_count": 384,
   "id": "72bbf365-1154-42c7-b5cc-f68ea526e618",
   "metadata": {},
   "outputs": [
    {
     "data": {
      "text/plain": [
       "0.7659574468085106"
      ]
     },
     "execution_count": 384,
     "metadata": {},
     "output_type": "execute_result"
    }
   ],
   "source": [
    "knn.score(X_test_b,y_test_b)"
   ]
  },
  {
   "cell_type": "markdown",
   "id": "42dda5fc-b788-4105-af12-52b39cc8a973",
   "metadata": {},
   "source": [
    "#### Observations\n",
    "+ The first model holds better prediction in all the three algorithms used"
   ]
  },
  {
   "cell_type": "markdown",
   "id": "cc788788-af3c-4ac6-9e9f-2b1b29eb83d6",
   "metadata": {},
   "source": [
    "#### Saving Model\n",
    "##### The methods that can used to saving model are:\n",
    "+ Serialization\n",
    "+ Pickle\n",
    "+ Joblib\n",
    "+ Numpy / Json /Ray"
   ]
  },
  {
   "cell_type": "code",
   "execution_count": 385,
   "id": "320f476b-bafe-4157-a508-7829e29d43c1",
   "metadata": {},
   "outputs": [],
   "source": [
    "# Using Jolib\n",
    "import joblib\n",
    "\n",
    "model_file = open(\"logisgic_reg_hep_model.pkl\",\"wb\")\n",
    "joblib.dump(lg,model_file)\n",
    "model_file.close()"
   ]
  },
  {
   "cell_type": "code",
   "execution_count": 386,
   "id": "8d50ca7b-680d-4c35-b01a-39a519da95fa",
   "metadata": {},
   "outputs": [],
   "source": [
    "model_file_dcf = open(\"decision_tree_hep_model.pkl\",\"wb\")\n",
    "joblib.dump(dcf,model_file_dcf)\n",
    "model_file_dcf.close()"
   ]
  },
  {
   "cell_type": "code",
   "execution_count": 387,
   "id": "6e7d0fc4-aff9-42e4-b5bb-bf9ae5191d73",
   "metadata": {},
   "outputs": [],
   "source": [
    "model_file_knn = open(\"knn_hep_model.pkl\",\"wb\")\n",
    "joblib.dump(knn,model_file_knn)\n",
    "model_file_knn.close()"
   ]
  },
  {
   "cell_type": "markdown",
   "id": "fc81cf57-9a56-4b24-b4cc-a6b37f5c8234",
   "metadata": {},
   "source": [
    "### Create Decision Tree Plot\n"
   ]
  },
  {
   "cell_type": "code",
   "execution_count": 399,
   "id": "7ff162e0-badd-43bc-958b-9db75b937432",
   "metadata": {},
   "outputs": [],
   "source": [
    "from IPython.display import Image\n",
    "from sklearn import tree\n",
    "import pydotplus\n",
    "import graphviz"
   ]
  },
  {
   "cell_type": "code",
   "execution_count": 391,
   "id": "60c525a6-0d4c-4c66-ae87-a8cef7c30f34",
   "metadata": {},
   "outputs": [],
   "source": [
    "feature_names = X_best_features.columns\n",
    "target_names = [\"Die\", \"Live\"]"
   ]
  },
  {
   "cell_type": "code",
   "execution_count": 401,
   "id": "724a8f6d-a44b-4e15-a9f5-b039ba76ff34",
   "metadata": {},
   "outputs": [],
   "source": [
    "# Create A Dot Plot\n",
    "dot_data = tree.export_graphviz(dcf,out_file=None,feature_names=feature_names,class_names=target_names)"
   ]
  },
  {
   "cell_type": "code",
   "execution_count": 402,
   "id": "c096e242-d426-421d-b820-da39727edfdb",
   "metadata": {},
   "outputs": [],
   "source": [
    "graph = pydotplus.graph_from_dot_data(dot_data)"
   ]
  },
  {
   "cell_type": "code",
   "execution_count": 404,
   "id": "f7ca99da-79cd-494f-ab8b-40db96d363e6",
   "metadata": {},
   "outputs": [
    {
     "ename": "InvocationException",
     "evalue": "GraphViz's executables not found",
     "output_type": "error",
     "traceback": [
      "\u001b[1;31m---------------------------------------------------------------------------\u001b[0m",
      "\u001b[1;31mInvocationException\u001b[0m                       Traceback (most recent call last)",
      "Cell \u001b[1;32mIn[404], line 1\u001b[0m\n\u001b[1;32m----> 1\u001b[0m Image(\u001b[43mgraph\u001b[49m\u001b[38;5;241;43m.\u001b[39;49m\u001b[43mcreate_png\u001b[49m\u001b[43m(\u001b[49m\u001b[43m)\u001b[49m)\n",
      "File \u001b[1;32m~\\AppData\\Roaming\\Python\\Python311\\site-packages\\pydotplus\\graphviz.py:1797\u001b[0m, in \u001b[0;36mDot.__init__.<locals>.<lambda>\u001b[1;34m(f, prog)\u001b[0m\n\u001b[0;32m   1792\u001b[0m \u001b[38;5;66;03m# Automatically creates all the methods enabling the creation\u001b[39;00m\n\u001b[0;32m   1793\u001b[0m \u001b[38;5;66;03m# of output in any of the supported formats.\u001b[39;00m\n\u001b[0;32m   1794\u001b[0m \u001b[38;5;28;01mfor\u001b[39;00m frmt \u001b[38;5;129;01min\u001b[39;00m \u001b[38;5;28mself\u001b[39m\u001b[38;5;241m.\u001b[39mformats:\n\u001b[0;32m   1795\u001b[0m     \u001b[38;5;28mself\u001b[39m\u001b[38;5;241m.\u001b[39m\u001b[38;5;21m__setattr__\u001b[39m(\n\u001b[0;32m   1796\u001b[0m         \u001b[38;5;124m'\u001b[39m\u001b[38;5;124mcreate_\u001b[39m\u001b[38;5;124m'\u001b[39m \u001b[38;5;241m+\u001b[39m frmt,\n\u001b[1;32m-> 1797\u001b[0m         \u001b[38;5;28;01mlambda\u001b[39;00m f\u001b[38;5;241m=\u001b[39mfrmt, prog\u001b[38;5;241m=\u001b[39m\u001b[38;5;28mself\u001b[39m\u001b[38;5;241m.\u001b[39mprog: \u001b[38;5;28;43mself\u001b[39;49m\u001b[38;5;241;43m.\u001b[39;49m\u001b[43mcreate\u001b[49m\u001b[43m(\u001b[49m\u001b[38;5;28;43mformat\u001b[39;49m\u001b[38;5;241;43m=\u001b[39;49m\u001b[43mf\u001b[49m\u001b[43m,\u001b[49m\u001b[43m \u001b[49m\u001b[43mprog\u001b[49m\u001b[38;5;241;43m=\u001b[39;49m\u001b[43mprog\u001b[49m\u001b[43m)\u001b[49m\n\u001b[0;32m   1798\u001b[0m     )\n\u001b[0;32m   1799\u001b[0m     f \u001b[38;5;241m=\u001b[39m \u001b[38;5;28mself\u001b[39m\u001b[38;5;241m.\u001b[39m\u001b[38;5;18m__dict__\u001b[39m[\u001b[38;5;124m'\u001b[39m\u001b[38;5;124mcreate_\u001b[39m\u001b[38;5;124m'\u001b[39m \u001b[38;5;241m+\u001b[39m frmt]\n\u001b[0;32m   1800\u001b[0m     f\u001b[38;5;241m.\u001b[39m\u001b[38;5;18m__doc__\u001b[39m \u001b[38;5;241m=\u001b[39m (\n\u001b[0;32m   1801\u001b[0m \u001b[38;5;250m        \u001b[39m\u001b[38;5;124;03m'''Refer to the docstring accompanying the'''\u001b[39;00m\n\u001b[0;32m   1802\u001b[0m \u001b[38;5;250m        \u001b[39m\u001b[38;5;124;03m''''create' method for more information.'''\u001b[39;00m\n\u001b[0;32m   1803\u001b[0m     )\n",
      "File \u001b[1;32m~\\AppData\\Roaming\\Python\\Python311\\site-packages\\pydotplus\\graphviz.py:1959\u001b[0m, in \u001b[0;36mDot.create\u001b[1;34m(self, prog, format)\u001b[0m\n\u001b[0;32m   1957\u001b[0m     \u001b[38;5;28mself\u001b[39m\u001b[38;5;241m.\u001b[39mprogs \u001b[38;5;241m=\u001b[39m find_graphviz()\n\u001b[0;32m   1958\u001b[0m     \u001b[38;5;28;01mif\u001b[39;00m \u001b[38;5;28mself\u001b[39m\u001b[38;5;241m.\u001b[39mprogs \u001b[38;5;129;01mis\u001b[39;00m \u001b[38;5;28;01mNone\u001b[39;00m:\n\u001b[1;32m-> 1959\u001b[0m         \u001b[38;5;28;01mraise\u001b[39;00m InvocationException(\n\u001b[0;32m   1960\u001b[0m             \u001b[38;5;124m'\u001b[39m\u001b[38;5;124mGraphViz\u001b[39m\u001b[38;5;130;01m\\'\u001b[39;00m\u001b[38;5;124ms executables not found\u001b[39m\u001b[38;5;124m'\u001b[39m)\n\u001b[0;32m   1962\u001b[0m \u001b[38;5;28;01mif\u001b[39;00m prog \u001b[38;5;129;01mnot\u001b[39;00m \u001b[38;5;129;01min\u001b[39;00m \u001b[38;5;28mself\u001b[39m\u001b[38;5;241m.\u001b[39mprogs:\n\u001b[0;32m   1963\u001b[0m     \u001b[38;5;28;01mraise\u001b[39;00m InvocationException(\n\u001b[0;32m   1964\u001b[0m         \u001b[38;5;124m'\u001b[39m\u001b[38;5;124mGraphViz\u001b[39m\u001b[38;5;130;01m\\'\u001b[39;00m\u001b[38;5;124ms executable \u001b[39m\u001b[38;5;124m\"\u001b[39m\u001b[38;5;132;01m%s\u001b[39;00m\u001b[38;5;124m\"\u001b[39m\u001b[38;5;124m not found\u001b[39m\u001b[38;5;124m'\u001b[39m \u001b[38;5;241m%\u001b[39m prog)\n",
      "\u001b[1;31mInvocationException\u001b[0m: GraphViz's executables not found"
     ]
    }
   ],
   "source": [
    "Image(graph.create_png())"
   ]
  },
  {
   "cell_type": "code",
   "execution_count": null,
   "id": "bdae2838-60fd-4fc0-b8dc-151639e3364c",
   "metadata": {},
   "outputs": [],
   "source": []
  }
 ],
 "metadata": {
  "kernelspec": {
   "display_name": "PyTensorFlow",
   "language": "python",
   "name": "py_tf"
  },
  "language_info": {
   "codemirror_mode": {
    "name": "ipython",
    "version": 3
   },
   "file_extension": ".py",
   "mimetype": "text/x-python",
   "name": "python",
   "nbconvert_exporter": "python",
   "pygments_lexer": "ipython3",
   "version": "3.11.4"
  },
  "widgets": {
   "application/vnd.jupyter.widget-state+json": {
    "state": {},
    "version_major": 2,
    "version_minor": 0
   }
  }
 },
 "nbformat": 4,
 "nbformat_minor": 5
}

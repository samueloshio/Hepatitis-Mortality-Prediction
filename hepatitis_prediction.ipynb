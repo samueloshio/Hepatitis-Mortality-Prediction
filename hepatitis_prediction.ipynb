{
 "cells": [
  {
   "cell_type": "markdown",
   "id": "113032bb-3fef-4520-8a77-08f6461018b8",
   "metadata": {},
   "source": [
    "# Data Prep"
   ]
  },
  {
   "cell_type": "code",
   "execution_count": 1,
   "id": "ddc0a6c5-839e-4df4-916e-ca4ba38925cb",
   "metadata": {},
   "outputs": [],
   "source": [
    "# import modules\n",
    "import numpy as np\n",
    "import pandas as pd\n",
    "import matplotlib.pyplot as plt # for visualization \n",
    "import seaborn as sns # for visualization \n"
   ]
  },
  {
   "cell_type": "code",
   "execution_count": 22,
   "id": "a72a2b9f-b836-4546-85ff-94d309068302",
   "metadata": {},
   "outputs": [],
   "source": [
    "# The header name extracted from `hepatits.name` included in the `data directory`\n",
    "headers = [\"Class\", \"AGE\", \"SEX\", \"STEROID\", \"ANTIVIRALS\", \"FATIGUE\", \"MALAISE\", \"ANOREXIA\", \"LIVER BIG\", \"LIVER FIRM\", \"SPLEEN PALPABLE\", \"SPIDERS\", \"ASCITES\", \"VARICES\", \"BILIRUBIN\", \"ALK PHOSPHATE\", \"SGOT\", \"ALBUMIN\", \"PROTIME\", \"HISTOLOGY\"]\n",
    "\n",
    "# Loading dataset \n",
    "df = pd.read_csv('data/hepatitis.data', names=headers)"
   ]
  },
  {
   "cell_type": "code",
   "execution_count": 23,
   "id": "c0428734-7387-4aba-8681-7b160e6f39fc",
   "metadata": {},
   "outputs": [
    {
     "data": {
      "text/html": [
       "<div>\n",
       "<style scoped>\n",
       "    .dataframe tbody tr th:only-of-type {\n",
       "        vertical-align: middle;\n",
       "    }\n",
       "\n",
       "    .dataframe tbody tr th {\n",
       "        vertical-align: top;\n",
       "    }\n",
       "\n",
       "    .dataframe thead th {\n",
       "        text-align: right;\n",
       "    }\n",
       "</style>\n",
       "<table border=\"1\" class=\"dataframe\">\n",
       "  <thead>\n",
       "    <tr style=\"text-align: right;\">\n",
       "      <th></th>\n",
       "      <th>Class</th>\n",
       "      <th>AGE</th>\n",
       "      <th>SEX</th>\n",
       "      <th>STEROID</th>\n",
       "      <th>ANTIVIRALS</th>\n",
       "      <th>FATIGUE</th>\n",
       "      <th>MALAISE</th>\n",
       "      <th>ANOREXIA</th>\n",
       "      <th>LIVER BIG</th>\n",
       "      <th>LIVER FIRM</th>\n",
       "      <th>SPLEEN PALPABLE</th>\n",
       "      <th>SPIDERS</th>\n",
       "      <th>ASCITES</th>\n",
       "      <th>VARICES</th>\n",
       "      <th>BILIRUBIN</th>\n",
       "      <th>ALK PHOSPHATE</th>\n",
       "      <th>SGOT</th>\n",
       "      <th>ALBUMIN</th>\n",
       "      <th>PROTIME</th>\n",
       "      <th>HISTOLOGY</th>\n",
       "    </tr>\n",
       "  </thead>\n",
       "  <tbody>\n",
       "    <tr>\n",
       "      <th>0</th>\n",
       "      <td>2</td>\n",
       "      <td>30</td>\n",
       "      <td>2</td>\n",
       "      <td>1</td>\n",
       "      <td>2</td>\n",
       "      <td>2</td>\n",
       "      <td>2</td>\n",
       "      <td>2</td>\n",
       "      <td>1</td>\n",
       "      <td>2</td>\n",
       "      <td>2</td>\n",
       "      <td>2</td>\n",
       "      <td>2</td>\n",
       "      <td>2</td>\n",
       "      <td>1.00</td>\n",
       "      <td>85</td>\n",
       "      <td>18</td>\n",
       "      <td>4.0</td>\n",
       "      <td>?</td>\n",
       "      <td>1</td>\n",
       "    </tr>\n",
       "    <tr>\n",
       "      <th>1</th>\n",
       "      <td>2</td>\n",
       "      <td>50</td>\n",
       "      <td>1</td>\n",
       "      <td>1</td>\n",
       "      <td>2</td>\n",
       "      <td>1</td>\n",
       "      <td>2</td>\n",
       "      <td>2</td>\n",
       "      <td>1</td>\n",
       "      <td>2</td>\n",
       "      <td>2</td>\n",
       "      <td>2</td>\n",
       "      <td>2</td>\n",
       "      <td>2</td>\n",
       "      <td>0.90</td>\n",
       "      <td>135</td>\n",
       "      <td>42</td>\n",
       "      <td>3.5</td>\n",
       "      <td>?</td>\n",
       "      <td>1</td>\n",
       "    </tr>\n",
       "    <tr>\n",
       "      <th>2</th>\n",
       "      <td>2</td>\n",
       "      <td>78</td>\n",
       "      <td>1</td>\n",
       "      <td>2</td>\n",
       "      <td>2</td>\n",
       "      <td>1</td>\n",
       "      <td>2</td>\n",
       "      <td>2</td>\n",
       "      <td>2</td>\n",
       "      <td>2</td>\n",
       "      <td>2</td>\n",
       "      <td>2</td>\n",
       "      <td>2</td>\n",
       "      <td>2</td>\n",
       "      <td>0.70</td>\n",
       "      <td>96</td>\n",
       "      <td>32</td>\n",
       "      <td>4.0</td>\n",
       "      <td>?</td>\n",
       "      <td>1</td>\n",
       "    </tr>\n",
       "    <tr>\n",
       "      <th>3</th>\n",
       "      <td>2</td>\n",
       "      <td>31</td>\n",
       "      <td>1</td>\n",
       "      <td>?</td>\n",
       "      <td>1</td>\n",
       "      <td>2</td>\n",
       "      <td>2</td>\n",
       "      <td>2</td>\n",
       "      <td>2</td>\n",
       "      <td>2</td>\n",
       "      <td>2</td>\n",
       "      <td>2</td>\n",
       "      <td>2</td>\n",
       "      <td>2</td>\n",
       "      <td>0.70</td>\n",
       "      <td>46</td>\n",
       "      <td>52</td>\n",
       "      <td>4.0</td>\n",
       "      <td>80</td>\n",
       "      <td>1</td>\n",
       "    </tr>\n",
       "    <tr>\n",
       "      <th>4</th>\n",
       "      <td>2</td>\n",
       "      <td>34</td>\n",
       "      <td>1</td>\n",
       "      <td>2</td>\n",
       "      <td>2</td>\n",
       "      <td>2</td>\n",
       "      <td>2</td>\n",
       "      <td>2</td>\n",
       "      <td>2</td>\n",
       "      <td>2</td>\n",
       "      <td>2</td>\n",
       "      <td>2</td>\n",
       "      <td>2</td>\n",
       "      <td>2</td>\n",
       "      <td>1.00</td>\n",
       "      <td>?</td>\n",
       "      <td>200</td>\n",
       "      <td>4.0</td>\n",
       "      <td>?</td>\n",
       "      <td>1</td>\n",
       "    </tr>\n",
       "  </tbody>\n",
       "</table>\n",
       "</div>"
      ],
      "text/plain": [
       "   Class  AGE  SEX STEROID  ANTIVIRALS FATIGUE MALAISE ANOREXIA LIVER BIG  \\\n",
       "0      2   30    2       1           2       2       2        2         1   \n",
       "1      2   50    1       1           2       1       2        2         1   \n",
       "2      2   78    1       2           2       1       2        2         2   \n",
       "3      2   31    1       ?           1       2       2        2         2   \n",
       "4      2   34    1       2           2       2       2        2         2   \n",
       "\n",
       "  LIVER FIRM SPLEEN PALPABLE SPIDERS ASCITES VARICES BILIRUBIN ALK PHOSPHATE  \\\n",
       "0          2               2       2       2       2      1.00            85   \n",
       "1          2               2       2       2       2      0.90           135   \n",
       "2          2               2       2       2       2      0.70            96   \n",
       "3          2               2       2       2       2      0.70            46   \n",
       "4          2               2       2       2       2      1.00             ?   \n",
       "\n",
       "  SGOT ALBUMIN PROTIME  HISTOLOGY  \n",
       "0   18     4.0       ?          1  \n",
       "1   42     3.5       ?          1  \n",
       "2   32     4.0       ?          1  \n",
       "3   52     4.0      80          1  \n",
       "4  200     4.0       ?          1  "
      ]
     },
     "execution_count": 23,
     "metadata": {},
     "output_type": "execute_result"
    }
   ],
   "source": [
    "# showing top 5 samples\n",
    "df.head()"
   ]
  },
  {
   "cell_type": "code",
   "execution_count": 4,
   "id": "bf99a0b0-d78e-4501-81c9-7d21e68700c5",
   "metadata": {},
   "outputs": [
    {
     "data": {
      "text/plain": [
       "Index(['Class', 'AGE', 'SEX', 'STEROID', 'ANTIVIRALS', 'FATIGUE', 'MALAISE',\n",
       "       'ANOREXIA', 'LIVER BIG', 'LIVER FIRM', 'SPLEEN PALPABLE', 'SPIDERS',\n",
       "       'ASCITES', 'VARICES', 'BILIRUBIN', 'ALK PHOSPHATE', 'SGOT', 'ALBUMIN',\n",
       "       'PROTIME', 'HISTOLOGY'],\n",
       "      dtype='object')"
      ]
     },
     "execution_count": 4,
     "metadata": {},
     "output_type": "execute_result"
    }
   ],
   "source": [
    "df.columns"
   ]
  },
  {
   "cell_type": "markdown",
   "id": "77bae01a-9c40-4ba5-a325-57805c15b99a",
   "metadata": {},
   "source": [
    "#### OBSERVATIONS\n",
    "+ The column headers have irregular formatting and linespaces\n",
    "+ Column header required further clearning"
   ]
  },
  {
   "cell_type": "code",
   "execution_count": 24,
   "id": "0596fc6d-2bdb-4e01-9a3a-4ae66be7da03",
   "metadata": {},
   "outputs": [],
   "source": [
    "# reformatting and removing line space in the column names\n",
    "df.columns = df.columns.str.lower().str.replace(\" \", \"_\")"
   ]
  },
  {
   "cell_type": "code",
   "execution_count": 25,
   "id": "971c9f22-03c6-444e-923c-5348ccb26d1b",
   "metadata": {},
   "outputs": [
    {
     "data": {
      "text/plain": [
       "Index(['class', 'age', 'sex', 'steroid', 'antivirals', 'fatigue', 'malaise',\n",
       "       'anorexia', 'liver_big', 'liver_firm', 'spleen_palpable', 'spiders',\n",
       "       'ascites', 'varices', 'bilirubin', 'alk_phosphate', 'sgot', 'albumin',\n",
       "       'protime', 'histology'],\n",
       "      dtype='object')"
      ]
     },
     "execution_count": 25,
     "metadata": {},
     "output_type": "execute_result"
    }
   ],
   "source": [
    "df.columns"
   ]
  },
  {
   "cell_type": "code",
   "execution_count": 26,
   "id": "71d2de00-987c-4abe-a7c6-030bc361c1fe",
   "metadata": {},
   "outputs": [
    {
     "data": {
      "text/html": [
       "<div>\n",
       "<style scoped>\n",
       "    .dataframe tbody tr th:only-of-type {\n",
       "        vertical-align: middle;\n",
       "    }\n",
       "\n",
       "    .dataframe tbody tr th {\n",
       "        vertical-align: top;\n",
       "    }\n",
       "\n",
       "    .dataframe thead th {\n",
       "        text-align: right;\n",
       "    }\n",
       "</style>\n",
       "<table border=\"1\" class=\"dataframe\">\n",
       "  <thead>\n",
       "    <tr style=\"text-align: right;\">\n",
       "      <th></th>\n",
       "      <th>class</th>\n",
       "      <th>age</th>\n",
       "      <th>sex</th>\n",
       "      <th>steroid</th>\n",
       "      <th>antivirals</th>\n",
       "      <th>fatigue</th>\n",
       "      <th>malaise</th>\n",
       "      <th>anorexia</th>\n",
       "      <th>liver_big</th>\n",
       "      <th>liver_firm</th>\n",
       "      <th>spleen_palpable</th>\n",
       "      <th>spiders</th>\n",
       "      <th>ascites</th>\n",
       "      <th>varices</th>\n",
       "      <th>bilirubin</th>\n",
       "      <th>alk_phosphate</th>\n",
       "      <th>sgot</th>\n",
       "      <th>albumin</th>\n",
       "      <th>protime</th>\n",
       "      <th>histology</th>\n",
       "    </tr>\n",
       "  </thead>\n",
       "  <tbody>\n",
       "    <tr>\n",
       "      <th>0</th>\n",
       "      <td>2</td>\n",
       "      <td>30</td>\n",
       "      <td>2</td>\n",
       "      <td>1</td>\n",
       "      <td>2</td>\n",
       "      <td>2</td>\n",
       "      <td>2</td>\n",
       "      <td>2</td>\n",
       "      <td>1</td>\n",
       "      <td>2</td>\n",
       "      <td>2</td>\n",
       "      <td>2</td>\n",
       "      <td>2</td>\n",
       "      <td>2</td>\n",
       "      <td>1.00</td>\n",
       "      <td>85</td>\n",
       "      <td>18</td>\n",
       "      <td>4.0</td>\n",
       "      <td>?</td>\n",
       "      <td>1</td>\n",
       "    </tr>\n",
       "    <tr>\n",
       "      <th>1</th>\n",
       "      <td>2</td>\n",
       "      <td>50</td>\n",
       "      <td>1</td>\n",
       "      <td>1</td>\n",
       "      <td>2</td>\n",
       "      <td>1</td>\n",
       "      <td>2</td>\n",
       "      <td>2</td>\n",
       "      <td>1</td>\n",
       "      <td>2</td>\n",
       "      <td>2</td>\n",
       "      <td>2</td>\n",
       "      <td>2</td>\n",
       "      <td>2</td>\n",
       "      <td>0.90</td>\n",
       "      <td>135</td>\n",
       "      <td>42</td>\n",
       "      <td>3.5</td>\n",
       "      <td>?</td>\n",
       "      <td>1</td>\n",
       "    </tr>\n",
       "    <tr>\n",
       "      <th>2</th>\n",
       "      <td>2</td>\n",
       "      <td>78</td>\n",
       "      <td>1</td>\n",
       "      <td>2</td>\n",
       "      <td>2</td>\n",
       "      <td>1</td>\n",
       "      <td>2</td>\n",
       "      <td>2</td>\n",
       "      <td>2</td>\n",
       "      <td>2</td>\n",
       "      <td>2</td>\n",
       "      <td>2</td>\n",
       "      <td>2</td>\n",
       "      <td>2</td>\n",
       "      <td>0.70</td>\n",
       "      <td>96</td>\n",
       "      <td>32</td>\n",
       "      <td>4.0</td>\n",
       "      <td>?</td>\n",
       "      <td>1</td>\n",
       "    </tr>\n",
       "    <tr>\n",
       "      <th>3</th>\n",
       "      <td>2</td>\n",
       "      <td>31</td>\n",
       "      <td>1</td>\n",
       "      <td>?</td>\n",
       "      <td>1</td>\n",
       "      <td>2</td>\n",
       "      <td>2</td>\n",
       "      <td>2</td>\n",
       "      <td>2</td>\n",
       "      <td>2</td>\n",
       "      <td>2</td>\n",
       "      <td>2</td>\n",
       "      <td>2</td>\n",
       "      <td>2</td>\n",
       "      <td>0.70</td>\n",
       "      <td>46</td>\n",
       "      <td>52</td>\n",
       "      <td>4.0</td>\n",
       "      <td>80</td>\n",
       "      <td>1</td>\n",
       "    </tr>\n",
       "    <tr>\n",
       "      <th>4</th>\n",
       "      <td>2</td>\n",
       "      <td>34</td>\n",
       "      <td>1</td>\n",
       "      <td>2</td>\n",
       "      <td>2</td>\n",
       "      <td>2</td>\n",
       "      <td>2</td>\n",
       "      <td>2</td>\n",
       "      <td>2</td>\n",
       "      <td>2</td>\n",
       "      <td>2</td>\n",
       "      <td>2</td>\n",
       "      <td>2</td>\n",
       "      <td>2</td>\n",
       "      <td>1.00</td>\n",
       "      <td>?</td>\n",
       "      <td>200</td>\n",
       "      <td>4.0</td>\n",
       "      <td>?</td>\n",
       "      <td>1</td>\n",
       "    </tr>\n",
       "  </tbody>\n",
       "</table>\n",
       "</div>"
      ],
      "text/plain": [
       "   class  age  sex steroid  antivirals fatigue malaise anorexia liver_big  \\\n",
       "0      2   30    2       1           2       2       2        2         1   \n",
       "1      2   50    1       1           2       1       2        2         1   \n",
       "2      2   78    1       2           2       1       2        2         2   \n",
       "3      2   31    1       ?           1       2       2        2         2   \n",
       "4      2   34    1       2           2       2       2        2         2   \n",
       "\n",
       "  liver_firm spleen_palpable spiders ascites varices bilirubin alk_phosphate  \\\n",
       "0          2               2       2       2       2      1.00            85   \n",
       "1          2               2       2       2       2      0.90           135   \n",
       "2          2               2       2       2       2      0.70            96   \n",
       "3          2               2       2       2       2      0.70            46   \n",
       "4          2               2       2       2       2      1.00             ?   \n",
       "\n",
       "  sgot albumin protime  histology  \n",
       "0   18     4.0       ?          1  \n",
       "1   42     3.5       ?          1  \n",
       "2   32     4.0       ?          1  \n",
       "3   52     4.0      80          1  \n",
       "4  200     4.0       ?          1  "
      ]
     },
     "execution_count": 26,
     "metadata": {},
     "output_type": "execute_result"
    }
   ],
   "source": [
    "df.head()"
   ]
  },
  {
   "cell_type": "code",
   "execution_count": 27,
   "id": "6d682e54-c024-41bb-952f-86072707dd87",
   "metadata": {},
   "outputs": [
    {
     "data": {
      "text/plain": [
       "(155, 20)"
      ]
     },
     "execution_count": 27,
     "metadata": {},
     "output_type": "execute_result"
    }
   ],
   "source": [
    "df.shape"
   ]
  },
  {
   "cell_type": "markdown",
   "id": "baa98ca1-0f2f-4ab1-a29c-5bf291cbb97c",
   "metadata": {},
   "source": [
    "#### OBSERVATIONS\n",
    "+ Data contain 155 rows and 20 columns"
   ]
  },
  {
   "cell_type": "code",
   "execution_count": 36,
   "id": "cf872e0b-b103-4681-b768-b1475b1a6945",
   "metadata": {},
   "outputs": [
    {
     "data": {
      "text/plain": [
       "class               0\n",
       "age                 0\n",
       "sex                 0\n",
       "steroid             1\n",
       "antivirals          0\n",
       "fatigue             1\n",
       "malaise             1\n",
       "anorexia            1\n",
       "liver_big          10\n",
       "liver_firm         11\n",
       "spleen_palpable     5\n",
       "spiders             5\n",
       "ascites             5\n",
       "varices             5\n",
       "bilirubin           6\n",
       "alk_phosphate      29\n",
       "sgot                4\n",
       "albumin            16\n",
       "protime            67\n",
       "histology           0\n",
       "dtype: int64"
      ]
     },
     "execution_count": 36,
     "metadata": {},
     "output_type": "execute_result"
    }
   ],
   "source": [
    "# Casting (?) to np.nan\n",
    "df = df.replace('?', np.nan)\n",
    "\n",
    "# Checking total missing values\n",
    "missing_val = df.isnull().sum()\n",
    "missing_val"
   ]
  },
  {
   "cell_type": "code",
   "execution_count": 37,
   "id": "73147433-ecc0-4c29-8775-28166d84c681",
   "metadata": {},
   "outputs": [
    {
     "data": {
      "text/plain": [
       "array([835.])"
      ]
     },
     "execution_count": 37,
     "metadata": {},
     "output_type": "execute_result"
    }
   ],
   "source": [
    "total_count = np.product(missing_val.sum())\n",
    "total_missing = total_count/missing_val.shape*100\n",
    "total_missing"
   ]
  },
  {
   "cell_type": "code",
   "execution_count": 16,
   "id": "ae91c226-8363-4e72-bc01-0858a4e17427",
   "metadata": {},
   "outputs": [
    {
     "data": {
      "text/plain": [
       "class               int64\n",
       "age                 int64\n",
       "sex                 int64\n",
       "steroid            object\n",
       "antivirals          int64\n",
       "fatigue            object\n",
       "malaise            object\n",
       "anorexia           object\n",
       "liver_big          object\n",
       "liver_firm         object\n",
       "spleen_palpable    object\n",
       "spiders            object\n",
       "ascites            object\n",
       "varices            object\n",
       "bilirubin          object\n",
       "alk_phosphate      object\n",
       "sgot               object\n",
       "albumin            object\n",
       "protime            object\n",
       "histology           int64\n",
       "dtype: object"
      ]
     },
     "execution_count": 16,
     "metadata": {},
     "output_type": "execute_result"
    }
   ],
   "source": [
    "# Data types\n",
    "df.dtypes"
   ]
  },
  {
   "cell_type": "code",
   "execution_count": 43,
   "id": "8f44235f-e84b-422e-a17f-1e9114cdb239",
   "metadata": {},
   "outputs": [],
   "source": [
    "# Replace missing values (np.nan) with 0\n",
    "df = df.replace(np.nan, 0)"
   ]
  },
  {
   "cell_type": "code",
   "execution_count": 44,
   "id": "5808a836-2620-41c4-8aeb-05bbdd8fabed",
   "metadata": {},
   "outputs": [
    {
     "data": {
      "text/html": [
       "<div>\n",
       "<style scoped>\n",
       "    .dataframe tbody tr th:only-of-type {\n",
       "        vertical-align: middle;\n",
       "    }\n",
       "\n",
       "    .dataframe tbody tr th {\n",
       "        vertical-align: top;\n",
       "    }\n",
       "\n",
       "    .dataframe thead th {\n",
       "        text-align: right;\n",
       "    }\n",
       "</style>\n",
       "<table border=\"1\" class=\"dataframe\">\n",
       "  <thead>\n",
       "    <tr style=\"text-align: right;\">\n",
       "      <th></th>\n",
       "      <th>class</th>\n",
       "      <th>age</th>\n",
       "      <th>sex</th>\n",
       "      <th>steroid</th>\n",
       "      <th>antivirals</th>\n",
       "      <th>fatigue</th>\n",
       "      <th>malaise</th>\n",
       "      <th>anorexia</th>\n",
       "      <th>liver_big</th>\n",
       "      <th>liver_firm</th>\n",
       "      <th>spleen_palpable</th>\n",
       "      <th>spiders</th>\n",
       "      <th>ascites</th>\n",
       "      <th>varices</th>\n",
       "      <th>bilirubin</th>\n",
       "      <th>alk_phosphate</th>\n",
       "      <th>sgot</th>\n",
       "      <th>albumin</th>\n",
       "      <th>protime</th>\n",
       "      <th>histology</th>\n",
       "    </tr>\n",
       "  </thead>\n",
       "  <tbody>\n",
       "    <tr>\n",
       "      <th>0</th>\n",
       "      <td>2</td>\n",
       "      <td>30</td>\n",
       "      <td>2</td>\n",
       "      <td>1</td>\n",
       "      <td>2</td>\n",
       "      <td>2</td>\n",
       "      <td>2</td>\n",
       "      <td>2</td>\n",
       "      <td>1</td>\n",
       "      <td>2</td>\n",
       "      <td>2</td>\n",
       "      <td>2</td>\n",
       "      <td>2</td>\n",
       "      <td>2</td>\n",
       "      <td>1.00</td>\n",
       "      <td>85</td>\n",
       "      <td>18</td>\n",
       "      <td>4.0</td>\n",
       "      <td>0</td>\n",
       "      <td>1</td>\n",
       "    </tr>\n",
       "    <tr>\n",
       "      <th>1</th>\n",
       "      <td>2</td>\n",
       "      <td>50</td>\n",
       "      <td>1</td>\n",
       "      <td>1</td>\n",
       "      <td>2</td>\n",
       "      <td>1</td>\n",
       "      <td>2</td>\n",
       "      <td>2</td>\n",
       "      <td>1</td>\n",
       "      <td>2</td>\n",
       "      <td>2</td>\n",
       "      <td>2</td>\n",
       "      <td>2</td>\n",
       "      <td>2</td>\n",
       "      <td>0.90</td>\n",
       "      <td>135</td>\n",
       "      <td>42</td>\n",
       "      <td>3.5</td>\n",
       "      <td>0</td>\n",
       "      <td>1</td>\n",
       "    </tr>\n",
       "    <tr>\n",
       "      <th>2</th>\n",
       "      <td>2</td>\n",
       "      <td>78</td>\n",
       "      <td>1</td>\n",
       "      <td>2</td>\n",
       "      <td>2</td>\n",
       "      <td>1</td>\n",
       "      <td>2</td>\n",
       "      <td>2</td>\n",
       "      <td>2</td>\n",
       "      <td>2</td>\n",
       "      <td>2</td>\n",
       "      <td>2</td>\n",
       "      <td>2</td>\n",
       "      <td>2</td>\n",
       "      <td>0.70</td>\n",
       "      <td>96</td>\n",
       "      <td>32</td>\n",
       "      <td>4.0</td>\n",
       "      <td>0</td>\n",
       "      <td>1</td>\n",
       "    </tr>\n",
       "    <tr>\n",
       "      <th>3</th>\n",
       "      <td>2</td>\n",
       "      <td>31</td>\n",
       "      <td>1</td>\n",
       "      <td>0</td>\n",
       "      <td>1</td>\n",
       "      <td>2</td>\n",
       "      <td>2</td>\n",
       "      <td>2</td>\n",
       "      <td>2</td>\n",
       "      <td>2</td>\n",
       "      <td>2</td>\n",
       "      <td>2</td>\n",
       "      <td>2</td>\n",
       "      <td>2</td>\n",
       "      <td>0.70</td>\n",
       "      <td>46</td>\n",
       "      <td>52</td>\n",
       "      <td>4.0</td>\n",
       "      <td>80</td>\n",
       "      <td>1</td>\n",
       "    </tr>\n",
       "    <tr>\n",
       "      <th>4</th>\n",
       "      <td>2</td>\n",
       "      <td>34</td>\n",
       "      <td>1</td>\n",
       "      <td>2</td>\n",
       "      <td>2</td>\n",
       "      <td>2</td>\n",
       "      <td>2</td>\n",
       "      <td>2</td>\n",
       "      <td>2</td>\n",
       "      <td>2</td>\n",
       "      <td>2</td>\n",
       "      <td>2</td>\n",
       "      <td>2</td>\n",
       "      <td>2</td>\n",
       "      <td>1.00</td>\n",
       "      <td>0</td>\n",
       "      <td>200</td>\n",
       "      <td>4.0</td>\n",
       "      <td>0</td>\n",
       "      <td>1</td>\n",
       "    </tr>\n",
       "  </tbody>\n",
       "</table>\n",
       "</div>"
      ],
      "text/plain": [
       "   class  age  sex steroid  antivirals fatigue malaise anorexia liver_big  \\\n",
       "0      2   30    2       1           2       2       2        2         1   \n",
       "1      2   50    1       1           2       1       2        2         1   \n",
       "2      2   78    1       2           2       1       2        2         2   \n",
       "3      2   31    1       0           1       2       2        2         2   \n",
       "4      2   34    1       2           2       2       2        2         2   \n",
       "\n",
       "  liver_firm spleen_palpable spiders ascites varices bilirubin alk_phosphate  \\\n",
       "0          2               2       2       2       2      1.00            85   \n",
       "1          2               2       2       2       2      0.90           135   \n",
       "2          2               2       2       2       2      0.70            96   \n",
       "3          2               2       2       2       2      0.70            46   \n",
       "4          2               2       2       2       2      1.00             0   \n",
       "\n",
       "  sgot albumin protime  histology  \n",
       "0   18     4.0       0          1  \n",
       "1   42     3.5       0          1  \n",
       "2   32     4.0       0          1  \n",
       "3   52     4.0      80          1  \n",
       "4  200     4.0       0          1  "
      ]
     },
     "execution_count": 44,
     "metadata": {},
     "output_type": "execute_result"
    }
   ],
   "source": [
    "df.head()"
   ]
  },
  {
   "cell_type": "code",
   "execution_count": 45,
   "id": "6d31e88e-1d5a-4d7a-ac17-3145db35b5fb",
   "metadata": {},
   "outputs": [
    {
     "data": {
      "text/plain": [
       "class               int64\n",
       "age                 int64\n",
       "sex                 int64\n",
       "steroid            object\n",
       "antivirals          int64\n",
       "fatigue            object\n",
       "malaise            object\n",
       "anorexia           object\n",
       "liver_big          object\n",
       "liver_firm         object\n",
       "spleen_palpable    object\n",
       "spiders            object\n",
       "ascites            object\n",
       "varices            object\n",
       "bilirubin          object\n",
       "alk_phosphate      object\n",
       "sgot               object\n",
       "albumin            object\n",
       "protime            object\n",
       "histology           int64\n",
       "dtype: object"
      ]
     },
     "execution_count": 45,
     "metadata": {},
     "output_type": "execute_result"
    }
   ],
   "source": [
    "# Data types\n",
    "df.dtypes"
   ]
  },
  {
   "cell_type": "code",
   "execution_count": 46,
   "id": "e66df99b-bd28-477d-9f34-b276d5a02e20",
   "metadata": {},
   "outputs": [
    {
     "data": {
      "text/plain": [
       "15"
      ]
     },
     "execution_count": 46,
     "metadata": {},
     "output_type": "execute_result"
    }
   ],
   "source": [
    "# Total columns with object\n",
    "sum(df.dtypes == 'object')\n"
   ]
  },
  {
   "cell_type": "code",
   "execution_count": 47,
   "id": "490130ba-455f-4c9d-b572-1d201abd495f",
   "metadata": {},
   "outputs": [
    {
     "data": {
      "text/plain": [
       "Index(['steroid', 'fatigue', 'malaise', 'anorexia', 'liver_big', 'liver_firm',\n",
       "       'spleen_palpable', 'spiders', 'ascites', 'varices', 'bilirubin',\n",
       "       'alk_phosphate', 'sgot', 'albumin', 'protime'],\n",
       "      dtype='object')"
      ]
     },
     "execution_count": 47,
     "metadata": {},
     "output_type": "execute_result"
    }
   ],
   "source": [
    "# List of columns with object \n",
    "df.columns[df.dtypes == 'object']"
   ]
  },
  {
   "cell_type": "markdown",
   "id": "56d7a141-e1c1-4761-a68b-1b7bb56ae0a3",
   "metadata": {},
   "source": [
    "#### OBSERVATIONS \n",
    "\n",
    "\n",
    "+ The dataset has 15 object and 5 int as the columns data format"
   ]
  },
  {
   "cell_type": "code",
   "execution_count": 49,
   "id": "c5b75dc3-994c-4b59-ac41-e74002b6c684",
   "metadata": {},
   "outputs": [],
   "source": [
    "# Casting\n",
    "# Converting the datatypes from one to another\n",
    "df[['steroid', 'fatigue', 'malaise', 'anorexia', 'liver_big', 'liver_firm',\n",
    "       'spleen_palpable', 'spiders', 'ascites', 'varices',\n",
    "       'alk_phosphate', 'sgot', 'protime']] = df[['steroid', 'fatigue', 'malaise', 'anorexia', 'liver_big', 'liver_firm',\n",
    "       'spleen_palpable', 'spiders', 'ascites', 'varices',\n",
    "       'alk_phosphate', 'sgot', 'protime']].astype(int)"
   ]
  },
  {
   "cell_type": "code",
   "execution_count": 50,
   "id": "ec624317-16a2-4222-8c2c-514a4c83b2ec",
   "metadata": {},
   "outputs": [],
   "source": [
    "df[['bilirubin', 'albumin']] = df[['bilirubin', 'albumin']].astype(float)"
   ]
  },
  {
   "cell_type": "code",
   "execution_count": 51,
   "id": "73c788d1-3da0-4063-9592-3a37c920425d",
   "metadata": {},
   "outputs": [
    {
     "data": {
      "text/plain": [
       "class                int64\n",
       "age                  int64\n",
       "sex                  int64\n",
       "steroid              int32\n",
       "antivirals           int64\n",
       "fatigue              int32\n",
       "malaise              int32\n",
       "anorexia             int32\n",
       "liver_big            int32\n",
       "liver_firm           int32\n",
       "spleen_palpable      int32\n",
       "spiders              int32\n",
       "ascites              int32\n",
       "varices              int32\n",
       "bilirubin          float64\n",
       "alk_phosphate        int32\n",
       "sgot                 int32\n",
       "albumin            float64\n",
       "protime              int32\n",
       "histology            int64\n",
       "dtype: object"
      ]
     },
     "execution_count": 51,
     "metadata": {},
     "output_type": "execute_result"
    }
   ],
   "source": [
    "df.dtypes"
   ]
  },
  {
   "cell_type": "markdown",
   "id": "9bbe4e7c-ac91-485c-912a-a037934ae9cd",
   "metadata": {},
   "source": [
    "+ Datatype converted from object to int and float\n",
    "+ Dataset has 18 int and 2 float"
   ]
  },
  {
   "cell_type": "markdown",
   "id": "bb929eb7-398c-4b67-bd27-12fc75154271",
   "metadata": {},
   "source": [
    "# Exploratory Data Analysis (EDA)\n",
    "> ##### Descriptive analytics"
   ]
  },
  {
   "cell_type": "code",
   "execution_count": 52,
   "id": "ece87a4d-1c26-446f-9699-2980a290cf72",
   "metadata": {},
   "outputs": [
    {
     "data": {
      "text/html": [
       "<div>\n",
       "<style scoped>\n",
       "    .dataframe tbody tr th:only-of-type {\n",
       "        vertical-align: middle;\n",
       "    }\n",
       "\n",
       "    .dataframe tbody tr th {\n",
       "        vertical-align: top;\n",
       "    }\n",
       "\n",
       "    .dataframe thead th {\n",
       "        text-align: right;\n",
       "    }\n",
       "</style>\n",
       "<table border=\"1\" class=\"dataframe\">\n",
       "  <thead>\n",
       "    <tr style=\"text-align: right;\">\n",
       "      <th></th>\n",
       "      <th>class</th>\n",
       "      <th>age</th>\n",
       "      <th>sex</th>\n",
       "      <th>steroid</th>\n",
       "      <th>antivirals</th>\n",
       "      <th>fatigue</th>\n",
       "      <th>malaise</th>\n",
       "      <th>anorexia</th>\n",
       "      <th>liver_big</th>\n",
       "      <th>liver_firm</th>\n",
       "      <th>spleen_palpable</th>\n",
       "      <th>spiders</th>\n",
       "      <th>ascites</th>\n",
       "      <th>varices</th>\n",
       "      <th>bilirubin</th>\n",
       "      <th>alk_phosphate</th>\n",
       "      <th>sgot</th>\n",
       "      <th>albumin</th>\n",
       "      <th>protime</th>\n",
       "      <th>histology</th>\n",
       "    </tr>\n",
       "  </thead>\n",
       "  <tbody>\n",
       "    <tr>\n",
       "      <th>count</th>\n",
       "      <td>155.000000</td>\n",
       "      <td>155.000000</td>\n",
       "      <td>155.000000</td>\n",
       "      <td>155.000000</td>\n",
       "      <td>155.000000</td>\n",
       "      <td>155.000000</td>\n",
       "      <td>155.000000</td>\n",
       "      <td>155.000000</td>\n",
       "      <td>155.000000</td>\n",
       "      <td>155.000000</td>\n",
       "      <td>155.000000</td>\n",
       "      <td>155.000000</td>\n",
       "      <td>155.000000</td>\n",
       "      <td>155.000000</td>\n",
       "      <td>155.000000</td>\n",
       "      <td>155.000000</td>\n",
       "      <td>155.000000</td>\n",
       "      <td>155.000000</td>\n",
       "      <td>155.000000</td>\n",
       "      <td>155.000000</td>\n",
       "    </tr>\n",
       "    <tr>\n",
       "      <th>mean</th>\n",
       "      <td>1.793548</td>\n",
       "      <td>41.200000</td>\n",
       "      <td>1.103226</td>\n",
       "      <td>1.496774</td>\n",
       "      <td>1.845161</td>\n",
       "      <td>1.341935</td>\n",
       "      <td>1.593548</td>\n",
       "      <td>1.780645</td>\n",
       "      <td>1.709677</td>\n",
       "      <td>1.470968</td>\n",
       "      <td>1.741935</td>\n",
       "      <td>1.606452</td>\n",
       "      <td>1.806452</td>\n",
       "      <td>1.819355</td>\n",
       "      <td>1.372258</td>\n",
       "      <td>85.619355</td>\n",
       "      <td>83.677419</td>\n",
       "      <td>3.423226</td>\n",
       "      <td>35.116129</td>\n",
       "      <td>1.451613</td>\n",
       "    </tr>\n",
       "    <tr>\n",
       "      <th>std</th>\n",
       "      <td>0.406070</td>\n",
       "      <td>12.565878</td>\n",
       "      <td>0.305240</td>\n",
       "      <td>0.514393</td>\n",
       "      <td>0.362923</td>\n",
       "      <td>0.489350</td>\n",
       "      <td>0.505769</td>\n",
       "      <td>0.430508</td>\n",
       "      <td>0.580727</td>\n",
       "      <td>0.627401</td>\n",
       "      <td>0.507588</td>\n",
       "      <td>0.552406</td>\n",
       "      <td>0.471207</td>\n",
       "      <td>0.462503</td>\n",
       "      <td>1.219992</td>\n",
       "      <td>62.061686</td>\n",
       "      <td>89.527688</td>\n",
       "      <td>1.318343</td>\n",
       "      <td>35.221923</td>\n",
       "      <td>0.499266</td>\n",
       "    </tr>\n",
       "    <tr>\n",
       "      <th>min</th>\n",
       "      <td>1.000000</td>\n",
       "      <td>7.000000</td>\n",
       "      <td>1.000000</td>\n",
       "      <td>0.000000</td>\n",
       "      <td>1.000000</td>\n",
       "      <td>0.000000</td>\n",
       "      <td>0.000000</td>\n",
       "      <td>0.000000</td>\n",
       "      <td>0.000000</td>\n",
       "      <td>0.000000</td>\n",
       "      <td>0.000000</td>\n",
       "      <td>0.000000</td>\n",
       "      <td>0.000000</td>\n",
       "      <td>0.000000</td>\n",
       "      <td>0.000000</td>\n",
       "      <td>0.000000</td>\n",
       "      <td>0.000000</td>\n",
       "      <td>0.000000</td>\n",
       "      <td>0.000000</td>\n",
       "      <td>1.000000</td>\n",
       "    </tr>\n",
       "    <tr>\n",
       "      <th>25%</th>\n",
       "      <td>2.000000</td>\n",
       "      <td>32.000000</td>\n",
       "      <td>1.000000</td>\n",
       "      <td>1.000000</td>\n",
       "      <td>2.000000</td>\n",
       "      <td>1.000000</td>\n",
       "      <td>1.000000</td>\n",
       "      <td>2.000000</td>\n",
       "      <td>2.000000</td>\n",
       "      <td>1.000000</td>\n",
       "      <td>2.000000</td>\n",
       "      <td>1.000000</td>\n",
       "      <td>2.000000</td>\n",
       "      <td>2.000000</td>\n",
       "      <td>0.700000</td>\n",
       "      <td>51.000000</td>\n",
       "      <td>30.500000</td>\n",
       "      <td>3.050000</td>\n",
       "      <td>0.000000</td>\n",
       "      <td>1.000000</td>\n",
       "    </tr>\n",
       "    <tr>\n",
       "      <th>50%</th>\n",
       "      <td>2.000000</td>\n",
       "      <td>39.000000</td>\n",
       "      <td>1.000000</td>\n",
       "      <td>2.000000</td>\n",
       "      <td>2.000000</td>\n",
       "      <td>1.000000</td>\n",
       "      <td>2.000000</td>\n",
       "      <td>2.000000</td>\n",
       "      <td>2.000000</td>\n",
       "      <td>2.000000</td>\n",
       "      <td>2.000000</td>\n",
       "      <td>2.000000</td>\n",
       "      <td>2.000000</td>\n",
       "      <td>2.000000</td>\n",
       "      <td>1.000000</td>\n",
       "      <td>84.000000</td>\n",
       "      <td>55.000000</td>\n",
       "      <td>3.900000</td>\n",
       "      <td>35.000000</td>\n",
       "      <td>1.000000</td>\n",
       "    </tr>\n",
       "    <tr>\n",
       "      <th>75%</th>\n",
       "      <td>2.000000</td>\n",
       "      <td>50.000000</td>\n",
       "      <td>1.000000</td>\n",
       "      <td>2.000000</td>\n",
       "      <td>2.000000</td>\n",
       "      <td>2.000000</td>\n",
       "      <td>2.000000</td>\n",
       "      <td>2.000000</td>\n",
       "      <td>2.000000</td>\n",
       "      <td>2.000000</td>\n",
       "      <td>2.000000</td>\n",
       "      <td>2.000000</td>\n",
       "      <td>2.000000</td>\n",
       "      <td>2.000000</td>\n",
       "      <td>1.500000</td>\n",
       "      <td>119.500000</td>\n",
       "      <td>99.000000</td>\n",
       "      <td>4.200000</td>\n",
       "      <td>65.000000</td>\n",
       "      <td>2.000000</td>\n",
       "    </tr>\n",
       "    <tr>\n",
       "      <th>max</th>\n",
       "      <td>2.000000</td>\n",
       "      <td>78.000000</td>\n",
       "      <td>2.000000</td>\n",
       "      <td>2.000000</td>\n",
       "      <td>2.000000</td>\n",
       "      <td>2.000000</td>\n",
       "      <td>2.000000</td>\n",
       "      <td>2.000000</td>\n",
       "      <td>2.000000</td>\n",
       "      <td>2.000000</td>\n",
       "      <td>2.000000</td>\n",
       "      <td>2.000000</td>\n",
       "      <td>2.000000</td>\n",
       "      <td>2.000000</td>\n",
       "      <td>8.000000</td>\n",
       "      <td>295.000000</td>\n",
       "      <td>648.000000</td>\n",
       "      <td>6.400000</td>\n",
       "      <td>100.000000</td>\n",
       "      <td>2.000000</td>\n",
       "    </tr>\n",
       "  </tbody>\n",
       "</table>\n",
       "</div>"
      ],
      "text/plain": [
       "            class         age         sex     steroid  antivirals     fatigue  \\\n",
       "count  155.000000  155.000000  155.000000  155.000000  155.000000  155.000000   \n",
       "mean     1.793548   41.200000    1.103226    1.496774    1.845161    1.341935   \n",
       "std      0.406070   12.565878    0.305240    0.514393    0.362923    0.489350   \n",
       "min      1.000000    7.000000    1.000000    0.000000    1.000000    0.000000   \n",
       "25%      2.000000   32.000000    1.000000    1.000000    2.000000    1.000000   \n",
       "50%      2.000000   39.000000    1.000000    2.000000    2.000000    1.000000   \n",
       "75%      2.000000   50.000000    1.000000    2.000000    2.000000    2.000000   \n",
       "max      2.000000   78.000000    2.000000    2.000000    2.000000    2.000000   \n",
       "\n",
       "          malaise    anorexia   liver_big  liver_firm  spleen_palpable  \\\n",
       "count  155.000000  155.000000  155.000000  155.000000       155.000000   \n",
       "mean     1.593548    1.780645    1.709677    1.470968         1.741935   \n",
       "std      0.505769    0.430508    0.580727    0.627401         0.507588   \n",
       "min      0.000000    0.000000    0.000000    0.000000         0.000000   \n",
       "25%      1.000000    2.000000    2.000000    1.000000         2.000000   \n",
       "50%      2.000000    2.000000    2.000000    2.000000         2.000000   \n",
       "75%      2.000000    2.000000    2.000000    2.000000         2.000000   \n",
       "max      2.000000    2.000000    2.000000    2.000000         2.000000   \n",
       "\n",
       "          spiders     ascites     varices   bilirubin  alk_phosphate  \\\n",
       "count  155.000000  155.000000  155.000000  155.000000     155.000000   \n",
       "mean     1.606452    1.806452    1.819355    1.372258      85.619355   \n",
       "std      0.552406    0.471207    0.462503    1.219992      62.061686   \n",
       "min      0.000000    0.000000    0.000000    0.000000       0.000000   \n",
       "25%      1.000000    2.000000    2.000000    0.700000      51.000000   \n",
       "50%      2.000000    2.000000    2.000000    1.000000      84.000000   \n",
       "75%      2.000000    2.000000    2.000000    1.500000     119.500000   \n",
       "max      2.000000    2.000000    2.000000    8.000000     295.000000   \n",
       "\n",
       "             sgot     albumin     protime   histology  \n",
       "count  155.000000  155.000000  155.000000  155.000000  \n",
       "mean    83.677419    3.423226   35.116129    1.451613  \n",
       "std     89.527688    1.318343   35.221923    0.499266  \n",
       "min      0.000000    0.000000    0.000000    1.000000  \n",
       "25%     30.500000    3.050000    0.000000    1.000000  \n",
       "50%     55.000000    3.900000   35.000000    1.000000  \n",
       "75%     99.000000    4.200000   65.000000    2.000000  \n",
       "max    648.000000    6.400000  100.000000    2.000000  "
      ]
     },
     "execution_count": 52,
     "metadata": {},
     "output_type": "execute_result"
    }
   ],
   "source": [
    "df.describe()"
   ]
  },
  {
   "cell_type": "markdown",
   "id": "8f791a7d-314b-4812-9634-a77b0a55faf1",
   "metadata": {},
   "source": [
    "#### OBSERVATIONS\n",
    "+ **class**: class column is the target which contains 1 and 2\n",
    "+ **age**: the average patient is 41 years, the youngest is 7 years while the oldest patient is 78 years\n",
    "+ **sex**: majority of the patient appears to the male with about 75%"
   ]
  },
  {
   "cell_type": "code",
   "execution_count": 54,
   "id": "56c7b349-2811-41a1-8b06-f90d8a9c7f51",
   "metadata": {},
   "outputs": [
    {
     "data": {
      "text/plain": [
       "class\n",
       "2    123\n",
       "1     32\n",
       "Name: count, dtype: int64"
      ]
     },
     "execution_count": 54,
     "metadata": {},
     "output_type": "execute_result"
    }
   ],
   "source": [
    "df['class'].value_counts()"
   ]
  },
  {
   "cell_type": "markdown",
   "id": "a0cd25ac-3605-4e58-a56d-f07453d57c94",
   "metadata": {},
   "source": [
    "#### NARATIVES\n",
    "+ Die is 1 and Live is 2"
   ]
  },
  {
   "cell_type": "code",
   "execution_count": 55,
   "id": "73f777db-45a3-4e0e-a925-331837c66072",
   "metadata": {
    "tags": []
   },
   "outputs": [
    {
     "data": {
      "text/plain": [
       "<Axes: xlabel='class'>"
      ]
     },
     "execution_count": 55,
     "metadata": {},
     "output_type": "execute_result"
    },
    {
     "data": {
      "image/png": "[encoded data removed]",
      "text/plain": [
       "<Figure size 640x480 with 1 Axes>"
      ]
     },
     "metadata": {},
     "output_type": "display_data"
    }
   ],
   "source": [
    "df['class'].value_counts().plot(kind='bar')"
   ]
  },
  {
   "cell_type": "code",
   "execution_count": 59,
   "id": "8b02f072-ba79-4e21-8d95-ddd2f5d49fd7",
   "metadata": {},
   "outputs": [
    {
     "data": {
      "text/plain": [
       "age  sex\n",
       "7    1      1\n",
       "20   1      2\n",
       "     2      1\n",
       "22   1      1\n",
       "     2      1\n",
       "23   1      4\n",
       "24   1      2\n",
       "25   1      2\n",
       "     2      1\n",
       "26   2      1\n",
       "27   1      4\n",
       "28   1      4\n",
       "     2      1\n",
       "30   1      7\n",
       "     2      1\n",
       "31   1      4\n",
       "32   1      4\n",
       "33   1      3\n",
       "34   1      6\n",
       "     2      2\n",
       "35   1      2\n",
       "36   1      7\n",
       "37   1      5\n",
       "38   1      8\n",
       "39   1      6\n",
       "40   1      3\n",
       "41   1      2\n",
       "     2      1\n",
       "42   1      5\n",
       "43   1      1\n",
       "44   1      5\n",
       "45   1      4\n",
       "     2      1\n",
       "46   1      1\n",
       "47   1      4\n",
       "48   1      2\n",
       "49   1      3\n",
       "50   1      5\n",
       "     2      1\n",
       "51   1      6\n",
       "52   1      3\n",
       "53   2      1\n",
       "54   1      5\n",
       "56   1      3\n",
       "57   1      2\n",
       "58   1      1\n",
       "     2      1\n",
       "59   1      1\n",
       "60   1      1\n",
       "61   1      3\n",
       "62   1      1\n",
       "     2      1\n",
       "64   1      1\n",
       "65   1      1\n",
       "66   1      1\n",
       "67   2      1\n",
       "69   2      1\n",
       "70   1      1\n",
       "72   1      1\n",
       "78   1      1\n",
       "dtype: int64"
      ]
     },
     "execution_count": 59,
     "metadata": {},
     "output_type": "execute_result"
    }
   ],
   "source": [
    "# Age Range\n",
    "df.groupby(['age','sex']).size()"
   ]
  },
  {
   "cell_type": "markdown",
   "id": "7fbbda0a-36b5-4958-8e12-ac5b568457fa",
   "metadata": {},
   "source": [
    "##### Re-group Age Range using Frequency Distribution Table"
   ]
  },
  {
   "cell_type": "code",
   "execution_count": 63,
   "id": "adf78ff3-cecd-4d1d-9fc6-a34c6966b159",
   "metadata": {},
   "outputs": [
    {
     "data": {
      "text/plain": [
       "7"
      ]
     },
     "execution_count": 63,
     "metadata": {},
     "output_type": "execute_result"
    }
   ],
   "source": [
    "df['age'].min() # Minimum age"
   ]
  },
  {
   "cell_type": "code",
   "execution_count": 64,
   "id": "640c4fd5-2395-4784-b248-b9336d8122ff",
   "metadata": {},
   "outputs": [
    {
     "data": {
      "text/plain": [
       "78"
      ]
     },
     "execution_count": 64,
     "metadata": {},
     "output_type": "execute_result"
    }
   ],
   "source": [
    "df['age'].max() # Maximum/Oldest age "
   ]
  },
  {
   "cell_type": "code",
   "execution_count": null,
   "id": "9e2437f0-a4ae-4ca8-8432-73b9b7353afb",
   "metadata": {},
   "outputs": [
    {
     "data": {
      "text/plain": [
       "array([ 7.   , 15.875, 24.75 , 33.625, 42.5  , 51.375, 60.25 , 69.125,\n",
       "       78.   ])"
      ]
     },
     "execution_count": 69,
     "metadata": {},
     "output_type": "execute_result"
    }
   ],
   "source": [
    "bins = np.linspace(min(df['age']), max(df['age']), 9)\n",
    "bins"
   ]
  },
  {
   "cell_type": "code",
   "execution_count": 80,
   "id": "ea2ab192-4309-4bd3-aa6f-8d738587dd6f",
   "metadata": {},
   "outputs": [],
   "source": [
    "# re-group using Frequency Distribution for more information \n",
    "labels = ['less than 10', '10-20', '20-30', '30-40', '40-50', '50-60', '60-70', '70 and above']\n",
    "bins = [0, 10, 20, 30, 40, 50, 60, 70, 80]\n",
    "#bins = np.linspace(min(df['age']), max(df['age']), 9)\n",
    "freq_dis = df.groupby(pd.cut(df['age'], bins=bins, labels=labels, include_lowest=True)).size()"
   ]
  },
  {
   "cell_type": "code",
   "execution_count": 81,
   "id": "cee7a075-8ee3-4142-ab23-3420e032b4a5",
   "metadata": {},
   "outputs": [
    {
     "data": {
      "text/plain": [
       "age\n",
       "less than 10     1\n",
       "10-20            3\n",
       "20-30           29\n",
       "30-40           50\n",
       "40-50           35\n",
       "50-60           24\n",
       "60-70           11\n",
       "70 and above     2\n",
       "dtype: int64"
      ]
     },
     "execution_count": 81,
     "metadata": {},
     "output_type": "execute_result"
    }
   ],
   "source": [
    "freq_dis"
   ]
  },
  {
   "cell_type": "code",
   "execution_count": 82,
   "id": "ca36bcdd-357a-4fab-a1cb-8e322cded5b7",
   "metadata": {},
   "outputs": [
    {
     "data": {
      "text/html": [
       "<div>\n",
       "<style scoped>\n",
       "    .dataframe tbody tr th:only-of-type {\n",
       "        vertical-align: middle;\n",
       "    }\n",
       "\n",
       "    .dataframe tbody tr th {\n",
       "        vertical-align: top;\n",
       "    }\n",
       "\n",
       "    .dataframe thead th {\n",
       "        text-align: right;\n",
       "    }\n",
       "</style>\n",
       "<table border=\"1\" class=\"dataframe\">\n",
       "  <thead>\n",
       "    <tr style=\"text-align: right;\">\n",
       "      <th></th>\n",
       "      <th>age</th>\n",
       "      <th>count</th>\n",
       "    </tr>\n",
       "  </thead>\n",
       "  <tbody>\n",
       "    <tr>\n",
       "      <th>0</th>\n",
       "      <td>less than 10</td>\n",
       "      <td>1</td>\n",
       "    </tr>\n",
       "    <tr>\n",
       "      <th>1</th>\n",
       "      <td>10-20</td>\n",
       "      <td>3</td>\n",
       "    </tr>\n",
       "    <tr>\n",
       "      <th>2</th>\n",
       "      <td>20-30</td>\n",
       "      <td>29</td>\n",
       "    </tr>\n",
       "    <tr>\n",
       "      <th>3</th>\n",
       "      <td>30-40</td>\n",
       "      <td>50</td>\n",
       "    </tr>\n",
       "    <tr>\n",
       "      <th>4</th>\n",
       "      <td>40-50</td>\n",
       "      <td>35</td>\n",
       "    </tr>\n",
       "    <tr>\n",
       "      <th>5</th>\n",
       "      <td>50-60</td>\n",
       "      <td>24</td>\n",
       "    </tr>\n",
       "    <tr>\n",
       "      <th>6</th>\n",
       "      <td>60-70</td>\n",
       "      <td>11</td>\n",
       "    </tr>\n",
       "    <tr>\n",
       "      <th>7</th>\n",
       "      <td>70 and above</td>\n",
       "      <td>2</td>\n",
       "    </tr>\n",
       "  </tbody>\n",
       "</table>\n",
       "</div>"
      ],
      "text/plain": [
       "            age  count\n",
       "0  less than 10      1\n",
       "1         10-20      3\n",
       "2         20-30     29\n",
       "3         30-40     50\n",
       "4         40-50     35\n",
       "5         50-60     24\n",
       "6         60-70     11\n",
       "7  70 and above      2"
      ]
     },
     "execution_count": 82,
     "metadata": {},
     "output_type": "execute_result"
    }
   ],
   "source": [
    "freq_dis.reset_index(name='count')"
   ]
  },
  {
   "cell_type": "code",
   "execution_count": null,
   "id": "68f31f05-fdac-44f9-98e5-1170e5ba90cc",
   "metadata": {},
   "outputs": [
    {
     "data": {
      "text/html": [
       "<div>\n",
       "<style scoped>\n",
       "    .dataframe tbody tr th:only-of-type {\n",
       "        vertical-align: middle;\n",
       "    }\n",
       "\n",
       "    .dataframe tbody tr th {\n",
       "        vertical-align: top;\n",
       "    }\n",
       "\n",
       "    .dataframe thead th {\n",
       "        text-align: right;\n",
       "    }\n",
       "</style>\n",
       "<table border=\"1\" class=\"dataframe\">\n",
       "  <thead>\n",
       "    <tr style=\"text-align: right;\">\n",
       "      <th></th>\n",
       "      <th>age</th>\n",
       "      <th>sex</th>\n",
       "      <th>class</th>\n",
       "      <th>count</th>\n",
       "    </tr>\n",
       "  </thead>\n",
       "  <tbody>\n",
       "    <tr>\n",
       "      <th>0</th>\n",
       "      <td>7</td>\n",
       "      <td>1</td>\n",
       "      <td>2</td>\n",
       "      <td>1</td>\n",
       "    </tr>\n",
       "    <tr>\n",
       "      <th>1</th>\n",
       "      <td>20</td>\n",
       "      <td>1</td>\n",
       "      <td>2</td>\n",
       "      <td>2</td>\n",
       "    </tr>\n",
       "    <tr>\n",
       "      <th>2</th>\n",
       "      <td>20</td>\n",
       "      <td>2</td>\n",
       "      <td>2</td>\n",
       "      <td>1</td>\n",
       "    </tr>\n",
       "    <tr>\n",
       "      <th>3</th>\n",
       "      <td>22</td>\n",
       "      <td>1</td>\n",
       "      <td>2</td>\n",
       "      <td>1</td>\n",
       "    </tr>\n",
       "    <tr>\n",
       "      <th>4</th>\n",
       "      <td>22</td>\n",
       "      <td>2</td>\n",
       "      <td>2</td>\n",
       "      <td>1</td>\n",
       "    </tr>\n",
       "    <tr>\n",
       "      <th>...</th>\n",
       "      <td>...</td>\n",
       "      <td>...</td>\n",
       "      <td>...</td>\n",
       "      <td>...</td>\n",
       "    </tr>\n",
       "    <tr>\n",
       "      <th>75</th>\n",
       "      <td>67</td>\n",
       "      <td>2</td>\n",
       "      <td>2</td>\n",
       "      <td>1</td>\n",
       "    </tr>\n",
       "    <tr>\n",
       "      <th>76</th>\n",
       "      <td>69</td>\n",
       "      <td>2</td>\n",
       "      <td>2</td>\n",
       "      <td>1</td>\n",
       "    </tr>\n",
       "    <tr>\n",
       "      <th>77</th>\n",
       "      <td>70</td>\n",
       "      <td>1</td>\n",
       "      <td>1</td>\n",
       "      <td>1</td>\n",
       "    </tr>\n",
       "    <tr>\n",
       "      <th>78</th>\n",
       "      <td>72</td>\n",
       "      <td>1</td>\n",
       "      <td>2</td>\n",
       "      <td>1</td>\n",
       "    </tr>\n",
       "    <tr>\n",
       "      <th>79</th>\n",
       "      <td>78</td>\n",
       "      <td>1</td>\n",
       "      <td>2</td>\n",
       "      <td>1</td>\n",
       "    </tr>\n",
       "  </tbody>\n",
       "</table>\n",
       "<p>80 rows × 4 columns</p>\n",
       "</div>"
      ],
      "text/plain": [
       "    age  sex  class  count\n",
       "0     7    1      2      1\n",
       "1    20    1      2      2\n",
       "2    20    2      2      1\n",
       "3    22    1      2      1\n",
       "4    22    2      2      1\n",
       "..  ...  ...    ...    ...\n",
       "75   67    2      2      1\n",
       "76   69    2      2      1\n",
       "77   70    1      1      1\n",
       "78   72    1      2      1\n",
       "79   78    1      2      1\n",
       "\n",
       "[80 rows x 4 columns]"
      ]
     },
     "execution_count": 85,
     "metadata": {},
     "output_type": "execute_result"
    }
   ],
   "source": [
    "age_test = df[['age', 'sex', 'class']]\n",
    "age_grp = age_test.groupby(['age', 'sex'], as_index=False).value_counts()\n",
    "age_grp"
   ]
  },
  {
   "cell_type": "code",
   "execution_count": 94,
   "id": "d9c71140-d62f-47eb-b156-6797c2a4fff6",
   "metadata": {},
   "outputs": [
    {
     "data": {
      "image/png": "[encoded data removed]",
      "text/plain": [
       "<Figure size 640x480 with 1 Axes>"
      ]
     },
     "metadata": {},
     "output_type": "display_data"
    }
   ],
   "source": [
    "plt.bar(freq_dis['age'], freq_dis['count'])\n",
    "plt.ylabel('Count')\n",
    "plt.title('Age distribution')\n",
    "plt.show()"
   ]
  },
  {
   "cell_type": "markdown",
   "id": "aa45acaa-6a8c-41eb-a135-b91ec4561e7a",
   "metadata": {},
   "source": [
    "#### OBSERVATION\n",
    "+ The most infected with hepatitis is between the age 20 to 60 years\n",
    "+ The highest prevalence of Hepatitis occurs between the age of 30 to 40 years"
   ]
  },
  {
   "cell_type": "code",
   "execution_count": 95,
   "id": "e4558aa7-ae26-4661-bd93-d56e0b60c2df",
   "metadata": {},
   "outputs": [
    {
     "data": {
      "image/png": "[encoded data removed]",
      "text/plain": [
       "<Figure size 640x480 with 1 Axes>"
      ]
     },
     "metadata": {},
     "output_type": "display_data"
    }
   ],
   "source": [
    "# Pie Chart Viz\n",
    "labels = ['< 10', '10-20', '20-30', '30-40', '40-50', '50-60', '60-70', '> 70']\n",
    "fig, ax1 = plt.subplots()\n",
    "ax1.pie(freq_dis['count'], labels=labels, autopct='1%.1f%%')\n",
    "ax1.axis('equal')\n",
    "plt.show()"
   ]
  },
  {
   "cell_type": "markdown",
   "id": "38ce72aa-834b-4fbc-8efa-efd63ac7566e",
   "metadata": {},
   "source": [
    "#### Detecting Outliers\n",
    "+ Univariate Analysis\n",
    "+ Multivariate Analyis\n",
    "\n",
    "#### Methods\n",
    "+ Boxplot \n",
    "+ Scatter \n",
    "+ Z-score \n",
    "+ Interquartile Range (IQR)"
   ]
  },
  {
   "cell_type": "code",
   "execution_count": null,
   "id": "3210e080-b4d9-4ae1-9c47-ad51efc21af5",
   "metadata": {},
   "outputs": [],
   "source": []
  }
 ],
 "metadata": {
  "kernelspec": {
   "display_name": "PyTensorFlow",
   "language": "python",
   "name": "py_tf"
  },
  "language_info": {
   "codemirror_mode": {
    "name": "ipython",
    "version": 3
   },
   "file_extension": ".py",
   "mimetype": "text/x-python",
   "name": "python",
   "nbconvert_exporter": "python",
   "pygments_lexer": "ipython3",
   "version": "3.11.4"
  },
  "widgets": {
   "application/vnd.jupyter.widget-state+json": {
    "state": {},
    "version_major": 2,
    "version_minor": 0
   }
  }
 },
 "nbformat": 4,
 "nbformat_minor": 5
}
